{
  "nbformat": 4,
  "nbformat_minor": 0,
  "metadata": {
    "colab": {
      "name": "“成功得到AP[实验结果]”3000次",
      "provenance": [],
      "collapsed_sections": [],
      "toc_visible": true,
      "include_colab_link": true
    },
    "kernelspec": {
      "name": "python3",
      "display_name": "Python 3"
    },
    "accelerator": "GPU"
  },
  "cells": [
    {
      "cell_type": "markdown",
      "metadata": {
        "id": "view-in-github",
        "colab_type": "text"
      },
      "source": [
        "<a href=\"https://colab.research.google.com/github/SiHanWang2Developer/data/blob/master/pointrend%E6%9C%89546%E6%95%B0%E6%8D%AE%E8%AE%AD%E7%BB%8318000%E6%AC%A1.ipynb\" target=\"_parent\"><img src=\"https://colab.research.google.com/assets/colab-badge.svg\" alt=\"Open In Colab\"/></a>"
      ]
    },
    {
      "cell_type": "markdown",
      "metadata": {
        "id": "QHnVupBBn9eR",
        "colab_type": "text"
      },
      "source": [
        "# [How to train Detectron2 with Custom COCO Datasets](https://www.dlology.com/blog/how-to-train-detectron2-with-custom-coco-datasets/) | DLology\n",
        "\n",
        "<img src=\"https://dl.fbaipublicfiles.com/detectron2/Detectron2-Logo-Horz.png\" width=\"500\">\n",
        "\n",
        "This notebook will help you get started with this framwork by training a instance segmentation model with your custom COCO datasets."
      ]
    },
    {
      "cell_type": "markdown",
      "metadata": {
        "id": "2bVqmEoGK4jf",
        "colab_type": "text"
      },
      "source": [
        "本文参考https://colab.research.google.com/drive/16jcaJoc6bCFAQ96jDe2HwtXj7BMD_-m5"
      ]
    },
    {
      "cell_type": "code",
      "metadata": {
        "id": "jVDC4G20IuIm",
        "colab_type": "code",
        "colab": {
          "base_uri": "https://localhost:8080/",
          "height": 315
        },
        "outputId": "5f8a5e3e-3818-4044-dca7-091c897baae1"
      },
      "source": [
        "!/opt/bin/nvidia-smi"
      ],
      "execution_count": 1,
      "outputs": [
        {
          "output_type": "stream",
          "text": [
            "Sat Jun 20 03:37:20 2020       \n",
            "+-----------------------------------------------------------------------------+\n",
            "| NVIDIA-SMI 418.67       Driver Version: 418.67       CUDA Version: 10.1     |\n",
            "|-------------------------------+----------------------+----------------------+\n",
            "| GPU  Name        Persistence-M| Bus-Id        Disp.A | Volatile Uncorr. ECC |\n",
            "| Fan  Temp  Perf  Pwr:Usage/Cap|         Memory-Usage | GPU-Util  Compute M. |\n",
            "|===============================+======================+======================|\n",
            "|   0  Tesla P100-PCIE...  Off  | 00000000:00:04.0 Off |                    0 |\n",
            "| N/A   50C    P0    29W / 250W |      0MiB / 16280MiB |      0%      Default |\n",
            "+-------------------------------+----------------------+----------------------+\n",
            "                                                                               \n",
            "+-----------------------------------------------------------------------------+\n",
            "| Processes:                                                       GPU Memory |\n",
            "|  GPU       PID   Type   Process name                             Usage      |\n",
            "|=============================================================================|\n",
            "|  No running processes found                                                 |\n",
            "+-----------------------------------------------------------------------------+\n"
          ],
          "name": "stdout"
        }
      ]
    },
    {
      "cell_type": "markdown",
      "metadata": {
        "id": "vM54r6jlKTII",
        "colab_type": "text"
      },
      "source": [
        "# Install detectron2"
      ]
    },
    {
      "cell_type": "code",
      "metadata": {
        "id": "9_FzH13EjseR",
        "colab_type": "code",
        "colab": {
          "base_uri": "https://localhost:8080/",
          "height": 1000
        },
        "outputId": "6db500c4-03fb-4d14-9c59-8e437cfeb714"
      },
      "source": [
        "!pip install -U torch==1.4+cu100 torchvision==0.5+cu100 -f https://download.pytorch.org/whl/torch_stable.html \n",
        "!pip install cython pyyaml==5.1\n",
        "# !pip install -U torch torchvision\n",
        "!pip install git+https://github.com/facebookresearch/fvcore.git\n",
        "!pip install -U 'git+https://github.com/cocodataset/cocoapi.git#subdirectory=PythonAPI'\n",
        "import torch, torchvision\n",
        "torch.__version__"
      ],
      "execution_count": 2,
      "outputs": [
        {
          "output_type": "stream",
          "text": [
            "Looking in links: https://download.pytorch.org/whl/torch_stable.html\n",
            "Collecting torch==1.4+cu100\n",
            "\u001b[?25l  Downloading https://download.pytorch.org/whl/cu100/torch-1.4.0%2Bcu100-cp36-cp36m-linux_x86_64.whl (723.9MB)\n",
            "\u001b[K     |████████████████████████████████| 723.9MB 24kB/s \n",
            "\u001b[?25hCollecting torchvision==0.5+cu100\n",
            "\u001b[?25l  Downloading https://download.pytorch.org/whl/cu100/torchvision-0.5.0%2Bcu100-cp36-cp36m-linux_x86_64.whl (4.0MB)\n",
            "\u001b[K     |████████████████████████████████| 4.1MB 43.1MB/s \n",
            "\u001b[?25hRequirement already satisfied, skipping upgrade: pillow>=4.1.1 in /usr/local/lib/python3.6/dist-packages (from torchvision==0.5+cu100) (7.0.0)\n",
            "Requirement already satisfied, skipping upgrade: six in /usr/local/lib/python3.6/dist-packages (from torchvision==0.5+cu100) (1.12.0)\n",
            "Requirement already satisfied, skipping upgrade: numpy in /usr/local/lib/python3.6/dist-packages (from torchvision==0.5+cu100) (1.18.5)\n",
            "Installing collected packages: torch, torchvision\n",
            "  Found existing installation: torch 1.5.0+cu101\n",
            "    Uninstalling torch-1.5.0+cu101:\n",
            "      Successfully uninstalled torch-1.5.0+cu101\n",
            "  Found existing installation: torchvision 0.6.0+cu101\n",
            "    Uninstalling torchvision-0.6.0+cu101:\n",
            "      Successfully uninstalled torchvision-0.6.0+cu101\n",
            "Successfully installed torch-1.4.0+cu100 torchvision-0.5.0+cu100\n",
            "Requirement already satisfied: cython in /usr/local/lib/python3.6/dist-packages (0.29.20)\n",
            "Collecting pyyaml==5.1\n",
            "\u001b[?25l  Downloading https://files.pythonhosted.org/packages/9f/2c/9417b5c774792634834e730932745bc09a7d36754ca00acf1ccd1ac2594d/PyYAML-5.1.tar.gz (274kB)\n",
            "\u001b[K     |████████████████████████████████| 276kB 2.7MB/s \n",
            "\u001b[?25hBuilding wheels for collected packages: pyyaml\n",
            "  Building wheel for pyyaml (setup.py) ... \u001b[?25l\u001b[?25hdone\n",
            "  Created wheel for pyyaml: filename=PyYAML-5.1-cp36-cp36m-linux_x86_64.whl size=44074 sha256=600bed44fea2cf1b89c76962348df38025bd4d38f9b848e50404fc1ad76cd497\n",
            "  Stored in directory: /root/.cache/pip/wheels/ad/56/bc/1522f864feb2a358ea6f1a92b4798d69ac783a28e80567a18b\n",
            "Successfully built pyyaml\n",
            "Installing collected packages: pyyaml\n",
            "  Found existing installation: PyYAML 3.13\n",
            "    Uninstalling PyYAML-3.13:\n",
            "      Successfully uninstalled PyYAML-3.13\n",
            "Successfully installed pyyaml-5.1\n",
            "Collecting git+https://github.com/facebookresearch/fvcore.git\n",
            "  Cloning https://github.com/facebookresearch/fvcore.git to /tmp/pip-req-build-o8p_5muv\n",
            "  Running command git clone -q https://github.com/facebookresearch/fvcore.git /tmp/pip-req-build-o8p_5muv\n",
            "Requirement already satisfied: numpy in /usr/local/lib/python3.6/dist-packages (from fvcore==0.1.1) (1.18.5)\n",
            "Collecting yacs>=0.1.6\n",
            "  Downloading https://files.pythonhosted.org/packages/81/3b/40e876afde9f5ffa1cfdce10565aba85b0dc2e067ed551dfb566cfee6d4d/yacs-0.1.7-py3-none-any.whl\n",
            "Requirement already satisfied: pyyaml>=5.1 in /usr/local/lib/python3.6/dist-packages (from fvcore==0.1.1) (5.1)\n",
            "Requirement already satisfied: tqdm in /usr/local/lib/python3.6/dist-packages (from fvcore==0.1.1) (4.41.1)\n",
            "Collecting portalocker\n",
            "  Downloading https://files.pythonhosted.org/packages/53/84/7b3146ec6378d28abc73ab484f09f47dfa008ad6f03f33d90a369f880e25/portalocker-1.7.0-py2.py3-none-any.whl\n",
            "Requirement already satisfied: termcolor>=1.1 in /usr/local/lib/python3.6/dist-packages (from fvcore==0.1.1) (1.1.0)\n",
            "Requirement already satisfied: Pillow in /usr/local/lib/python3.6/dist-packages (from fvcore==0.1.1) (7.0.0)\n",
            "Requirement already satisfied: tabulate in /usr/local/lib/python3.6/dist-packages (from fvcore==0.1.1) (0.8.7)\n",
            "Building wheels for collected packages: fvcore\n",
            "  Building wheel for fvcore (setup.py) ... \u001b[?25l\u001b[?25hdone\n",
            "  Created wheel for fvcore: filename=fvcore-0.1.1-cp36-none-any.whl size=45053 sha256=adf6fbd1411ea3724c5ce6d1ac8c15e200b67b27f3e895941d2074515e5c1372\n",
            "  Stored in directory: /tmp/pip-ephem-wheel-cache-z0tvvitx/wheels/48/53/79/3c6485543a4455a0006f5db590ab9957622b6227011941de06\n",
            "Successfully built fvcore\n",
            "Installing collected packages: yacs, portalocker, fvcore\n",
            "Successfully installed fvcore-0.1.1 portalocker-1.7.0 yacs-0.1.7\n",
            "Collecting git+https://github.com/cocodataset/cocoapi.git#subdirectory=PythonAPI\n",
            "  Cloning https://github.com/cocodataset/cocoapi.git to /tmp/pip-req-build-us71yxjk\n",
            "  Running command git clone -q https://github.com/cocodataset/cocoapi.git /tmp/pip-req-build-us71yxjk\n",
            "Requirement already satisfied, skipping upgrade: setuptools>=18.0 in /usr/local/lib/python3.6/dist-packages (from pycocotools==2.0) (47.3.1)\n",
            "Requirement already satisfied, skipping upgrade: cython>=0.27.3 in /usr/local/lib/python3.6/dist-packages (from pycocotools==2.0) (0.29.20)\n",
            "Requirement already satisfied, skipping upgrade: matplotlib>=2.1.0 in /usr/local/lib/python3.6/dist-packages (from pycocotools==2.0) (3.2.1)\n",
            "Requirement already satisfied, skipping upgrade: python-dateutil>=2.1 in /usr/local/lib/python3.6/dist-packages (from matplotlib>=2.1.0->pycocotools==2.0) (2.8.1)\n",
            "Requirement already satisfied, skipping upgrade: kiwisolver>=1.0.1 in /usr/local/lib/python3.6/dist-packages (from matplotlib>=2.1.0->pycocotools==2.0) (1.2.0)\n",
            "Requirement already satisfied, skipping upgrade: cycler>=0.10 in /usr/local/lib/python3.6/dist-packages (from matplotlib>=2.1.0->pycocotools==2.0) (0.10.0)\n",
            "Requirement already satisfied, skipping upgrade: numpy>=1.11 in /usr/local/lib/python3.6/dist-packages (from matplotlib>=2.1.0->pycocotools==2.0) (1.18.5)\n",
            "Requirement already satisfied, skipping upgrade: pyparsing!=2.0.4,!=2.1.2,!=2.1.6,>=2.0.1 in /usr/local/lib/python3.6/dist-packages (from matplotlib>=2.1.0->pycocotools==2.0) (2.4.7)\n",
            "Requirement already satisfied, skipping upgrade: six>=1.5 in /usr/local/lib/python3.6/dist-packages (from python-dateutil>=2.1->matplotlib>=2.1.0->pycocotools==2.0) (1.12.0)\n",
            "Building wheels for collected packages: pycocotools\n",
            "  Building wheel for pycocotools (setup.py) ... \u001b[?25l\u001b[?25hdone\n",
            "  Created wheel for pycocotools: filename=pycocotools-2.0-cp36-cp36m-linux_x86_64.whl size=266988 sha256=2e41a9f5a345319fdc83165df39c7ac18011484a3ec7ef7856e46a622e4d41c5\n",
            "  Stored in directory: /tmp/pip-ephem-wheel-cache-fahr7jkb/wheels/90/51/41/646daf401c3bc408ff10de34ec76587a9b3ebfac8d21ca5c3a\n",
            "Successfully built pycocotools\n",
            "Installing collected packages: pycocotools\n",
            "  Found existing installation: pycocotools 2.0.0\n",
            "    Uninstalling pycocotools-2.0.0:\n",
            "      Successfully uninstalled pycocotools-2.0.0\n",
            "Successfully installed pycocotools-2.0\n"
          ],
          "name": "stdout"
        },
        {
          "output_type": "execute_result",
          "data": {
            "text/plain": [
              "'1.4.0+cu100'"
            ]
          },
          "metadata": {
            "tags": []
          },
          "execution_count": 2
        }
      ]
    },
    {
      "cell_type": "code",
      "metadata": {
        "id": "GeejixTmwEmI",
        "colab_type": "code",
        "colab": {
          "base_uri": "https://localhost:8080/",
          "height": 1000
        },
        "outputId": "b63a7086-966e-40f6-d385-eaa5b5b7e2f0"
      },
      "source": [
        "# install detectron2:\n",
        "!pip install detectron2 -f https://dl.fbaipublicfiles.com/detectron2/wheels/cu100/index.html\n",
        "# clone the repo to access PointRend code. Use the same version as the installed detectron2\n",
        "!git clone --branch v0.1.1 https://github.com/facebookresearch/detectron2 detectron2_repo"
      ],
      "execution_count": 3,
      "outputs": [
        {
          "output_type": "stream",
          "text": [
            "Looking in links: https://dl.fbaipublicfiles.com/detectron2/wheels/cu100/index.html\n",
            "Collecting detectron2\n",
            "\u001b[?25l  Downloading https://dl.fbaipublicfiles.com/detectron2/wheels/cu100/torch1.4/detectron2-0.1.3%2Bcu100-cp36-cp36m-linux_x86_64.whl (5.9MB)\n",
            "\u001b[K     |████████████████████████████████| 5.9MB 840kB/s \n",
            "\u001b[?25hRequirement already satisfied: matplotlib in /usr/local/lib/python3.6/dist-packages (from detectron2) (3.2.1)\n",
            "Requirement already satisfied: future in /usr/local/lib/python3.6/dist-packages (from detectron2) (0.16.0)\n",
            "Collecting mock\n",
            "  Downloading https://files.pythonhosted.org/packages/cd/74/d72daf8dff5b6566db857cfd088907bb0355f5dd2914c4b3ef065c790735/mock-4.0.2-py3-none-any.whl\n",
            "Requirement already satisfied: tqdm>4.29.0 in /usr/local/lib/python3.6/dist-packages (from detectron2) (4.41.1)\n",
            "Requirement already satisfied: tensorboard in /usr/local/lib/python3.6/dist-packages (from detectron2) (2.2.2)\n",
            "Requirement already satisfied: pydot in /usr/local/lib/python3.6/dist-packages (from detectron2) (1.3.0)\n",
            "Requirement already satisfied: yacs>=0.1.6 in /usr/local/lib/python3.6/dist-packages (from detectron2) (0.1.7)\n",
            "Requirement already satisfied: cloudpickle in /usr/local/lib/python3.6/dist-packages (from detectron2) (1.3.0)\n",
            "Requirement already satisfied: fvcore>=0.1.1 in /usr/local/lib/python3.6/dist-packages (from detectron2) (0.1.1)\n",
            "Requirement already satisfied: tabulate in /usr/local/lib/python3.6/dist-packages (from detectron2) (0.8.7)\n",
            "Requirement already satisfied: termcolor>=1.1 in /usr/local/lib/python3.6/dist-packages (from detectron2) (1.1.0)\n",
            "Requirement already satisfied: Pillow in /usr/local/lib/python3.6/dist-packages (from detectron2) (7.0.0)\n",
            "Requirement already satisfied: pyparsing!=2.0.4,!=2.1.2,!=2.1.6,>=2.0.1 in /usr/local/lib/python3.6/dist-packages (from matplotlib->detectron2) (2.4.7)\n",
            "Requirement already satisfied: kiwisolver>=1.0.1 in /usr/local/lib/python3.6/dist-packages (from matplotlib->detectron2) (1.2.0)\n",
            "Requirement already satisfied: numpy>=1.11 in /usr/local/lib/python3.6/dist-packages (from matplotlib->detectron2) (1.18.5)\n",
            "Requirement already satisfied: python-dateutil>=2.1 in /usr/local/lib/python3.6/dist-packages (from matplotlib->detectron2) (2.8.1)\n",
            "Requirement already satisfied: cycler>=0.10 in /usr/local/lib/python3.6/dist-packages (from matplotlib->detectron2) (0.10.0)\n",
            "Requirement already satisfied: six>=1.10.0 in /usr/local/lib/python3.6/dist-packages (from tensorboard->detectron2) (1.12.0)\n",
            "Requirement already satisfied: absl-py>=0.4 in /usr/local/lib/python3.6/dist-packages (from tensorboard->detectron2) (0.9.0)\n",
            "Requirement already satisfied: werkzeug>=0.11.15 in /usr/local/lib/python3.6/dist-packages (from tensorboard->detectron2) (1.0.1)\n",
            "Requirement already satisfied: grpcio>=1.24.3 in /usr/local/lib/python3.6/dist-packages (from tensorboard->detectron2) (1.29.0)\n",
            "Requirement already satisfied: markdown>=2.6.8 in /usr/local/lib/python3.6/dist-packages (from tensorboard->detectron2) (3.2.2)\n",
            "Requirement already satisfied: protobuf>=3.6.0 in /usr/local/lib/python3.6/dist-packages (from tensorboard->detectron2) (3.10.0)\n",
            "Requirement already satisfied: wheel>=0.26; python_version >= \"3\" in /usr/local/lib/python3.6/dist-packages (from tensorboard->detectron2) (0.34.2)\n",
            "Requirement already satisfied: setuptools>=41.0.0 in /usr/local/lib/python3.6/dist-packages (from tensorboard->detectron2) (47.3.1)\n",
            "Requirement already satisfied: tensorboard-plugin-wit>=1.6.0 in /usr/local/lib/python3.6/dist-packages (from tensorboard->detectron2) (1.6.0.post3)\n",
            "Requirement already satisfied: google-auth<2,>=1.6.3 in /usr/local/lib/python3.6/dist-packages (from tensorboard->detectron2) (1.17.2)\n",
            "Requirement already satisfied: google-auth-oauthlib<0.5,>=0.4.1 in /usr/local/lib/python3.6/dist-packages (from tensorboard->detectron2) (0.4.1)\n",
            "Requirement already satisfied: requests<3,>=2.21.0 in /usr/local/lib/python3.6/dist-packages (from tensorboard->detectron2) (2.23.0)\n",
            "Requirement already satisfied: PyYAML in /usr/local/lib/python3.6/dist-packages (from yacs>=0.1.6->detectron2) (5.1)\n",
            "Requirement already satisfied: portalocker in /usr/local/lib/python3.6/dist-packages (from fvcore>=0.1.1->detectron2) (1.7.0)\n",
            "Requirement already satisfied: importlib-metadata; python_version < \"3.8\" in /usr/local/lib/python3.6/dist-packages (from markdown>=2.6.8->tensorboard->detectron2) (1.6.1)\n",
            "Requirement already satisfied: cachetools<5.0,>=2.0.0 in /usr/local/lib/python3.6/dist-packages (from google-auth<2,>=1.6.3->tensorboard->detectron2) (4.1.0)\n",
            "Requirement already satisfied: rsa<5,>=3.1.4; python_version >= \"3\" in /usr/local/lib/python3.6/dist-packages (from google-auth<2,>=1.6.3->tensorboard->detectron2) (4.6)\n",
            "Requirement already satisfied: pyasn1-modules>=0.2.1 in /usr/local/lib/python3.6/dist-packages (from google-auth<2,>=1.6.3->tensorboard->detectron2) (0.2.8)\n",
            "Requirement already satisfied: requests-oauthlib>=0.7.0 in /usr/local/lib/python3.6/dist-packages (from google-auth-oauthlib<0.5,>=0.4.1->tensorboard->detectron2) (1.3.0)\n",
            "Requirement already satisfied: idna<3,>=2.5 in /usr/local/lib/python3.6/dist-packages (from requests<3,>=2.21.0->tensorboard->detectron2) (2.9)\n",
            "Requirement already satisfied: certifi>=2017.4.17 in /usr/local/lib/python3.6/dist-packages (from requests<3,>=2.21.0->tensorboard->detectron2) (2020.4.5.2)\n",
            "Requirement already satisfied: urllib3!=1.25.0,!=1.25.1,<1.26,>=1.21.1 in /usr/local/lib/python3.6/dist-packages (from requests<3,>=2.21.0->tensorboard->detectron2) (1.24.3)\n",
            "Requirement already satisfied: chardet<4,>=3.0.2 in /usr/local/lib/python3.6/dist-packages (from requests<3,>=2.21.0->tensorboard->detectron2) (3.0.4)\n",
            "Requirement already satisfied: zipp>=0.5 in /usr/local/lib/python3.6/dist-packages (from importlib-metadata; python_version < \"3.8\"->markdown>=2.6.8->tensorboard->detectron2) (3.1.0)\n",
            "Requirement already satisfied: pyasn1>=0.1.3 in /usr/local/lib/python3.6/dist-packages (from rsa<5,>=3.1.4; python_version >= \"3\"->google-auth<2,>=1.6.3->tensorboard->detectron2) (0.4.8)\n",
            "Requirement already satisfied: oauthlib>=3.0.0 in /usr/local/lib/python3.6/dist-packages (from requests-oauthlib>=0.7.0->google-auth-oauthlib<0.5,>=0.4.1->tensorboard->detectron2) (3.1.0)\n",
            "Installing collected packages: mock, detectron2\n",
            "Successfully installed detectron2-0.1.3+cu100 mock-4.0.2\n",
            "Cloning into 'detectron2_repo'...\n",
            "remote: Enumerating objects: 8, done.\u001b[K\n",
            "remote: Counting objects: 100% (8/8), done.\u001b[K\n",
            "remote: Compressing objects: 100% (7/7), done.\u001b[K\n",
            "remote: Total 5558 (delta 1), reused 3 (delta 1), pack-reused 5550\u001b[K\n",
            "Receiving objects: 100% (5558/5558), 2.56 MiB | 2.42 MiB/s, done.\n",
            "Resolving deltas: 100% (4005/4005), done.\n",
            "Note: checking out '401fd04cecec16f1ed0452eb936502d5d33a23be'.\n",
            "\n",
            "You are in 'detached HEAD' state. You can look around, make experimental\n",
            "changes and commit them, and you can discard any commits you make in this\n",
            "state without impacting any branches by performing another checkout.\n",
            "\n",
            "If you want to create a new branch to retain commits you create, you may\n",
            "do so (now or later) by using -b with the checkout command again. Example:\n",
            "\n",
            "  git checkout -b <new-branch-name>\n",
            "\n"
          ],
          "name": "stdout"
        }
      ]
    },
    {
      "cell_type": "code",
      "metadata": {
        "id": "ZyAvNCJMmvFF",
        "colab_type": "code",
        "colab": {}
      },
      "source": [
        "# You may need to restart your runtime prior to this, to let your installation take effect\n",
        "# Some basic setup\n",
        "# Setup detectron2 logger\n",
        "import detectron2\n",
        "from detectron2.utils.logger import setup_logger\n",
        "setup_logger()\n",
        "\n",
        "# import some common libraries\n",
        "import matplotlib.pyplot as plt\n",
        "import numpy as np\n",
        "import cv2\n",
        "from google.colab.patches import cv2_imshow\n",
        "\n",
        "# import some common detectron2 utilities\n",
        "from detectron2 import model_zoo\n",
        "from detectron2.engine import DefaultPredictor\n",
        "from detectron2.config import get_cfg\n",
        "from detectron2.utils.visualizer import Visualizer\n",
        "from detectron2.data import MetadataCatalog, DatasetCatalog\n",
        "\n",
        "# import PointRend project\n",
        "import sys; sys.path.insert(1, \"detectron2_repo/projects/PointRend\")\n",
        "from detectron2_repo.projects.PointRend import point_rend"
      ],
      "execution_count": 4,
      "outputs": []
    },
    {
      "cell_type": "markdown",
      "metadata": {
        "id": "b2bjrfb2LDeo",
        "colab_type": "text"
      },
      "source": [
        "# Train on a custom COCO dataset"
      ]
    },
    {
      "cell_type": "markdown",
      "metadata": {
        "id": "tjbUIhSxUdm_",
        "colab_type": "text"
      },
      "source": [
        "In this section, we show how to train an existing detectron2 model on a custom dataset in a new format.\n",
        "\n",
        "We use [the fruits nuts segmentation dataset](https://github.com/Tony607/mmdetection_instance_segmentation_demo)\n",
        "which only has 3 classes: data, fig, and hazelnut.\n",
        "We'll train a segmentation model from an existing model pre-trained on the COCO dataset, available in detectron2's model zoo.\n",
        "\n",
        "Note that the COCO dataset does not have the \"data\", \"fig\" and \"hazelnut\" categories."
      ]
    },
    {
      "cell_type": "code",
      "metadata": {
        "id": "7RhkndJ6JWqO",
        "colab_type": "code",
        "colab": {
          "base_uri": "https://localhost:8080/",
          "height": 125
        },
        "outputId": "d7b77089-f750-4de4-d620-531963d1a01b"
      },
      "source": [
        "from google.colab import drive\n",
        "drive.mount('/content/drive')"
      ],
      "execution_count": 5,
      "outputs": [
        {
          "output_type": "stream",
          "text": [
            "Go to this URL in a browser: https://accounts.google.com/o/oauth2/auth?client_id=947318989803-6bn6qk8qdgf4n4g3pfee6491hc0brc4i.apps.googleusercontent.com&redirect_uri=urn%3aietf%3awg%3aoauth%3a2.0%3aoob&response_type=code&scope=email%20https%3a%2f%2fwww.googleapis.com%2fauth%2fdocs.test%20https%3a%2f%2fwww.googleapis.com%2fauth%2fdrive%20https%3a%2f%2fwww.googleapis.com%2fauth%2fdrive.photos.readonly%20https%3a%2f%2fwww.googleapis.com%2fauth%2fpeopleapi.readonly\n",
            "\n",
            "Enter your authorization code:\n",
            "··········\n",
            "Mounted at /content/drive\n"
          ],
          "name": "stdout"
        }
      ]
    },
    {
      "cell_type": "markdown",
      "metadata": {
        "id": "tVJoOm6LVJwW",
        "colab_type": "text"
      },
      "source": [
        "Register the fruits_nuts dataset to detectron2, following the [detectron2 custom dataset tutorial](https://detectron2.readthedocs.io/tutorials/datasets.html).\n"
      ]
    },
    {
      "cell_type": "markdown",
      "metadata": {
        "id": "xI-aG4sj3cV2",
        "colab_type": "text"
      },
      "source": [
        "\n",
        "\n",
        "---\n",
        "\n",
        "\n",
        "下面 笔画数据集\n",
        "\n"
      ]
    },
    {
      "cell_type": "code",
      "metadata": {
        "id": "Retbdmc07rgd",
        "colab_type": "code",
        "colab": {
          "base_uri": "https://localhost:8080/",
          "height": 35
        },
        "outputId": "8b9e7ae4-8800-4b9d-fda2-2b32403fc210"
      },
      "source": [
        "from detectron2.data.datasets import register_coco_instances\n",
        "register_coco_instances(\"L\", {}, \"./drive/My Drive/LGQ546/train546.json\", \"./drive/My Drive/LGQ546/imgs\")\n",
        "wanzheng_metadata = MetadataCatalog.get(\"L\")\n",
        "wanzhengdataset_dicts = DatasetCatalog.get(\"L\")"
      ],
      "execution_count": 6,
      "outputs": [
        {
          "output_type": "stream",
          "text": [
            "\u001b[32m[06/20 03:53:15 d2.data.datasets.coco]: \u001b[0mLoaded 546 images in COCO format from ./drive/My Drive/LGQ546/train546.json\n"
          ],
          "name": "stdout"
        }
      ]
    },
    {
      "cell_type": "markdown",
      "metadata": {
        "id": "6ljbWTX0Wi8E",
        "colab_type": "text"
      },
      "source": [
        "To verify the data loading is correct, let's visualize the annotations of randomly selected samples in the training set:\n",
        "\n"
      ]
    },
    {
      "cell_type": "code",
      "metadata": {
        "id": "F5JPh6Ur8FTD",
        "colab_type": "code",
        "colab": {
          "base_uri": "https://localhost:8080/",
          "height": 145
        },
        "outputId": "07dc44a1-92eb-462e-f9c2-72a5da79487c"
      },
      "source": [
        "#笔画数据集\n",
        "import random\n",
        "for d in random.sample(wanzhengdataset_dicts, 1):\n",
        "    img = cv2.imread(d[\"file_name\"])\n",
        "    visualizer = Visualizer(img[:, :, ::-1], metadata=wanzheng_metadata, scale=0.5)\n",
        "    vis = visualizer.draw_dataset_dict(d)\n",
        "    cv2_imshow(vis.get_image()[:, :, ::-1])"
      ],
      "execution_count": 7,
      "outputs": [
        {
          "output_type": "display_data",
          "data": {
            "image/png": "[encoded data removed]",
            "text/plain": [
              "<PIL.Image.Image image mode=RGB size=128x128 at 0x7FBFDFB167B8>"
            ]
          },
          "metadata": {
            "tags": []
          }
        }
      ]
    },
    {
      "cell_type": "markdown",
      "metadata": {
        "id": "wlqXIXXhW8dA",
        "colab_type": "text"
      },
      "source": [
        "Now, let's fine-tune a coco-pretrained R50-FPN Mask R-CNN model on the fruits_nuts dataset. It takes ~6 minutes to train 300 iterations on Colab's K80 GPU.\n"
      ]
    },
    {
      "cell_type": "markdown",
      "metadata": {
        "id": "jqKpPAmApFOH",
        "colab_type": "text"
      },
      "source": [
        "## MaskRCNN模型"
      ]
    },
    {
      "cell_type": "code",
      "metadata": {
        "id": "7unkuuiqLdqd",
        "colab_type": "code",
        "colab": {
          "base_uri": "https://localhost:8080/",
          "height": 1000
        },
        "outputId": "d88692eb-b149-49ca-b262-f53293876648"
      },
      "source": [
        "# 创建MaskRCNN模型\n",
        "from detectron2.engine import DefaultTrainer\n",
        "from detectron2.config import get_cfg\n",
        "import os\n",
        "\n",
        "cfg1 = get_cfg()\n",
        "cfg1.merge_from_file(\"./detectron2_repo/configs/COCO-InstanceSegmentation/mask_rcnn_R_50_FPN_3x.yaml\")\n",
        "cfg1.DATASETS.TRAIN = (\"wz1100A\",)\n",
        "cfg1.DATASETS.TEST = ()   # no metrics implemented for this dataset\n",
        "cfg1.DATALOADER.NUM_WORKERS = 4\n",
        "cfg1.MODEL.WEIGHTS = \"detectron2://COCO-InstanceSegmentation/mask_rcnn_R_50_FPN_3x/137849600/model_final_f10217.pkl\"  # initialize from model zoo\n",
        "cfg1.SOLVER.IMS_PER_BATCH = 10\n",
        "cfg1.SOLVER.BASE_LR = 0.02\n",
        "cfg1.SOLVER.MAX_ITER = 8000    # 300 iterations seems good enough, but you can certainly train longer\n",
        "cfg1.MODEL.ROI_HEADS.BATCH_SIZE_PER_IMAGE = 128   # faster, and good enough for this toy dataset\n",
        "cfg1.MODEL.ROI_HEADS.NUM_CLASSES = 32 # 32 classes (data, fig, hazelnut)\n",
        "cfg1.OUTPUT_DIR='outputMRCNN'\n",
        "os.makedirs(cfg1.OUTPUT_DIR, exist_ok=True)\n",
        "MRCNNtrainer = DefaultTrainer(cfg1)\n",
        "MRCNNtrainer.resume_or_load(resume=False)\n",
        "MRCNNtrainer.train()"
      ],
      "execution_count": null,
      "outputs": [
        {
          "output_type": "stream",
          "text": [
            "\u001b[32m[04/19 12:04:59 d2.engine.defaults]: \u001b[0mModel:\n",
            "GeneralizedRCNN(\n",
            "  (backbone): FPN(\n",
            "    (fpn_lateral2): Conv2d(256, 256, kernel_size=(1, 1), stride=(1, 1))\n",
            "    (fpn_output2): Conv2d(256, 256, kernel_size=(3, 3), stride=(1, 1), padding=(1, 1))\n",
            "    (fpn_lateral3): Conv2d(512, 256, kernel_size=(1, 1), stride=(1, 1))\n",
            "    (fpn_output3): Conv2d(256, 256, kernel_size=(3, 3), stride=(1, 1), padding=(1, 1))\n",
            "    (fpn_lateral4): Conv2d(1024, 256, kernel_size=(1, 1), stride=(1, 1))\n",
            "    (fpn_output4): Conv2d(256, 256, kernel_size=(3, 3), stride=(1, 1), padding=(1, 1))\n",
            "    (fpn_lateral5): Conv2d(2048, 256, kernel_size=(1, 1), stride=(1, 1))\n",
            "    (fpn_output5): Conv2d(256, 256, kernel_size=(3, 3), stride=(1, 1), padding=(1, 1))\n",
            "    (top_block): LastLevelMaxPool()\n",
            "    (bottom_up): ResNet(\n",
            "      (stem): BasicStem(\n",
            "        (conv1): Conv2d(\n",
            "          3, 64, kernel_size=(7, 7), stride=(2, 2), padding=(3, 3), bias=False\n",
            "          (norm): FrozenBatchNorm2d(num_features=64, eps=1e-05)\n",
            "        )\n",
            "      )\n",
            "      (res2): Sequential(\n",
            "        (0): BottleneckBlock(\n",
            "          (shortcut): Conv2d(\n",
            "            64, 256, kernel_size=(1, 1), stride=(1, 1), bias=False\n",
            "            (norm): FrozenBatchNorm2d(num_features=256, eps=1e-05)\n",
            "          )\n",
            "          (conv1): Conv2d(\n",
            "            64, 64, kernel_size=(1, 1), stride=(1, 1), bias=False\n",
            "            (norm): FrozenBatchNorm2d(num_features=64, eps=1e-05)\n",
            "          )\n",
            "          (conv2): Conv2d(\n",
            "            64, 64, kernel_size=(3, 3), stride=(1, 1), padding=(1, 1), bias=False\n",
            "            (norm): FrozenBatchNorm2d(num_features=64, eps=1e-05)\n",
            "          )\n",
            "          (conv3): Conv2d(\n",
            "            64, 256, kernel_size=(1, 1), stride=(1, 1), bias=False\n",
            "            (norm): FrozenBatchNorm2d(num_features=256, eps=1e-05)\n",
            "          )\n",
            "        )\n",
            "        (1): BottleneckBlock(\n",
            "          (conv1): Conv2d(\n",
            "            256, 64, kernel_size=(1, 1), stride=(1, 1), bias=False\n",
            "            (norm): FrozenBatchNorm2d(num_features=64, eps=1e-05)\n",
            "          )\n",
            "          (conv2): Conv2d(\n",
            "            64, 64, kernel_size=(3, 3), stride=(1, 1), padding=(1, 1), bias=False\n",
            "            (norm): FrozenBatchNorm2d(num_features=64, eps=1e-05)\n",
            "          )\n",
            "          (conv3): Conv2d(\n",
            "            64, 256, kernel_size=(1, 1), stride=(1, 1), bias=False\n",
            "            (norm): FrozenBatchNorm2d(num_features=256, eps=1e-05)\n",
            "          )\n",
            "        )\n",
            "        (2): BottleneckBlock(\n",
            "          (conv1): Conv2d(\n",
            "            256, 64, kernel_size=(1, 1), stride=(1, 1), bias=False\n",
            "            (norm): FrozenBatchNorm2d(num_features=64, eps=1e-05)\n",
            "          )\n",
            "          (conv2): Conv2d(\n",
            "            64, 64, kernel_size=(3, 3), stride=(1, 1), padding=(1, 1), bias=False\n",
            "            (norm): FrozenBatchNorm2d(num_features=64, eps=1e-05)\n",
            "          )\n",
            "          (conv3): Conv2d(\n",
            "            64, 256, kernel_size=(1, 1), stride=(1, 1), bias=False\n",
            "            (norm): FrozenBatchNorm2d(num_features=256, eps=1e-05)\n",
            "          )\n",
            "        )\n",
            "      )\n",
            "      (res3): Sequential(\n",
            "        (0): BottleneckBlock(\n",
            "          (shortcut): Conv2d(\n",
            "            256, 512, kernel_size=(1, 1), stride=(2, 2), bias=False\n",
            "            (norm): FrozenBatchNorm2d(num_features=512, eps=1e-05)\n",
            "          )\n",
            "          (conv1): Conv2d(\n",
            "            256, 128, kernel_size=(1, 1), stride=(2, 2), bias=False\n",
            "            (norm): FrozenBatchNorm2d(num_features=128, eps=1e-05)\n",
            "          )\n",
            "          (conv2): Conv2d(\n",
            "            128, 128, kernel_size=(3, 3), stride=(1, 1), padding=(1, 1), bias=False\n",
            "            (norm): FrozenBatchNorm2d(num_features=128, eps=1e-05)\n",
            "          )\n",
            "          (conv3): Conv2d(\n",
            "            128, 512, kernel_size=(1, 1), stride=(1, 1), bias=False\n",
            "            (norm): FrozenBatchNorm2d(num_features=512, eps=1e-05)\n",
            "          )\n",
            "        )\n",
            "        (1): BottleneckBlock(\n",
            "          (conv1): Conv2d(\n",
            "            512, 128, kernel_size=(1, 1), stride=(1, 1), bias=False\n",
            "            (norm): FrozenBatchNorm2d(num_features=128, eps=1e-05)\n",
            "          )\n",
            "          (conv2): Conv2d(\n",
            "            128, 128, kernel_size=(3, 3), stride=(1, 1), padding=(1, 1), bias=False\n",
            "            (norm): FrozenBatchNorm2d(num_features=128, eps=1e-05)\n",
            "          )\n",
            "          (conv3): Conv2d(\n",
            "            128, 512, kernel_size=(1, 1), stride=(1, 1), bias=False\n",
            "            (norm): FrozenBatchNorm2d(num_features=512, eps=1e-05)\n",
            "          )\n",
            "        )\n",
            "        (2): BottleneckBlock(\n",
            "          (conv1): Conv2d(\n",
            "            512, 128, kernel_size=(1, 1), stride=(1, 1), bias=False\n",
            "            (norm): FrozenBatchNorm2d(num_features=128, eps=1e-05)\n",
            "          )\n",
            "          (conv2): Conv2d(\n",
            "            128, 128, kernel_size=(3, 3), stride=(1, 1), padding=(1, 1), bias=False\n",
            "            (norm): FrozenBatchNorm2d(num_features=128, eps=1e-05)\n",
            "          )\n",
            "          (conv3): Conv2d(\n",
            "            128, 512, kernel_size=(1, 1), stride=(1, 1), bias=False\n",
            "            (norm): FrozenBatchNorm2d(num_features=512, eps=1e-05)\n",
            "          )\n",
            "        )\n",
            "        (3): BottleneckBlock(\n",
            "          (conv1): Conv2d(\n",
            "            512, 128, kernel_size=(1, 1), stride=(1, 1), bias=False\n",
            "            (norm): FrozenBatchNorm2d(num_features=128, eps=1e-05)\n",
            "          )\n",
            "          (conv2): Conv2d(\n",
            "            128, 128, kernel_size=(3, 3), stride=(1, 1), padding=(1, 1), bias=False\n",
            "            (norm): FrozenBatchNorm2d(num_features=128, eps=1e-05)\n",
            "          )\n",
            "          (conv3): Conv2d(\n",
            "            128, 512, kernel_size=(1, 1), stride=(1, 1), bias=False\n",
            "            (norm): FrozenBatchNorm2d(num_features=512, eps=1e-05)\n",
            "          )\n",
            "        )\n",
            "      )\n",
            "      (res4): Sequential(\n",
            "        (0): BottleneckBlock(\n",
            "          (shortcut): Conv2d(\n",
            "            512, 1024, kernel_size=(1, 1), stride=(2, 2), bias=False\n",
            "            (norm): FrozenBatchNorm2d(num_features=1024, eps=1e-05)\n",
            "          )\n",
            "          (conv1): Conv2d(\n",
            "            512, 256, kernel_size=(1, 1), stride=(2, 2), bias=False\n",
            "            (norm): FrozenBatchNorm2d(num_features=256, eps=1e-05)\n",
            "          )\n",
            "          (conv2): Conv2d(\n",
            "            256, 256, kernel_size=(3, 3), stride=(1, 1), padding=(1, 1), bias=False\n",
            "            (norm): FrozenBatchNorm2d(num_features=256, eps=1e-05)\n",
            "          )\n",
            "          (conv3): Conv2d(\n",
            "            256, 1024, kernel_size=(1, 1), stride=(1, 1), bias=False\n",
            "            (norm): FrozenBatchNorm2d(num_features=1024, eps=1e-05)\n",
            "          )\n",
            "        )\n",
            "        (1): BottleneckBlock(\n",
            "          (conv1): Conv2d(\n",
            "            1024, 256, kernel_size=(1, 1), stride=(1, 1), bias=False\n",
            "            (norm): FrozenBatchNorm2d(num_features=256, eps=1e-05)\n",
            "          )\n",
            "          (conv2): Conv2d(\n",
            "            256, 256, kernel_size=(3, 3), stride=(1, 1), padding=(1, 1), bias=False\n",
            "            (norm): FrozenBatchNorm2d(num_features=256, eps=1e-05)\n",
            "          )\n",
            "          (conv3): Conv2d(\n",
            "            256, 1024, kernel_size=(1, 1), stride=(1, 1), bias=False\n",
            "            (norm): FrozenBatchNorm2d(num_features=1024, eps=1e-05)\n",
            "          )\n",
            "        )\n",
            "        (2): BottleneckBlock(\n",
            "          (conv1): Conv2d(\n",
            "            1024, 256, kernel_size=(1, 1), stride=(1, 1), bias=False\n",
            "            (norm): FrozenBatchNorm2d(num_features=256, eps=1e-05)\n",
            "          )\n",
            "          (conv2): Conv2d(\n",
            "            256, 256, kernel_size=(3, 3), stride=(1, 1), padding=(1, 1), bias=False\n",
            "            (norm): FrozenBatchNorm2d(num_features=256, eps=1e-05)\n",
            "          )\n",
            "          (conv3): Conv2d(\n",
            "            256, 1024, kernel_size=(1, 1), stride=(1, 1), bias=False\n",
            "            (norm): FrozenBatchNorm2d(num_features=1024, eps=1e-05)\n",
            "          )\n",
            "        )\n",
            "        (3): BottleneckBlock(\n",
            "          (conv1): Conv2d(\n",
            "            1024, 256, kernel_size=(1, 1), stride=(1, 1), bias=False\n",
            "            (norm): FrozenBatchNorm2d(num_features=256, eps=1e-05)\n",
            "          )\n",
            "          (conv2): Conv2d(\n",
            "            256, 256, kernel_size=(3, 3), stride=(1, 1), padding=(1, 1), bias=False\n",
            "            (norm): FrozenBatchNorm2d(num_features=256, eps=1e-05)\n",
            "          )\n",
            "          (conv3): Conv2d(\n",
            "            256, 1024, kernel_size=(1, 1), stride=(1, 1), bias=False\n",
            "            (norm): FrozenBatchNorm2d(num_features=1024, eps=1e-05)\n",
            "          )\n",
            "        )\n",
            "        (4): BottleneckBlock(\n",
            "          (conv1): Conv2d(\n",
            "            1024, 256, kernel_size=(1, 1), stride=(1, 1), bias=False\n",
            "            (norm): FrozenBatchNorm2d(num_features=256, eps=1e-05)\n",
            "          )\n",
            "          (conv2): Conv2d(\n",
            "            256, 256, kernel_size=(3, 3), stride=(1, 1), padding=(1, 1), bias=False\n",
            "            (norm): FrozenBatchNorm2d(num_features=256, eps=1e-05)\n",
            "          )\n",
            "          (conv3): Conv2d(\n",
            "            256, 1024, kernel_size=(1, 1), stride=(1, 1), bias=False\n",
            "            (norm): FrozenBatchNorm2d(num_features=1024, eps=1e-05)\n",
            "          )\n",
            "        )\n",
            "        (5): BottleneckBlock(\n",
            "          (conv1): Conv2d(\n",
            "            1024, 256, kernel_size=(1, 1), stride=(1, 1), bias=False\n",
            "            (norm): FrozenBatchNorm2d(num_features=256, eps=1e-05)\n",
            "          )\n",
            "          (conv2): Conv2d(\n",
            "            256, 256, kernel_size=(3, 3), stride=(1, 1), padding=(1, 1), bias=False\n",
            "            (norm): FrozenBatchNorm2d(num_features=256, eps=1e-05)\n",
            "          )\n",
            "          (conv3): Conv2d(\n",
            "            256, 1024, kernel_size=(1, 1), stride=(1, 1), bias=False\n",
            "            (norm): FrozenBatchNorm2d(num_features=1024, eps=1e-05)\n",
            "          )\n",
            "        )\n",
            "      )\n",
            "      (res5): Sequential(\n",
            "        (0): BottleneckBlock(\n",
            "          (shortcut): Conv2d(\n",
            "            1024, 2048, kernel_size=(1, 1), stride=(2, 2), bias=False\n",
            "            (norm): FrozenBatchNorm2d(num_features=2048, eps=1e-05)\n",
            "          )\n",
            "          (conv1): Conv2d(\n",
            "            1024, 512, kernel_size=(1, 1), stride=(2, 2), bias=False\n",
            "            (norm): FrozenBatchNorm2d(num_features=512, eps=1e-05)\n",
            "          )\n",
            "          (conv2): Conv2d(\n",
            "            512, 512, kernel_size=(3, 3), stride=(1, 1), padding=(1, 1), bias=False\n",
            "            (norm): FrozenBatchNorm2d(num_features=512, eps=1e-05)\n",
            "          )\n",
            "          (conv3): Conv2d(\n",
            "            512, 2048, kernel_size=(1, 1), stride=(1, 1), bias=False\n",
            "            (norm): FrozenBatchNorm2d(num_features=2048, eps=1e-05)\n",
            "          )\n",
            "        )\n",
            "        (1): BottleneckBlock(\n",
            "          (conv1): Conv2d(\n",
            "            2048, 512, kernel_size=(1, 1), stride=(1, 1), bias=False\n",
            "            (norm): FrozenBatchNorm2d(num_features=512, eps=1e-05)\n",
            "          )\n",
            "          (conv2): Conv2d(\n",
            "            512, 512, kernel_size=(3, 3), stride=(1, 1), padding=(1, 1), bias=False\n",
            "            (norm): FrozenBatchNorm2d(num_features=512, eps=1e-05)\n",
            "          )\n",
            "          (conv3): Conv2d(\n",
            "            512, 2048, kernel_size=(1, 1), stride=(1, 1), bias=False\n",
            "            (norm): FrozenBatchNorm2d(num_features=2048, eps=1e-05)\n",
            "          )\n",
            "        )\n",
            "        (2): BottleneckBlock(\n",
            "          (conv1): Conv2d(\n",
            "            2048, 512, kernel_size=(1, 1), stride=(1, 1), bias=False\n",
            "            (norm): FrozenBatchNorm2d(num_features=512, eps=1e-05)\n",
            "          )\n",
            "          (conv2): Conv2d(\n",
            "            512, 512, kernel_size=(3, 3), stride=(1, 1), padding=(1, 1), bias=False\n",
            "            (norm): FrozenBatchNorm2d(num_features=512, eps=1e-05)\n",
            "          )\n",
            "          (conv3): Conv2d(\n",
            "            512, 2048, kernel_size=(1, 1), stride=(1, 1), bias=False\n",
            "            (norm): FrozenBatchNorm2d(num_features=2048, eps=1e-05)\n",
            "          )\n",
            "        )\n",
            "      )\n",
            "    )\n",
            "  )\n",
            "  (proposal_generator): RPN(\n",
            "    (anchor_generator): DefaultAnchorGenerator(\n",
            "      (cell_anchors): BufferList()\n",
            "    )\n",
            "    (rpn_head): StandardRPNHead(\n",
            "      (conv): Conv2d(256, 256, kernel_size=(3, 3), stride=(1, 1), padding=(1, 1))\n",
            "      (objectness_logits): Conv2d(256, 3, kernel_size=(1, 1), stride=(1, 1))\n",
            "      (anchor_deltas): Conv2d(256, 12, kernel_size=(1, 1), stride=(1, 1))\n",
            "    )\n",
            "  )\n",
            "  (roi_heads): StandardROIHeads(\n",
            "    (box_pooler): ROIPooler(\n",
            "      (level_poolers): ModuleList(\n",
            "        (0): ROIAlign(output_size=(7, 7), spatial_scale=0.25, sampling_ratio=0, aligned=True)\n",
            "        (1): ROIAlign(output_size=(7, 7), spatial_scale=0.125, sampling_ratio=0, aligned=True)\n",
            "        (2): ROIAlign(output_size=(7, 7), spatial_scale=0.0625, sampling_ratio=0, aligned=True)\n",
            "        (3): ROIAlign(output_size=(7, 7), spatial_scale=0.03125, sampling_ratio=0, aligned=True)\n",
            "      )\n",
            "    )\n",
            "    (box_head): FastRCNNConvFCHead(\n",
            "      (fc1): Linear(in_features=12544, out_features=1024, bias=True)\n",
            "      (fc2): Linear(in_features=1024, out_features=1024, bias=True)\n",
            "    )\n",
            "    (box_predictor): FastRCNNOutputLayers(\n",
            "      (cls_score): Linear(in_features=1024, out_features=33, bias=True)\n",
            "      (bbox_pred): Linear(in_features=1024, out_features=128, bias=True)\n",
            "    )\n",
            "    (mask_pooler): ROIPooler(\n",
            "      (level_poolers): ModuleList(\n",
            "        (0): ROIAlign(output_size=(14, 14), spatial_scale=0.25, sampling_ratio=0, aligned=True)\n",
            "        (1): ROIAlign(output_size=(14, 14), spatial_scale=0.125, sampling_ratio=0, aligned=True)\n",
            "        (2): ROIAlign(output_size=(14, 14), spatial_scale=0.0625, sampling_ratio=0, aligned=True)\n",
            "        (3): ROIAlign(output_size=(14, 14), spatial_scale=0.03125, sampling_ratio=0, aligned=True)\n",
            "      )\n",
            "    )\n",
            "    (mask_head): MaskRCNNConvUpsampleHead(\n",
            "      (mask_fcn1): Conv2d(256, 256, kernel_size=(3, 3), stride=(1, 1), padding=(1, 1))\n",
            "      (mask_fcn2): Conv2d(256, 256, kernel_size=(3, 3), stride=(1, 1), padding=(1, 1))\n",
            "      (mask_fcn3): Conv2d(256, 256, kernel_size=(3, 3), stride=(1, 1), padding=(1, 1))\n",
            "      (mask_fcn4): Conv2d(256, 256, kernel_size=(3, 3), stride=(1, 1), padding=(1, 1))\n",
            "      (deconv): ConvTranspose2d(256, 256, kernel_size=(2, 2), stride=(2, 2))\n",
            "      (predictor): Conv2d(256, 32, kernel_size=(1, 1), stride=(1, 1))\n",
            "    )\n",
            "  )\n",
            ")\n",
            "\u001b[32m[04/19 12:04:59 d2.data.datasets.coco]: \u001b[0mLoaded 907 images in COCO format from ./drive/My Drive/pic32_907A/train.json\n",
            "\u001b[32m[04/19 12:04:59 d2.data.build]: \u001b[0mRemoved 0 images with no usable annotations. 907 images left.\n",
            "\u001b[32m[04/19 12:05:00 d2.data.common]: \u001b[0mSerializing 907 elements to byte tensors and concatenating them all ...\n",
            "\u001b[32m[04/19 12:05:00 d2.data.common]: \u001b[0mSerialized dataset takes 1.92 MiB\n",
            "\u001b[32m[04/19 12:05:00 d2.data.detection_utils]: \u001b[0mTransformGens used in training: [ResizeShortestEdge(short_edge_length=(640, 672, 704, 736, 768, 800), max_size=1333, sample_style='choice'), RandomFlip()]\n",
            "\u001b[32m[04/19 12:05:00 d2.data.build]: \u001b[0mUsing training sampler TrainingSampler\n"
          ],
          "name": "stdout"
        },
        {
          "output_type": "stream",
          "text": [
            "model_final_f10217.pkl: 178MB [00:17, 10.4MB/s]                           \n",
            "'roi_heads.box_predictor.cls_score.weight' has shape (81, 1024) in the checkpoint but (33, 1024) in the model! Skipped.\n",
            "'roi_heads.box_predictor.cls_score.bias' has shape (81,) in the checkpoint but (33,) in the model! Skipped.\n",
            "'roi_heads.box_predictor.bbox_pred.weight' has shape (320, 1024) in the checkpoint but (128, 1024) in the model! Skipped.\n",
            "'roi_heads.box_predictor.bbox_pred.bias' has shape (320,) in the checkpoint but (128,) in the model! Skipped.\n",
            "'roi_heads.mask_head.predictor.weight' has shape (80, 256, 1, 1) in the checkpoint but (32, 256, 1, 1) in the model! Skipped.\n",
            "'roi_heads.mask_head.predictor.bias' has shape (80,) in the checkpoint but (32,) in the model! Skipped.\n"
          ],
          "name": "stderr"
        },
        {
          "output_type": "stream",
          "text": [
            "\u001b[32m[04/19 12:05:17 d2.engine.train_loop]: \u001b[0mStarting training from iteration 0\n",
            "\u001b[32m[04/19 12:05:38 d2.utils.events]: \u001b[0m eta: 2:19:04  iter: 19  total_loss: 4.240  loss_cls: 2.590  loss_box_reg: 0.822  loss_mask: 0.686  loss_rpn_cls: 0.109  loss_rpn_loc: 0.057  time: 1.0399  data_time: 0.0790  lr: 0.000400  max_mem: 8731M\n",
            "\u001b[32m[04/19 12:05:58 d2.utils.events]: \u001b[0m eta: 2:16:21  iter: 39  total_loss: 2.554  loss_cls: 1.078  loss_box_reg: 0.839  loss_mask: 0.552  loss_rpn_cls: 0.022  loss_rpn_loc: 0.043  time: 1.0328  data_time: 0.0625  lr: 0.000799  max_mem: 8731M\n",
            "\u001b[32m[04/19 12:06:19 d2.utils.events]: \u001b[0m eta: 2:18:36  iter: 59  total_loss: 2.159  loss_cls: 0.931  loss_box_reg: 0.815  loss_mask: 0.360  loss_rpn_cls: 0.019  loss_rpn_loc: 0.041  time: 1.0378  data_time: 0.0621  lr: 0.001199  max_mem: 8731M\n",
            "\u001b[32m[04/19 12:06:40 d2.utils.events]: \u001b[0m eta: 2:19:03  iter: 79  total_loss: 1.894  loss_cls: 0.855  loss_box_reg: 0.768  loss_mask: 0.225  loss_rpn_cls: 0.011  loss_rpn_loc: 0.036  time: 1.0431  data_time: 0.0699  lr: 0.001598  max_mem: 8731M\n",
            "\u001b[32m[04/19 12:07:01 d2.utils.events]: \u001b[0m eta: 2:18:44  iter: 99  total_loss: 1.634  loss_cls: 0.756  loss_box_reg: 0.657  loss_mask: 0.153  loss_rpn_cls: 0.012  loss_rpn_loc: 0.036  time: 1.0423  data_time: 0.0653  lr: 0.001998  max_mem: 8731M\n",
            "\u001b[32m[04/19 12:07:22 d2.utils.events]: \u001b[0m eta: 2:18:31  iter: 119  total_loss: 1.399  loss_cls: 0.664  loss_box_reg: 0.550  loss_mask: 0.125  loss_rpn_cls: 0.009  loss_rpn_loc: 0.032  time: 1.0437  data_time: 0.0633  lr: 0.002398  max_mem: 8731M\n",
            "\u001b[32m[04/19 12:07:43 d2.utils.events]: \u001b[0m eta: 2:18:15  iter: 139  total_loss: 1.131  loss_cls: 0.540  loss_box_reg: 0.429  loss_mask: 0.109  loss_rpn_cls: 0.009  loss_rpn_loc: 0.043  time: 1.0447  data_time: 0.0641  lr: 0.002797  max_mem: 8731M\n",
            "\u001b[32m[04/19 12:08:04 d2.utils.events]: \u001b[0m eta: 2:17:57  iter: 159  total_loss: 1.076  loss_cls: 0.498  loss_box_reg: 0.416  loss_mask: 0.104  loss_rpn_cls: 0.008  loss_rpn_loc: 0.038  time: 1.0462  data_time: 0.0663  lr: 0.003197  max_mem: 8731M\n",
            "\u001b[32m[04/19 12:08:25 d2.utils.events]: \u001b[0m eta: 2:17:33  iter: 179  total_loss: 0.985  loss_cls: 0.464  loss_box_reg: 0.358  loss_mask: 0.097  loss_rpn_cls: 0.008  loss_rpn_loc: 0.040  time: 1.0465  data_time: 0.0631  lr: 0.003596  max_mem: 8731M\n",
            "\u001b[32m[04/19 12:08:46 d2.utils.events]: \u001b[0m eta: 2:17:11  iter: 199  total_loss: 0.843  loss_cls: 0.370  loss_box_reg: 0.340  loss_mask: 0.089  loss_rpn_cls: 0.008  loss_rpn_loc: 0.036  time: 1.0459  data_time: 0.0623  lr: 0.003996  max_mem: 8731M\n",
            "\u001b[32m[04/19 12:09:07 d2.utils.events]: \u001b[0m eta: 2:16:48  iter: 219  total_loss: 0.790  loss_cls: 0.358  loss_box_reg: 0.329  loss_mask: 0.079  loss_rpn_cls: 0.010  loss_rpn_loc: 0.042  time: 1.0456  data_time: 0.0656  lr: 0.004396  max_mem: 8731M\n",
            "\u001b[32m[04/19 12:09:28 d2.utils.events]: \u001b[0m eta: 2:16:27  iter: 239  total_loss: 0.814  loss_cls: 0.371  loss_box_reg: 0.320  loss_mask: 0.084  loss_rpn_cls: 0.008  loss_rpn_loc: 0.041  time: 1.0459  data_time: 0.0648  lr: 0.004795  max_mem: 8731M\n",
            "\u001b[32m[04/19 12:09:49 d2.utils.events]: \u001b[0m eta: 2:16:06  iter: 259  total_loss: 0.740  loss_cls: 0.329  loss_box_reg: 0.307  loss_mask: 0.081  loss_rpn_cls: 0.009  loss_rpn_loc: 0.031  time: 1.0455  data_time: 0.0629  lr: 0.005195  max_mem: 8731M\n",
            "\u001b[32m[04/19 12:10:10 d2.utils.events]: \u001b[0m eta: 2:15:44  iter: 279  total_loss: 0.818  loss_cls: 0.363  loss_box_reg: 0.314  loss_mask: 0.082  loss_rpn_cls: 0.009  loss_rpn_loc: 0.026  time: 1.0461  data_time: 0.0681  lr: 0.005594  max_mem: 8731M\n",
            "\u001b[32m[04/19 12:10:31 d2.utils.events]: \u001b[0m eta: 2:15:26  iter: 299  total_loss: 0.735  loss_cls: 0.307  loss_box_reg: 0.300  loss_mask: 0.077  loss_rpn_cls: 0.009  loss_rpn_loc: 0.038  time: 1.0469  data_time: 0.0678  lr: 0.005994  max_mem: 8731M\n",
            "\u001b[32m[04/19 12:10:52 d2.utils.events]: \u001b[0m eta: 2:15:07  iter: 319  total_loss: 0.665  loss_cls: 0.279  loss_box_reg: 0.267  loss_mask: 0.069  loss_rpn_cls: 0.008  loss_rpn_loc: 0.030  time: 1.0476  data_time: 0.0628  lr: 0.006394  max_mem: 8731M\n",
            "\u001b[32m[04/19 12:11:13 d2.utils.events]: \u001b[0m eta: 2:14:44  iter: 339  total_loss: 0.688  loss_cls: 0.276  loss_box_reg: 0.306  loss_mask: 0.076  loss_rpn_cls: 0.006  loss_rpn_loc: 0.041  time: 1.0475  data_time: 0.0669  lr: 0.006793  max_mem: 8731M\n",
            "\u001b[32m[04/19 12:11:34 d2.utils.events]: \u001b[0m eta: 2:14:23  iter: 359  total_loss: 0.655  loss_cls: 0.269  loss_box_reg: 0.274  loss_mask: 0.073  loss_rpn_cls: 0.007  loss_rpn_loc: 0.030  time: 1.0468  data_time: 0.0678  lr: 0.007193  max_mem: 8731M\n",
            "\u001b[32m[04/19 12:11:55 d2.utils.events]: \u001b[0m eta: 2:14:02  iter: 379  total_loss: 0.638  loss_cls: 0.247  loss_box_reg: 0.273  loss_mask: 0.067  loss_rpn_cls: 0.006  loss_rpn_loc: 0.037  time: 1.0468  data_time: 0.0665  lr: 0.007592  max_mem: 8731M\n",
            "\u001b[32m[04/19 12:12:16 d2.utils.events]: \u001b[0m eta: 2:13:41  iter: 399  total_loss: 0.593  loss_cls: 0.249  loss_box_reg: 0.256  loss_mask: 0.066  loss_rpn_cls: 0.006  loss_rpn_loc: 0.028  time: 1.0465  data_time: 0.0674  lr: 0.007992  max_mem: 8731M\n",
            "\u001b[32m[04/19 12:12:36 d2.utils.events]: \u001b[0m eta: 2:13:18  iter: 419  total_loss: 0.638  loss_cls: 0.261  loss_box_reg: 0.272  loss_mask: 0.066  loss_rpn_cls: 0.007  loss_rpn_loc: 0.031  time: 1.0461  data_time: 0.0630  lr: 0.008392  max_mem: 8731M\n",
            "\u001b[32m[04/19 12:12:57 d2.utils.events]: \u001b[0m eta: 2:12:58  iter: 439  total_loss: 0.634  loss_cls: 0.225  loss_box_reg: 0.278  loss_mask: 0.063  loss_rpn_cls: 0.007  loss_rpn_loc: 0.030  time: 1.0463  data_time: 0.0647  lr: 0.008791  max_mem: 8731M\n",
            "\u001b[32m[04/19 12:13:18 d2.utils.events]: \u001b[0m eta: 2:12:36  iter: 459  total_loss: 0.615  loss_cls: 0.243  loss_box_reg: 0.267  loss_mask: 0.066  loss_rpn_cls: 0.007  loss_rpn_loc: 0.026  time: 1.0462  data_time: 0.0637  lr: 0.009191  max_mem: 8731M\n",
            "\u001b[32m[04/19 12:13:39 d2.utils.events]: \u001b[0m eta: 2:12:13  iter: 479  total_loss: 0.574  loss_cls: 0.229  loss_box_reg: 0.250  loss_mask: 0.060  loss_rpn_cls: 0.006  loss_rpn_loc: 0.035  time: 1.0456  data_time: 0.0622  lr: 0.009590  max_mem: 8731M\n",
            "\u001b[32m[04/19 12:14:00 d2.utils.events]: \u001b[0m eta: 2:11:50  iter: 499  total_loss: 0.601  loss_cls: 0.224  loss_box_reg: 0.268  loss_mask: 0.064  loss_rpn_cls: 0.006  loss_rpn_loc: 0.030  time: 1.0455  data_time: 0.0736  lr: 0.009990  max_mem: 8731M\n",
            "\u001b[32m[04/19 12:14:21 d2.utils.events]: \u001b[0m eta: 2:11:26  iter: 519  total_loss: 0.588  loss_cls: 0.215  loss_box_reg: 0.262  loss_mask: 0.064  loss_rpn_cls: 0.008  loss_rpn_loc: 0.033  time: 1.0454  data_time: 0.0652  lr: 0.010390  max_mem: 8731M\n",
            "\u001b[32m[04/19 12:14:41 d2.utils.events]: \u001b[0m eta: 2:11:01  iter: 539  total_loss: 0.535  loss_cls: 0.205  loss_box_reg: 0.233  loss_mask: 0.062  loss_rpn_cls: 0.006  loss_rpn_loc: 0.031  time: 1.0450  data_time: 0.0641  lr: 0.010789  max_mem: 8731M\n",
            "\u001b[32m[04/19 12:15:02 d2.utils.events]: \u001b[0m eta: 2:10:42  iter: 559  total_loss: 0.550  loss_cls: 0.206  loss_box_reg: 0.235  loss_mask: 0.064  loss_rpn_cls: 0.007  loss_rpn_loc: 0.029  time: 1.0450  data_time: 0.0667  lr: 0.011189  max_mem: 8731M\n",
            "\u001b[32m[04/19 12:15:23 d2.utils.events]: \u001b[0m eta: 2:10:21  iter: 579  total_loss: 0.524  loss_cls: 0.201  loss_box_reg: 0.239  loss_mask: 0.057  loss_rpn_cls: 0.007  loss_rpn_loc: 0.026  time: 1.0450  data_time: 0.0656  lr: 0.011588  max_mem: 8731M\n",
            "\u001b[32m[04/19 12:15:44 d2.utils.events]: \u001b[0m eta: 2:10:00  iter: 599  total_loss: 0.527  loss_cls: 0.211  loss_box_reg: 0.227  loss_mask: 0.055  loss_rpn_cls: 0.006  loss_rpn_loc: 0.034  time: 1.0448  data_time: 0.0658  lr: 0.011988  max_mem: 8731M\n",
            "\u001b[32m[04/19 12:16:05 d2.utils.events]: \u001b[0m eta: 2:09:44  iter: 619  total_loss: 0.533  loss_cls: 0.194  loss_box_reg: 0.243  loss_mask: 0.058  loss_rpn_cls: 0.007  loss_rpn_loc: 0.038  time: 1.0453  data_time: 0.0693  lr: 0.012388  max_mem: 8731M\n",
            "\u001b[32m[04/19 12:16:26 d2.utils.events]: \u001b[0m eta: 2:09:21  iter: 639  total_loss: 0.519  loss_cls: 0.184  loss_box_reg: 0.239  loss_mask: 0.058  loss_rpn_cls: 0.006  loss_rpn_loc: 0.029  time: 1.0449  data_time: 0.0664  lr: 0.012787  max_mem: 8731M\n",
            "\u001b[32m[04/19 12:16:47 d2.utils.events]: \u001b[0m eta: 2:09:03  iter: 659  total_loss: 0.521  loss_cls: 0.189  loss_box_reg: 0.243  loss_mask: 0.053  loss_rpn_cls: 0.006  loss_rpn_loc: 0.029  time: 1.0453  data_time: 0.0641  lr: 0.013187  max_mem: 8731M\n",
            "\u001b[32m[04/19 12:17:08 d2.utils.events]: \u001b[0m eta: 2:08:42  iter: 679  total_loss: 0.530  loss_cls: 0.202  loss_box_reg: 0.237  loss_mask: 0.055  loss_rpn_cls: 0.006  loss_rpn_loc: 0.028  time: 1.0450  data_time: 0.0614  lr: 0.013586  max_mem: 8731M\n",
            "\u001b[32m[04/19 12:17:29 d2.utils.events]: \u001b[0m eta: 2:08:21  iter: 699  total_loss: 0.532  loss_cls: 0.196  loss_box_reg: 0.219  loss_mask: 0.052  loss_rpn_cls: 0.006  loss_rpn_loc: 0.025  time: 1.0451  data_time: 0.0691  lr: 0.013986  max_mem: 8731M\n",
            "\u001b[32m[04/19 12:17:50 d2.utils.events]: \u001b[0m eta: 2:08:00  iter: 719  total_loss: 0.542  loss_cls: 0.193  loss_box_reg: 0.249  loss_mask: 0.057  loss_rpn_cls: 0.007  loss_rpn_loc: 0.029  time: 1.0452  data_time: 0.0669  lr: 0.014386  max_mem: 8731M\n",
            "\u001b[32m[04/19 12:18:11 d2.utils.events]: \u001b[0m eta: 2:07:39  iter: 739  total_loss: 0.522  loss_cls: 0.176  loss_box_reg: 0.250  loss_mask: 0.053  loss_rpn_cls: 0.005  loss_rpn_loc: 0.028  time: 1.0454  data_time: 0.0626  lr: 0.014785  max_mem: 8731M\n",
            "\u001b[32m[04/19 12:18:32 d2.utils.events]: \u001b[0m eta: 2:07:18  iter: 759  total_loss: 0.523  loss_cls: 0.195  loss_box_reg: 0.239  loss_mask: 0.057  loss_rpn_cls: 0.005  loss_rpn_loc: 0.030  time: 1.0455  data_time: 0.0647  lr: 0.015185  max_mem: 8731M\n",
            "\u001b[32m[04/19 12:18:53 d2.utils.events]: \u001b[0m eta: 2:06:55  iter: 779  total_loss: 0.508  loss_cls: 0.186  loss_box_reg: 0.226  loss_mask: 0.052  loss_rpn_cls: 0.007  loss_rpn_loc: 0.028  time: 1.0454  data_time: 0.0637  lr: 0.015584  max_mem: 8731M\n",
            "\u001b[32m[04/19 12:19:13 d2.utils.events]: \u001b[0m eta: 2:06:33  iter: 799  total_loss: 0.510  loss_cls: 0.186  loss_box_reg: 0.232  loss_mask: 0.056  loss_rpn_cls: 0.006  loss_rpn_loc: 0.030  time: 1.0451  data_time: 0.0646  lr: 0.015984  max_mem: 8731M\n",
            "\u001b[32m[04/19 12:19:34 d2.utils.events]: \u001b[0m eta: 2:06:12  iter: 819  total_loss: 0.530  loss_cls: 0.188  loss_box_reg: 0.253  loss_mask: 0.052  loss_rpn_cls: 0.006  loss_rpn_loc: 0.031  time: 1.0451  data_time: 0.0658  lr: 0.016384  max_mem: 8731M\n",
            "\u001b[32m[04/19 12:19:55 d2.utils.events]: \u001b[0m eta: 2:05:52  iter: 839  total_loss: 0.512  loss_cls: 0.174  loss_box_reg: 0.243  loss_mask: 0.054  loss_rpn_cls: 0.006  loss_rpn_loc: 0.028  time: 1.0452  data_time: 0.0678  lr: 0.016783  max_mem: 8731M\n",
            "\u001b[32m[04/19 12:20:16 d2.utils.events]: \u001b[0m eta: 2:05:31  iter: 859  total_loss: 0.507  loss_cls: 0.189  loss_box_reg: 0.225  loss_mask: 0.055  loss_rpn_cls: 0.006  loss_rpn_loc: 0.030  time: 1.0451  data_time: 0.0656  lr: 0.017183  max_mem: 8731M\n",
            "\u001b[32m[04/19 12:20:37 d2.utils.events]: \u001b[0m eta: 2:05:11  iter: 879  total_loss: 0.490  loss_cls: 0.172  loss_box_reg: 0.227  loss_mask: 0.049  loss_rpn_cls: 0.005  loss_rpn_loc: 0.026  time: 1.0451  data_time: 0.0684  lr: 0.017582  max_mem: 8731M\n",
            "\u001b[32m[04/19 12:20:58 d2.utils.events]: \u001b[0m eta: 2:04:50  iter: 899  total_loss: 0.499  loss_cls: 0.182  loss_box_reg: 0.233  loss_mask: 0.051  loss_rpn_cls: 0.007  loss_rpn_loc: 0.025  time: 1.0452  data_time: 0.0639  lr: 0.017982  max_mem: 8731M\n",
            "\u001b[32m[04/19 12:21:19 d2.utils.events]: \u001b[0m eta: 2:04:29  iter: 919  total_loss: 0.506  loss_cls: 0.184  loss_box_reg: 0.234  loss_mask: 0.052  loss_rpn_cls: 0.005  loss_rpn_loc: 0.028  time: 1.0454  data_time: 0.0680  lr: 0.018382  max_mem: 8731M\n",
            "\u001b[32m[04/19 12:21:40 d2.utils.events]: \u001b[0m eta: 2:04:09  iter: 939  total_loss: 0.485  loss_cls: 0.175  loss_box_reg: 0.232  loss_mask: 0.050  loss_rpn_cls: 0.006  loss_rpn_loc: 0.028  time: 1.0455  data_time: 0.0700  lr: 0.018781  max_mem: 8731M\n",
            "\u001b[32m[04/19 12:22:01 d2.utils.events]: \u001b[0m eta: 2:03:49  iter: 959  total_loss: 0.471  loss_cls: 0.179  loss_box_reg: 0.211  loss_mask: 0.050  loss_rpn_cls: 0.005  loss_rpn_loc: 0.030  time: 1.0457  data_time: 0.0653  lr: 0.019181  max_mem: 8731M\n",
            "\u001b[32m[04/19 12:22:23 d2.utils.events]: \u001b[0m eta: 2:03:29  iter: 979  total_loss: 0.490  loss_cls: 0.179  loss_box_reg: 0.216  loss_mask: 0.049  loss_rpn_cls: 0.005  loss_rpn_loc: 0.029  time: 1.0461  data_time: 0.0647  lr: 0.019580  max_mem: 8731M\n",
            "\u001b[32m[04/19 12:22:44 d2.utils.events]: \u001b[0m eta: 2:03:08  iter: 999  total_loss: 0.499  loss_cls: 0.170  loss_box_reg: 0.226  loss_mask: 0.050  loss_rpn_cls: 0.006  loss_rpn_loc: 0.024  time: 1.0462  data_time: 0.0652  lr: 0.019980  max_mem: 8731M\n",
            "\u001b[32m[04/19 12:23:04 d2.utils.events]: \u001b[0m eta: 2:02:47  iter: 1019  total_loss: 0.506  loss_cls: 0.187  loss_box_reg: 0.229  loss_mask: 0.054  loss_rpn_cls: 0.007  loss_rpn_loc: 0.030  time: 1.0461  data_time: 0.0677  lr: 0.020000  max_mem: 8731M\n",
            "\u001b[32m[04/19 12:23:26 d2.utils.events]: \u001b[0m eta: 2:02:29  iter: 1039  total_loss: 0.495  loss_cls: 0.167  loss_box_reg: 0.234  loss_mask: 0.052  loss_rpn_cls: 0.006  loss_rpn_loc: 0.028  time: 1.0464  data_time: 0.0670  lr: 0.020000  max_mem: 8731M\n",
            "\u001b[32m[04/19 12:23:47 d2.utils.events]: \u001b[0m eta: 2:02:08  iter: 1059  total_loss: 0.505  loss_cls: 0.183  loss_box_reg: 0.220  loss_mask: 0.050  loss_rpn_cls: 0.007  loss_rpn_loc: 0.037  time: 1.0464  data_time: 0.0687  lr: 0.020000  max_mem: 8731M\n",
            "\u001b[32m[04/19 12:24:08 d2.utils.events]: \u001b[0m eta: 2:01:47  iter: 1079  total_loss: 0.481  loss_cls: 0.178  loss_box_reg: 0.208  loss_mask: 0.050  loss_rpn_cls: 0.006  loss_rpn_loc: 0.026  time: 1.0465  data_time: 0.0666  lr: 0.020000  max_mem: 8731M\n",
            "\u001b[32m[04/19 12:24:29 d2.utils.events]: \u001b[0m eta: 2:01:26  iter: 1099  total_loss: 0.447  loss_cls: 0.154  loss_box_reg: 0.216  loss_mask: 0.050  loss_rpn_cls: 0.005  loss_rpn_loc: 0.029  time: 1.0465  data_time: 0.0658  lr: 0.020000  max_mem: 8731M\n",
            "\u001b[32m[04/19 12:24:50 d2.utils.events]: \u001b[0m eta: 2:01:05  iter: 1119  total_loss: 0.463  loss_cls: 0.171  loss_box_reg: 0.218  loss_mask: 0.049  loss_rpn_cls: 0.007  loss_rpn_loc: 0.028  time: 1.0466  data_time: 0.0684  lr: 0.020000  max_mem: 8731M\n",
            "\u001b[32m[04/19 12:25:11 d2.utils.events]: \u001b[0m eta: 2:00:43  iter: 1139  total_loss: 0.453  loss_cls: 0.167  loss_box_reg: 0.205  loss_mask: 0.047  loss_rpn_cls: 0.007  loss_rpn_loc: 0.027  time: 1.0466  data_time: 0.0658  lr: 0.020000  max_mem: 8731M\n",
            "\u001b[32m[04/19 12:25:32 d2.utils.events]: \u001b[0m eta: 2:00:22  iter: 1159  total_loss: 0.445  loss_cls: 0.164  loss_box_reg: 0.196  loss_mask: 0.047  loss_rpn_cls: 0.006  loss_rpn_loc: 0.026  time: 1.0467  data_time: 0.0691  lr: 0.020000  max_mem: 8731M\n",
            "\u001b[32m[04/19 12:25:53 d2.utils.events]: \u001b[0m eta: 2:00:02  iter: 1179  total_loss: 0.424  loss_cls: 0.157  loss_box_reg: 0.201  loss_mask: 0.047  loss_rpn_cls: 0.006  loss_rpn_loc: 0.026  time: 1.0469  data_time: 0.0718  lr: 0.020000  max_mem: 8731M\n",
            "\u001b[32m[04/19 12:26:14 d2.utils.events]: \u001b[0m eta: 1:59:43  iter: 1199  total_loss: 0.446  loss_cls: 0.154  loss_box_reg: 0.202  loss_mask: 0.048  loss_rpn_cls: 0.004  loss_rpn_loc: 0.028  time: 1.0468  data_time: 0.0686  lr: 0.020000  max_mem: 8731M\n",
            "\u001b[32m[04/19 12:26:35 d2.utils.events]: \u001b[0m eta: 1:59:23  iter: 1219  total_loss: 0.420  loss_cls: 0.160  loss_box_reg: 0.189  loss_mask: 0.047  loss_rpn_cls: 0.004  loss_rpn_loc: 0.025  time: 1.0468  data_time: 0.0697  lr: 0.020000  max_mem: 8731M\n",
            "\u001b[32m[04/19 12:26:56 d2.utils.events]: \u001b[0m eta: 1:59:03  iter: 1239  total_loss: 0.437  loss_cls: 0.155  loss_box_reg: 0.192  loss_mask: 0.046  loss_rpn_cls: 0.004  loss_rpn_loc: 0.032  time: 1.0470  data_time: 0.0665  lr: 0.020000  max_mem: 8731M\n",
            "\u001b[32m[04/19 12:27:17 d2.utils.events]: \u001b[0m eta: 1:58:43  iter: 1259  total_loss: 0.446  loss_cls: 0.175  loss_box_reg: 0.196  loss_mask: 0.046  loss_rpn_cls: 0.005  loss_rpn_loc: 0.025  time: 1.0471  data_time: 0.0649  lr: 0.020000  max_mem: 8731M\n",
            "\u001b[32m[04/19 12:27:38 d2.utils.events]: \u001b[0m eta: 1:58:21  iter: 1279  total_loss: 0.414  loss_cls: 0.160  loss_box_reg: 0.183  loss_mask: 0.045  loss_rpn_cls: 0.006  loss_rpn_loc: 0.024  time: 1.0469  data_time: 0.0693  lr: 0.020000  max_mem: 8731M\n",
            "\u001b[32m[04/19 12:27:59 d2.utils.events]: \u001b[0m eta: 1:57:59  iter: 1299  total_loss: 0.428  loss_cls: 0.156  loss_box_reg: 0.189  loss_mask: 0.046  loss_rpn_cls: 0.005  loss_rpn_loc: 0.028  time: 1.0470  data_time: 0.0620  lr: 0.020000  max_mem: 8731M\n",
            "\u001b[32m[04/19 12:28:20 d2.utils.events]: \u001b[0m eta: 1:57:37  iter: 1319  total_loss: 0.417  loss_cls: 0.145  loss_box_reg: 0.183  loss_mask: 0.045  loss_rpn_cls: 0.006  loss_rpn_loc: 0.025  time: 1.0470  data_time: 0.0653  lr: 0.020000  max_mem: 8731M\n",
            "\u001b[32m[04/19 12:28:41 d2.utils.events]: \u001b[0m eta: 1:57:16  iter: 1339  total_loss: 0.432  loss_cls: 0.161  loss_box_reg: 0.191  loss_mask: 0.047  loss_rpn_cls: 0.005  loss_rpn_loc: 0.024  time: 1.0470  data_time: 0.0640  lr: 0.020000  max_mem: 8731M\n",
            "\u001b[32m[04/19 12:29:02 d2.utils.events]: \u001b[0m eta: 1:56:55  iter: 1359  total_loss: 0.425  loss_cls: 0.151  loss_box_reg: 0.190  loss_mask: 0.045  loss_rpn_cls: 0.006  loss_rpn_loc: 0.027  time: 1.0470  data_time: 0.0625  lr: 0.020000  max_mem: 8731M\n",
            "\u001b[32m[04/19 12:29:23 d2.utils.events]: \u001b[0m eta: 1:56:36  iter: 1379  total_loss: 0.423  loss_cls: 0.160  loss_box_reg: 0.192  loss_mask: 0.046  loss_rpn_cls: 0.007  loss_rpn_loc: 0.024  time: 1.0471  data_time: 0.0653  lr: 0.020000  max_mem: 8731M\n",
            "\u001b[32m[04/19 12:29:44 d2.utils.events]: \u001b[0m eta: 1:56:15  iter: 1399  total_loss: 0.436  loss_cls: 0.155  loss_box_reg: 0.196  loss_mask: 0.045  loss_rpn_cls: 0.006  loss_rpn_loc: 0.026  time: 1.0471  data_time: 0.0646  lr: 0.020000  max_mem: 8731M\n",
            "\u001b[32m[04/19 12:30:05 d2.utils.events]: \u001b[0m eta: 1:55:54  iter: 1419  total_loss: 0.413  loss_cls: 0.148  loss_box_reg: 0.182  loss_mask: 0.045  loss_rpn_cls: 0.004  loss_rpn_loc: 0.024  time: 1.0471  data_time: 0.0670  lr: 0.020000  max_mem: 8731M\n",
            "\u001b[32m[04/19 12:30:26 d2.utils.events]: \u001b[0m eta: 1:55:34  iter: 1439  total_loss: 0.409  loss_cls: 0.150  loss_box_reg: 0.192  loss_mask: 0.045  loss_rpn_cls: 0.004  loss_rpn_loc: 0.023  time: 1.0471  data_time: 0.0685  lr: 0.020000  max_mem: 8731M\n",
            "\u001b[32m[04/19 12:30:46 d2.utils.events]: \u001b[0m eta: 1:55:12  iter: 1459  total_loss: 0.395  loss_cls: 0.143  loss_box_reg: 0.175  loss_mask: 0.044  loss_rpn_cls: 0.006  loss_rpn_loc: 0.023  time: 1.0470  data_time: 0.0662  lr: 0.020000  max_mem: 8731M\n",
            "\u001b[32m[04/19 12:31:07 d2.utils.events]: \u001b[0m eta: 1:54:52  iter: 1479  total_loss: 0.404  loss_cls: 0.143  loss_box_reg: 0.185  loss_mask: 0.043  loss_rpn_cls: 0.005  loss_rpn_loc: 0.023  time: 1.0470  data_time: 0.0703  lr: 0.020000  max_mem: 8731M\n",
            "\u001b[32m[04/19 12:31:28 d2.utils.events]: \u001b[0m eta: 1:54:31  iter: 1499  total_loss: 0.382  loss_cls: 0.136  loss_box_reg: 0.175  loss_mask: 0.044  loss_rpn_cls: 0.005  loss_rpn_loc: 0.023  time: 1.0471  data_time: 0.0627  lr: 0.020000  max_mem: 8731M\n",
            "\u001b[32m[04/19 12:31:49 d2.utils.events]: \u001b[0m eta: 1:54:11  iter: 1519  total_loss: 0.413  loss_cls: 0.160  loss_box_reg: 0.177  loss_mask: 0.044  loss_rpn_cls: 0.005  loss_rpn_loc: 0.024  time: 1.0471  data_time: 0.0635  lr: 0.020000  max_mem: 8731M\n",
            "\u001b[32m[04/19 12:32:11 d2.utils.events]: \u001b[0m eta: 1:53:51  iter: 1539  total_loss: 0.400  loss_cls: 0.146  loss_box_reg: 0.176  loss_mask: 0.044  loss_rpn_cls: 0.005  loss_rpn_loc: 0.024  time: 1.0473  data_time: 0.0657  lr: 0.020000  max_mem: 8731M\n",
            "\u001b[32m[04/19 12:32:32 d2.utils.events]: \u001b[0m eta: 1:53:32  iter: 1559  total_loss: 0.383  loss_cls: 0.139  loss_box_reg: 0.176  loss_mask: 0.045  loss_rpn_cls: 0.006  loss_rpn_loc: 0.027  time: 1.0473  data_time: 0.0624  lr: 0.020000  max_mem: 8731M\n",
            "\u001b[32m[04/19 12:32:53 d2.utils.events]: \u001b[0m eta: 1:53:12  iter: 1579  total_loss: 0.385  loss_cls: 0.138  loss_box_reg: 0.168  loss_mask: 0.044  loss_rpn_cls: 0.004  loss_rpn_loc: 0.024  time: 1.0473  data_time: 0.0612  lr: 0.020000  max_mem: 8731M\n",
            "\u001b[32m[04/19 12:33:13 d2.utils.events]: \u001b[0m eta: 1:52:50  iter: 1599  total_loss: 0.385  loss_cls: 0.140  loss_box_reg: 0.172  loss_mask: 0.044  loss_rpn_cls: 0.007  loss_rpn_loc: 0.027  time: 1.0472  data_time: 0.0663  lr: 0.020000  max_mem: 8731M\n",
            "\u001b[32m[04/19 12:33:34 d2.utils.events]: \u001b[0m eta: 1:52:26  iter: 1619  total_loss: 0.372  loss_cls: 0.143  loss_box_reg: 0.160  loss_mask: 0.042  loss_rpn_cls: 0.005  loss_rpn_loc: 0.022  time: 1.0471  data_time: 0.0662  lr: 0.020000  max_mem: 8731M\n",
            "\u001b[32m[04/19 12:33:55 d2.utils.events]: \u001b[0m eta: 1:52:06  iter: 1639  total_loss: 0.399  loss_cls: 0.131  loss_box_reg: 0.176  loss_mask: 0.046  loss_rpn_cls: 0.005  loss_rpn_loc: 0.023  time: 1.0472  data_time: 0.0630  lr: 0.020000  max_mem: 8731M\n",
            "\u001b[32m[04/19 12:34:16 d2.utils.events]: \u001b[0m eta: 1:51:44  iter: 1659  total_loss: 0.387  loss_cls: 0.147  loss_box_reg: 0.166  loss_mask: 0.044  loss_rpn_cls: 0.005  loss_rpn_loc: 0.027  time: 1.0473  data_time: 0.0632  lr: 0.020000  max_mem: 8731M\n",
            "\u001b[32m[04/19 12:34:37 d2.utils.events]: \u001b[0m eta: 1:51:23  iter: 1679  total_loss: 0.379  loss_cls: 0.131  loss_box_reg: 0.170  loss_mask: 0.044  loss_rpn_cls: 0.005  loss_rpn_loc: 0.021  time: 1.0473  data_time: 0.0639  lr: 0.020000  max_mem: 8731M\n",
            "\u001b[32m[04/19 12:34:58 d2.utils.events]: \u001b[0m eta: 1:51:04  iter: 1699  total_loss: 0.371  loss_cls: 0.133  loss_box_reg: 0.163  loss_mask: 0.044  loss_rpn_cls: 0.005  loss_rpn_loc: 0.019  time: 1.0473  data_time: 0.0656  lr: 0.020000  max_mem: 8731M\n",
            "\u001b[32m[04/19 12:35:19 d2.utils.events]: \u001b[0m eta: 1:50:44  iter: 1719  total_loss: 0.378  loss_cls: 0.141  loss_box_reg: 0.162  loss_mask: 0.043  loss_rpn_cls: 0.005  loss_rpn_loc: 0.023  time: 1.0473  data_time: 0.0642  lr: 0.020000  max_mem: 8731M\n",
            "\u001b[32m[04/19 12:35:40 d2.utils.events]: \u001b[0m eta: 1:50:24  iter: 1739  total_loss: 0.367  loss_cls: 0.128  loss_box_reg: 0.168  loss_mask: 0.042  loss_rpn_cls: 0.005  loss_rpn_loc: 0.022  time: 1.0474  data_time: 0.0653  lr: 0.020000  max_mem: 8731M\n",
            "\u001b[32m[04/19 12:36:01 d2.utils.events]: \u001b[0m eta: 1:50:03  iter: 1759  total_loss: 0.367  loss_cls: 0.134  loss_box_reg: 0.162  loss_mask: 0.043  loss_rpn_cls: 0.005  loss_rpn_loc: 0.026  time: 1.0473  data_time: 0.0641  lr: 0.020000  max_mem: 8731M\n",
            "\u001b[32m[04/19 12:36:23 d2.utils.events]: \u001b[0m eta: 1:49:43  iter: 1779  total_loss: 0.361  loss_cls: 0.133  loss_box_reg: 0.159  loss_mask: 0.045  loss_rpn_cls: 0.004  loss_rpn_loc: 0.023  time: 1.0475  data_time: 0.0653  lr: 0.020000  max_mem: 8731M\n",
            "\u001b[32m[04/19 12:36:44 d2.utils.events]: \u001b[0m eta: 1:49:23  iter: 1799  total_loss: 0.362  loss_cls: 0.123  loss_box_reg: 0.165  loss_mask: 0.042  loss_rpn_cls: 0.004  loss_rpn_loc: 0.022  time: 1.0475  data_time: 0.0700  lr: 0.020000  max_mem: 8731M\n",
            "\u001b[32m[04/19 12:37:04 d2.utils.events]: \u001b[0m eta: 1:49:01  iter: 1819  total_loss: 0.352  loss_cls: 0.132  loss_box_reg: 0.161  loss_mask: 0.041  loss_rpn_cls: 0.005  loss_rpn_loc: 0.025  time: 1.0474  data_time: 0.0616  lr: 0.020000  max_mem: 8731M\n",
            "\u001b[32m[04/19 12:37:25 d2.utils.events]: \u001b[0m eta: 1:48:40  iter: 1839  total_loss: 0.350  loss_cls: 0.124  loss_box_reg: 0.153  loss_mask: 0.042  loss_rpn_cls: 0.005  loss_rpn_loc: 0.021  time: 1.0475  data_time: 0.0677  lr: 0.020000  max_mem: 8731M\n",
            "\u001b[32m[04/19 12:37:46 d2.utils.events]: \u001b[0m eta: 1:48:20  iter: 1859  total_loss: 0.357  loss_cls: 0.131  loss_box_reg: 0.161  loss_mask: 0.042  loss_rpn_cls: 0.004  loss_rpn_loc: 0.025  time: 1.0473  data_time: 0.0614  lr: 0.020000  max_mem: 8731M\n",
            "\u001b[32m[04/19 12:38:07 d2.utils.events]: \u001b[0m eta: 1:47:59  iter: 1879  total_loss: 0.360  loss_cls: 0.138  loss_box_reg: 0.157  loss_mask: 0.043  loss_rpn_cls: 0.005  loss_rpn_loc: 0.023  time: 1.0474  data_time: 0.0649  lr: 0.020000  max_mem: 8731M\n",
            "\u001b[32m[04/19 12:38:28 d2.utils.events]: \u001b[0m eta: 1:47:37  iter: 1899  total_loss: 0.354  loss_cls: 0.131  loss_box_reg: 0.147  loss_mask: 0.042  loss_rpn_cls: 0.005  loss_rpn_loc: 0.021  time: 1.0473  data_time: 0.0665  lr: 0.020000  max_mem: 8731M\n",
            "\u001b[32m[04/19 12:38:49 d2.utils.events]: \u001b[0m eta: 1:47:16  iter: 1919  total_loss: 0.352  loss_cls: 0.135  loss_box_reg: 0.154  loss_mask: 0.044  loss_rpn_cls: 0.004  loss_rpn_loc: 0.022  time: 1.0474  data_time: 0.0600  lr: 0.020000  max_mem: 8731M\n",
            "\u001b[32m[04/19 12:39:10 d2.utils.events]: \u001b[0m eta: 1:46:55  iter: 1939  total_loss: 0.360  loss_cls: 0.135  loss_box_reg: 0.157  loss_mask: 0.042  loss_rpn_cls: 0.004  loss_rpn_loc: 0.020  time: 1.0474  data_time: 0.0669  lr: 0.020000  max_mem: 8731M\n",
            "\u001b[32m[04/19 12:39:31 d2.utils.events]: \u001b[0m eta: 1:46:33  iter: 1959  total_loss: 0.368  loss_cls: 0.135  loss_box_reg: 0.161  loss_mask: 0.041  loss_rpn_cls: 0.005  loss_rpn_loc: 0.018  time: 1.0473  data_time: 0.0649  lr: 0.020000  max_mem: 8731M\n",
            "\u001b[32m[04/19 12:39:52 d2.utils.events]: \u001b[0m eta: 1:46:11  iter: 1979  total_loss: 0.353  loss_cls: 0.129  loss_box_reg: 0.157  loss_mask: 0.043  loss_rpn_cls: 0.004  loss_rpn_loc: 0.026  time: 1.0474  data_time: 0.0647  lr: 0.020000  max_mem: 8731M\n",
            "\u001b[32m[04/19 12:40:13 d2.utils.events]: \u001b[0m eta: 1:45:50  iter: 1999  total_loss: 0.364  loss_cls: 0.141  loss_box_reg: 0.155  loss_mask: 0.040  loss_rpn_cls: 0.005  loss_rpn_loc: 0.021  time: 1.0474  data_time: 0.0653  lr: 0.020000  max_mem: 8731M\n",
            "\u001b[32m[04/19 12:40:34 d2.utils.events]: \u001b[0m eta: 1:45:26  iter: 2019  total_loss: 0.349  loss_cls: 0.118  loss_box_reg: 0.154  loss_mask: 0.041  loss_rpn_cls: 0.005  loss_rpn_loc: 0.022  time: 1.0472  data_time: 0.0667  lr: 0.020000  max_mem: 8731M\n"
          ],
          "name": "stdout"
        }
      ]
    },
    {
      "cell_type": "code",
      "metadata": {
        "id": "s4mZwgPUoXv1",
        "colab_type": "code",
        "colab": {}
      },
      "source": [
        "## 创建MaskRCNN模型\n",
        "cfg1.MODEL.WEIGHTS = os.path.join(cfg1.OUTPUT_DIR, \"model_final.pth\")\n",
        "cfg1.MODEL.ROI_HEADS.SCORE_THRESH_TEST = 0.5   # set the testing threshold for this model\n",
        "cfg1.DATASETS.TEST = (\"wz\", )\n",
        "MRCNNpredictor = DefaultPredictor(cfg1)\n",
        "\n",
        "from detectron2.utils.visualizer import ColorMode\n",
        "\n",
        "for d in random.sample(wanzhengdataset_dicts, 1):    \n",
        "    # im = cv2.imread(d[\"file_name\"])\n",
        "    im = cv2.imread('/content/drive/My Drive/pic566_28class/images/000545.jpg')\n",
        "    outputs = MRCNNpredictor(im)\n",
        "    v = Visualizer(im[:, :, ::-1],\n",
        "                   metadata=wanzheng_metadata, \n",
        "                   scale=0.8, \n",
        "                   instance_mode=ColorMode.IMAGE_BW   # remove the colors of unsegmented pixels用于实例化可视化的不同颜色模式  IMAGE_BW：与IMAGE相同，但将所有不带遮罩的区域转换为灰度。仅适用于按实例绘制蒙版预测\n",
        "    )\n",
        "    v = v.draw_instance_predictions(outputs[\"instances\"].to(\"cpu\"))\n",
        "    cv2_imshow(v.get_image()[:, :, ::-1])\n",
        "\n",
        "\n",
        "    #如何输出单独的mask\n",
        "    masks=np.asarray(outputs[\"instances\"].to(\"cpu\").pred_masks)#[n,256,256]n为笔画数\n",
        "    count=0\n",
        "    for mask in masks:\n",
        "      mask=mask.astype(\"uint8\")#mask从[false,flase]到[00001100]\n",
        "      mask=mask*255       #变成二值图\n",
        "      cv2_imshow(mask)\n",
        "\n",
        "      count=count+1\n",
        "      # file_path=\"/content/\"+str(count)+\".jpg\"\n",
        "      # cv2.imwrite(file_path,mask)"
      ],
      "execution_count": null,
      "outputs": []
    },
    {
      "cell_type": "code",
      "metadata": {
        "id": "SaXRLPfqtJjs",
        "colab_type": "code",
        "colab": {}
      },
      "source": [
        "# Look at training curves in tensorboard:\n",
        "%load_ext tensorboard\n",
        "%tensorboard --logdir outputMRCNN"
      ],
      "execution_count": null,
      "outputs": []
    },
    {
      "cell_type": "code",
      "metadata": {
        "id": "tyUCDYnqHOKV",
        "colab_type": "code",
        "colab": {}
      },
      "source": [
        "from detectron2.evaluation import COCOEvaluator, inference_on_dataset\n",
        "from detectron2.data import build_detection_test_loader\n",
        "evaluator = COCOEvaluator(\"wz\", cfg1, False, output_dir=\"./outputMRCNN/\")#output_dir可选的输出目录，用于转储数据集上预测的所有结果。转储包含两个文件 \"instance_predictions.pth\" “ coco_instances_results.json”\n",
        "val_loader = build_detection_test_loader(cfg1, \"wz\")\n",
        "inference_on_dataset(MRCNNtrainer.model, val_loader, evaluator)\n",
        "# another equivalent way is to use trainer.test\n"
      ],
      "execution_count": null,
      "outputs": []
    },
    {
      "cell_type": "code",
      "metadata": {
        "id": "zdCjVuZ7gSxQ",
        "colab_type": "code",
        "colab": {}
      },
      "source": [
        "import time\n",
        "times = []\n",
        "for i in range(20):\n",
        "    start_time = time.time()\n",
        "    outputs = MRCNNpredictor(im)\n",
        "    delta = time.time() - start_time\n",
        "    times.append(delta)\n",
        "mean_delta = np.array(times).mean()\n",
        "fps = 1 / mean_delta\n",
        "print(\"Average(sec):{:.2f},fps:{:.2f}\".format(mean_delta, fps))"
      ],
      "execution_count": null,
      "outputs": []
    },
    {
      "cell_type": "markdown",
      "metadata": {
        "id": "PSV_XTI1tJTw",
        "colab_type": "text"
      },
      "source": [
        ""
      ]
    },
    {
      "cell_type": "markdown",
      "metadata": {
        "id": "aQ9_YjV7o7xk",
        "colab_type": "text"
      },
      "source": [
        "## Pointrend模型"
      ]
    },
    {
      "cell_type": "code",
      "metadata": {
        "id": "nEuB2wY_8kCv",
        "colab_type": "code",
        "colab": {
          "base_uri": "https://localhost:8080/",
          "height": 1000
        },
        "outputId": "e28e81cf-8ae9-4263-e77a-5e5161389468"
      },
      "source": [
        "from detectron2.engine import DefaultTrainer\n",
        "from detectron2.config import get_cfg\n",
        "import os\n",
        "\n",
        "cfg = get_cfg()\n",
        "\n",
        "# Add PointRend-specific config\n",
        "point_rend.add_pointrend_config(cfg)\n",
        "cfg.MODEL.POINT_HEAD.NUM_CLASSES = 28 #修改POINT_HEAD.NUM_CLASSES 32 默认值为80\n",
        "\n",
        "\n",
        "cfg.merge_from_file(\"detectron2_repo/projects/PointRend/configs/InstanceSegmentation/pointrend_rcnn_R_50_FPN_3x_coco.yaml\")\n",
        "cfg.DATASETS.TRAIN = (\"L\",)\n",
        "cfg.DATASETS.TEST = ()   # no metrics implemented for this dataset\n",
        "cfg.DATALOADER.NUM_WORKERS = 4\n",
        "\n",
        "cfg.MODEL.WEIGHTS = \"https://dl.fbaipublicfiles.com/detectron2/PointRend/InstanceSegmentation/pointrend_rcnn_R_50_FPN_3x_coco/164955410/model_final_3c3198.pkl\" # initialize from model zoo\n",
        "\n",
        "cfg.SOLVER.IMS_PER_BATCH = 10\n",
        "cfg.SOLVER.BASE_LR = 0.00025\n",
        "cfg.SOLVER.MAX_ITER = 18000    # 3000 iterations seems good enough, but you can certainly train longer\n",
        "cfg.MODEL.ROI_HEADS.BATCH_SIZE_PER_IMAGE =128   # faster, and good enough for this toy dataset\n",
        "cfg.MODEL.ROI_HEADS.NUM_CLASSES = 28  # 28 classes (heng,shu....)\n",
        "cfg.OUTPUT_DIR= '/content/drive/My Drive/lgq18000'\n",
        "\n",
        "#正式训练\n",
        "os.makedirs(cfg.OUTPUT_DIR, exist_ok=True)\n",
        "trainer = DefaultTrainer(cfg)\n",
        "trainer.resume_or_load(resume=False)\n",
        "trainer.train()"
      ],
      "execution_count": null,
      "outputs": [
        {
          "output_type": "stream",
          "text": [
            "\u001b[32m[06/20 03:53:59 d2.engine.defaults]: \u001b[0mModel:\n",
            "GeneralizedRCNN(\n",
            "  (backbone): FPN(\n",
            "    (fpn_lateral2): Conv2d(256, 256, kernel_size=(1, 1), stride=(1, 1))\n",
            "    (fpn_output2): Conv2d(256, 256, kernel_size=(3, 3), stride=(1, 1), padding=(1, 1))\n",
            "    (fpn_lateral3): Conv2d(512, 256, kernel_size=(1, 1), stride=(1, 1))\n",
            "    (fpn_output3): Conv2d(256, 256, kernel_size=(3, 3), stride=(1, 1), padding=(1, 1))\n",
            "    (fpn_lateral4): Conv2d(1024, 256, kernel_size=(1, 1), stride=(1, 1))\n",
            "    (fpn_output4): Conv2d(256, 256, kernel_size=(3, 3), stride=(1, 1), padding=(1, 1))\n",
            "    (fpn_lateral5): Conv2d(2048, 256, kernel_size=(1, 1), stride=(1, 1))\n",
            "    (fpn_output5): Conv2d(256, 256, kernel_size=(3, 3), stride=(1, 1), padding=(1, 1))\n",
            "    (top_block): LastLevelMaxPool()\n",
            "    (bottom_up): ResNet(\n",
            "      (stem): BasicStem(\n",
            "        (conv1): Conv2d(\n",
            "          3, 64, kernel_size=(7, 7), stride=(2, 2), padding=(3, 3), bias=False\n",
            "          (norm): FrozenBatchNorm2d(num_features=64, eps=1e-05)\n",
            "        )\n",
            "      )\n",
            "      (res2): Sequential(\n",
            "        (0): BottleneckBlock(\n",
            "          (shortcut): Conv2d(\n",
            "            64, 256, kernel_size=(1, 1), stride=(1, 1), bias=False\n",
            "            (norm): FrozenBatchNorm2d(num_features=256, eps=1e-05)\n",
            "          )\n",
            "          (conv1): Conv2d(\n",
            "            64, 64, kernel_size=(1, 1), stride=(1, 1), bias=False\n",
            "            (norm): FrozenBatchNorm2d(num_features=64, eps=1e-05)\n",
            "          )\n",
            "          (conv2): Conv2d(\n",
            "            64, 64, kernel_size=(3, 3), stride=(1, 1), padding=(1, 1), bias=False\n",
            "            (norm): FrozenBatchNorm2d(num_features=64, eps=1e-05)\n",
            "          )\n",
            "          (conv3): Conv2d(\n",
            "            64, 256, kernel_size=(1, 1), stride=(1, 1), bias=False\n",
            "            (norm): FrozenBatchNorm2d(num_features=256, eps=1e-05)\n",
            "          )\n",
            "        )\n",
            "        (1): BottleneckBlock(\n",
            "          (conv1): Conv2d(\n",
            "            256, 64, kernel_size=(1, 1), stride=(1, 1), bias=False\n",
            "            (norm): FrozenBatchNorm2d(num_features=64, eps=1e-05)\n",
            "          )\n",
            "          (conv2): Conv2d(\n",
            "            64, 64, kernel_size=(3, 3), stride=(1, 1), padding=(1, 1), bias=False\n",
            "            (norm): FrozenBatchNorm2d(num_features=64, eps=1e-05)\n",
            "          )\n",
            "          (conv3): Conv2d(\n",
            "            64, 256, kernel_size=(1, 1), stride=(1, 1), bias=False\n",
            "            (norm): FrozenBatchNorm2d(num_features=256, eps=1e-05)\n",
            "          )\n",
            "        )\n",
            "        (2): BottleneckBlock(\n",
            "          (conv1): Conv2d(\n",
            "            256, 64, kernel_size=(1, 1), stride=(1, 1), bias=False\n",
            "            (norm): FrozenBatchNorm2d(num_features=64, eps=1e-05)\n",
            "          )\n",
            "          (conv2): Conv2d(\n",
            "            64, 64, kernel_size=(3, 3), stride=(1, 1), padding=(1, 1), bias=False\n",
            "            (norm): FrozenBatchNorm2d(num_features=64, eps=1e-05)\n",
            "          )\n",
            "          (conv3): Conv2d(\n",
            "            64, 256, kernel_size=(1, 1), stride=(1, 1), bias=False\n",
            "            (norm): FrozenBatchNorm2d(num_features=256, eps=1e-05)\n",
            "          )\n",
            "        )\n",
            "      )\n",
            "      (res3): Sequential(\n",
            "        (0): BottleneckBlock(\n",
            "          (shortcut): Conv2d(\n",
            "            256, 512, kernel_size=(1, 1), stride=(2, 2), bias=False\n",
            "            (norm): FrozenBatchNorm2d(num_features=512, eps=1e-05)\n",
            "          )\n",
            "          (conv1): Conv2d(\n",
            "            256, 128, kernel_size=(1, 1), stride=(2, 2), bias=False\n",
            "            (norm): FrozenBatchNorm2d(num_features=128, eps=1e-05)\n",
            "          )\n",
            "          (conv2): Conv2d(\n",
            "            128, 128, kernel_size=(3, 3), stride=(1, 1), padding=(1, 1), bias=False\n",
            "            (norm): FrozenBatchNorm2d(num_features=128, eps=1e-05)\n",
            "          )\n",
            "          (conv3): Conv2d(\n",
            "            128, 512, kernel_size=(1, 1), stride=(1, 1), bias=False\n",
            "            (norm): FrozenBatchNorm2d(num_features=512, eps=1e-05)\n",
            "          )\n",
            "        )\n",
            "        (1): BottleneckBlock(\n",
            "          (conv1): Conv2d(\n",
            "            512, 128, kernel_size=(1, 1), stride=(1, 1), bias=False\n",
            "            (norm): FrozenBatchNorm2d(num_features=128, eps=1e-05)\n",
            "          )\n",
            "          (conv2): Conv2d(\n",
            "            128, 128, kernel_size=(3, 3), stride=(1, 1), padding=(1, 1), bias=False\n",
            "            (norm): FrozenBatchNorm2d(num_features=128, eps=1e-05)\n",
            "          )\n",
            "          (conv3): Conv2d(\n",
            "            128, 512, kernel_size=(1, 1), stride=(1, 1), bias=False\n",
            "            (norm): FrozenBatchNorm2d(num_features=512, eps=1e-05)\n",
            "          )\n",
            "        )\n",
            "        (2): BottleneckBlock(\n",
            "          (conv1): Conv2d(\n",
            "            512, 128, kernel_size=(1, 1), stride=(1, 1), bias=False\n",
            "            (norm): FrozenBatchNorm2d(num_features=128, eps=1e-05)\n",
            "          )\n",
            "          (conv2): Conv2d(\n",
            "            128, 128, kernel_size=(3, 3), stride=(1, 1), padding=(1, 1), bias=False\n",
            "            (norm): FrozenBatchNorm2d(num_features=128, eps=1e-05)\n",
            "          )\n",
            "          (conv3): Conv2d(\n",
            "            128, 512, kernel_size=(1, 1), stride=(1, 1), bias=False\n",
            "            (norm): FrozenBatchNorm2d(num_features=512, eps=1e-05)\n",
            "          )\n",
            "        )\n",
            "        (3): BottleneckBlock(\n",
            "          (conv1): Conv2d(\n",
            "            512, 128, kernel_size=(1, 1), stride=(1, 1), bias=False\n",
            "            (norm): FrozenBatchNorm2d(num_features=128, eps=1e-05)\n",
            "          )\n",
            "          (conv2): Conv2d(\n",
            "            128, 128, kernel_size=(3, 3), stride=(1, 1), padding=(1, 1), bias=False\n",
            "            (norm): FrozenBatchNorm2d(num_features=128, eps=1e-05)\n",
            "          )\n",
            "          (conv3): Conv2d(\n",
            "            128, 512, kernel_size=(1, 1), stride=(1, 1), bias=False\n",
            "            (norm): FrozenBatchNorm2d(num_features=512, eps=1e-05)\n",
            "          )\n",
            "        )\n",
            "      )\n",
            "      (res4): Sequential(\n",
            "        (0): BottleneckBlock(\n",
            "          (shortcut): Conv2d(\n",
            "            512, 1024, kernel_size=(1, 1), stride=(2, 2), bias=False\n",
            "            (norm): FrozenBatchNorm2d(num_features=1024, eps=1e-05)\n",
            "          )\n",
            "          (conv1): Conv2d(\n",
            "            512, 256, kernel_size=(1, 1), stride=(2, 2), bias=False\n",
            "            (norm): FrozenBatchNorm2d(num_features=256, eps=1e-05)\n",
            "          )\n",
            "          (conv2): Conv2d(\n",
            "            256, 256, kernel_size=(3, 3), stride=(1, 1), padding=(1, 1), bias=False\n",
            "            (norm): FrozenBatchNorm2d(num_features=256, eps=1e-05)\n",
            "          )\n",
            "          (conv3): Conv2d(\n",
            "            256, 1024, kernel_size=(1, 1), stride=(1, 1), bias=False\n",
            "            (norm): FrozenBatchNorm2d(num_features=1024, eps=1e-05)\n",
            "          )\n",
            "        )\n",
            "        (1): BottleneckBlock(\n",
            "          (conv1): Conv2d(\n",
            "            1024, 256, kernel_size=(1, 1), stride=(1, 1), bias=False\n",
            "            (norm): FrozenBatchNorm2d(num_features=256, eps=1e-05)\n",
            "          )\n",
            "          (conv2): Conv2d(\n",
            "            256, 256, kernel_size=(3, 3), stride=(1, 1), padding=(1, 1), bias=False\n",
            "            (norm): FrozenBatchNorm2d(num_features=256, eps=1e-05)\n",
            "          )\n",
            "          (conv3): Conv2d(\n",
            "            256, 1024, kernel_size=(1, 1), stride=(1, 1), bias=False\n",
            "            (norm): FrozenBatchNorm2d(num_features=1024, eps=1e-05)\n",
            "          )\n",
            "        )\n",
            "        (2): BottleneckBlock(\n",
            "          (conv1): Conv2d(\n",
            "            1024, 256, kernel_size=(1, 1), stride=(1, 1), bias=False\n",
            "            (norm): FrozenBatchNorm2d(num_features=256, eps=1e-05)\n",
            "          )\n",
            "          (conv2): Conv2d(\n",
            "            256, 256, kernel_size=(3, 3), stride=(1, 1), padding=(1, 1), bias=False\n",
            "            (norm): FrozenBatchNorm2d(num_features=256, eps=1e-05)\n",
            "          )\n",
            "          (conv3): Conv2d(\n",
            "            256, 1024, kernel_size=(1, 1), stride=(1, 1), bias=False\n",
            "            (norm): FrozenBatchNorm2d(num_features=1024, eps=1e-05)\n",
            "          )\n",
            "        )\n",
            "        (3): BottleneckBlock(\n",
            "          (conv1): Conv2d(\n",
            "            1024, 256, kernel_size=(1, 1), stride=(1, 1), bias=False\n",
            "            (norm): FrozenBatchNorm2d(num_features=256, eps=1e-05)\n",
            "          )\n",
            "          (conv2): Conv2d(\n",
            "            256, 256, kernel_size=(3, 3), stride=(1, 1), padding=(1, 1), bias=False\n",
            "            (norm): FrozenBatchNorm2d(num_features=256, eps=1e-05)\n",
            "          )\n",
            "          (conv3): Conv2d(\n",
            "            256, 1024, kernel_size=(1, 1), stride=(1, 1), bias=False\n",
            "            (norm): FrozenBatchNorm2d(num_features=1024, eps=1e-05)\n",
            "          )\n",
            "        )\n",
            "        (4): BottleneckBlock(\n",
            "          (conv1): Conv2d(\n",
            "            1024, 256, kernel_size=(1, 1), stride=(1, 1), bias=False\n",
            "            (norm): FrozenBatchNorm2d(num_features=256, eps=1e-05)\n",
            "          )\n",
            "          (conv2): Conv2d(\n",
            "            256, 256, kernel_size=(3, 3), stride=(1, 1), padding=(1, 1), bias=False\n",
            "            (norm): FrozenBatchNorm2d(num_features=256, eps=1e-05)\n",
            "          )\n",
            "          (conv3): Conv2d(\n",
            "            256, 1024, kernel_size=(1, 1), stride=(1, 1), bias=False\n",
            "            (norm): FrozenBatchNorm2d(num_features=1024, eps=1e-05)\n",
            "          )\n",
            "        )\n",
            "        (5): BottleneckBlock(\n",
            "          (conv1): Conv2d(\n",
            "            1024, 256, kernel_size=(1, 1), stride=(1, 1), bias=False\n",
            "            (norm): FrozenBatchNorm2d(num_features=256, eps=1e-05)\n",
            "          )\n",
            "          (conv2): Conv2d(\n",
            "            256, 256, kernel_size=(3, 3), stride=(1, 1), padding=(1, 1), bias=False\n",
            "            (norm): FrozenBatchNorm2d(num_features=256, eps=1e-05)\n",
            "          )\n",
            "          (conv3): Conv2d(\n",
            "            256, 1024, kernel_size=(1, 1), stride=(1, 1), bias=False\n",
            "            (norm): FrozenBatchNorm2d(num_features=1024, eps=1e-05)\n",
            "          )\n",
            "        )\n",
            "      )\n",
            "      (res5): Sequential(\n",
            "        (0): BottleneckBlock(\n",
            "          (shortcut): Conv2d(\n",
            "            1024, 2048, kernel_size=(1, 1), stride=(2, 2), bias=False\n",
            "            (norm): FrozenBatchNorm2d(num_features=2048, eps=1e-05)\n",
            "          )\n",
            "          (conv1): Conv2d(\n",
            "            1024, 512, kernel_size=(1, 1), stride=(2, 2), bias=False\n",
            "            (norm): FrozenBatchNorm2d(num_features=512, eps=1e-05)\n",
            "          )\n",
            "          (conv2): Conv2d(\n",
            "            512, 512, kernel_size=(3, 3), stride=(1, 1), padding=(1, 1), bias=False\n",
            "            (norm): FrozenBatchNorm2d(num_features=512, eps=1e-05)\n",
            "          )\n",
            "          (conv3): Conv2d(\n",
            "            512, 2048, kernel_size=(1, 1), stride=(1, 1), bias=False\n",
            "            (norm): FrozenBatchNorm2d(num_features=2048, eps=1e-05)\n",
            "          )\n",
            "        )\n",
            "        (1): BottleneckBlock(\n",
            "          (conv1): Conv2d(\n",
            "            2048, 512, kernel_size=(1, 1), stride=(1, 1), bias=False\n",
            "            (norm): FrozenBatchNorm2d(num_features=512, eps=1e-05)\n",
            "          )\n",
            "          (conv2): Conv2d(\n",
            "            512, 512, kernel_size=(3, 3), stride=(1, 1), padding=(1, 1), bias=False\n",
            "            (norm): FrozenBatchNorm2d(num_features=512, eps=1e-05)\n",
            "          )\n",
            "          (conv3): Conv2d(\n",
            "            512, 2048, kernel_size=(1, 1), stride=(1, 1), bias=False\n",
            "            (norm): FrozenBatchNorm2d(num_features=2048, eps=1e-05)\n",
            "          )\n",
            "        )\n",
            "        (2): BottleneckBlock(\n",
            "          (conv1): Conv2d(\n",
            "            2048, 512, kernel_size=(1, 1), stride=(1, 1), bias=False\n",
            "            (norm): FrozenBatchNorm2d(num_features=512, eps=1e-05)\n",
            "          )\n",
            "          (conv2): Conv2d(\n",
            "            512, 512, kernel_size=(3, 3), stride=(1, 1), padding=(1, 1), bias=False\n",
            "            (norm): FrozenBatchNorm2d(num_features=512, eps=1e-05)\n",
            "          )\n",
            "          (conv3): Conv2d(\n",
            "            512, 2048, kernel_size=(1, 1), stride=(1, 1), bias=False\n",
            "            (norm): FrozenBatchNorm2d(num_features=2048, eps=1e-05)\n",
            "          )\n",
            "        )\n",
            "      )\n",
            "    )\n",
            "  )\n",
            "  (proposal_generator): RPN(\n",
            "    (anchor_generator): DefaultAnchorGenerator(\n",
            "      (cell_anchors): BufferList()\n",
            "    )\n",
            "    (rpn_head): StandardRPNHead(\n",
            "      (conv): Conv2d(256, 256, kernel_size=(3, 3), stride=(1, 1), padding=(1, 1))\n",
            "      (objectness_logits): Conv2d(256, 3, kernel_size=(1, 1), stride=(1, 1))\n",
            "      (anchor_deltas): Conv2d(256, 12, kernel_size=(1, 1), stride=(1, 1))\n",
            "    )\n",
            "  )\n",
            "  (roi_heads): PointRendROIHeads(\n",
            "    (box_pooler): ROIPooler(\n",
            "      (level_poolers): ModuleList(\n",
            "        (0): ROIAlign(output_size=(7, 7), spatial_scale=0.25, sampling_ratio=0, aligned=True)\n",
            "        (1): ROIAlign(output_size=(7, 7), spatial_scale=0.125, sampling_ratio=0, aligned=True)\n",
            "        (2): ROIAlign(output_size=(7, 7), spatial_scale=0.0625, sampling_ratio=0, aligned=True)\n",
            "        (3): ROIAlign(output_size=(7, 7), spatial_scale=0.03125, sampling_ratio=0, aligned=True)\n",
            "      )\n",
            "    )\n",
            "    (box_head): FastRCNNConvFCHead(\n",
            "      (fc1): Linear(in_features=12544, out_features=1024, bias=True)\n",
            "      (fc2): Linear(in_features=1024, out_features=1024, bias=True)\n",
            "    )\n",
            "    (box_predictor): FastRCNNOutputLayers(\n",
            "      (cls_score): Linear(in_features=1024, out_features=29, bias=True)\n",
            "      (bbox_pred): Linear(in_features=1024, out_features=112, bias=True)\n",
            "    )\n",
            "  )\n",
            ")\n",
            "\u001b[32m[06/20 03:53:59 d2.data.datasets.coco]: \u001b[0mLoaded 546 images in COCO format from ./drive/My Drive/LGQ546/train546.json\n",
            "\u001b[32m[06/20 03:53:59 d2.data.build]: \u001b[0mRemoved 0 images with no usable annotations. 546 images left.\n",
            "\u001b[32m[06/20 03:53:59 d2.data.build]: \u001b[0mDistribution of instances among all 28 categories:\n",
            "\u001b[36m|   category    | #instances   |  category  | #instances   |   category    | #instances   |\n",
            "|:-------------:|:-------------|:----------:|:-------------|:-------------:|:-------------|\n",
            "|      pie      | 719          |    dian    | 745          |      shu      | 845          |\n",
            "|     heng      | 1488         |   shuti    | 28           |    shuzhe     | 37           |\n",
            "|    hengzhe    | 286          |   shugou   | 88           |    henggou    | 59           |\n",
            "|      ti       | 85           |   wogou    | 15           |    xiegou     | 29           |\n",
            "|  hengzhegou   | 115          |     na     | 140          |    hengpie    | 46           |\n",
            "|    shuwan     | 12           |   piezhe   | 61           |    wangou     | 28           |\n",
            "| shuzhezhegou  | 4            |  piedian   | 16           | hengzhezhepie | 15           |\n",
            "|   shuwangou   | 16           | hengxiegou | 3            | hengpiewangou | 6            |\n",
            "|  hengzhezhe   | 1            | shuzhezhe  | 1            |  hengzhewan   | 1            |\n",
            "| hengzhewangou | 1            |            |              |               |              |\n",
            "|     total     | 4890         |            |              |               |              |\u001b[0m\n",
            "\u001b[32m[06/20 03:53:59 d2.data.common]: \u001b[0mSerializing 546 elements to byte tensors and concatenating them all ...\n",
            "\u001b[32m[06/20 03:53:59 d2.data.common]: \u001b[0mSerialized dataset takes 3.10 MiB\n",
            "\u001b[32m[06/20 03:53:59 d2.data.detection_utils]: \u001b[0mTransformGens used in training: [ResizeShortestEdge(short_edge_length=(640, 672, 704, 736, 768, 800), max_size=1333, sample_style='choice'), RandomFlip()]\n",
            "\u001b[32m[06/20 03:53:59 d2.data.build]: \u001b[0mUsing training sampler TrainingSampler\n"
          ],
          "name": "stdout"
        },
        {
          "output_type": "stream",
          "text": [
            "model_final_3c3198.pkl: 241MB [00:21, 11.5MB/s]                           \n",
            "Unable to load 'roi_heads.box_predictor.cls_score.weight' to the model due to incompatible shapes: (81, 1024) in the checkpoint but (29, 1024) in the model!\n",
            "Unable to load 'roi_heads.box_predictor.cls_score.bias' to the model due to incompatible shapes: (81,) in the checkpoint but (29,) in the model!\n",
            "Unable to load 'roi_heads.box_predictor.bbox_pred.weight' to the model due to incompatible shapes: (320, 1024) in the checkpoint but (112, 1024) in the model!\n",
            "Unable to load 'roi_heads.box_predictor.bbox_pred.bias' to the model due to incompatible shapes: (320,) in the checkpoint but (112,) in the model!\n"
          ],
          "name": "stderr"
        },
        {
          "output_type": "stream",
          "text": [
            "\u001b[32m[06/20 03:54:22 d2.engine.train_loop]: \u001b[0mStarting training from iteration 0\n",
            "\u001b[32m[06/20 03:54:58 d2.utils.events]: \u001b[0m eta: 8:23:52  iter: 19  total_loss: 4.938  loss_cls: 3.151  loss_box_reg: 0.853  loss_rpn_cls: 0.850  loss_rpn_loc: 0.107  time: 1.7498  data_time: 1.1827  lr: 0.000005  max_mem: 7143M\n",
            "\u001b[32m[06/20 03:55:28 d2.utils.events]: \u001b[0m eta: 7:47:51  iter: 39  total_loss: 4.590  loss_cls: 2.927  loss_box_reg: 0.888  loss_rpn_cls: 0.644  loss_rpn_loc: 0.111  time: 1.6253  data_time: 0.8872  lr: 0.000010  max_mem: 7143M\n"
          ],
          "name": "stdout"
        }
      ]
    },
    {
      "cell_type": "code",
      "metadata": {
        "id": "r-HbfLDNHojH",
        "colab_type": "code",
        "colab": {}
      },
      "source": [
        "print(cfg)"
      ],
      "execution_count": null,
      "outputs": []
    },
    {
      "cell_type": "markdown",
      "metadata": {
        "id": "0e4vdDIOXyxF",
        "colab_type": "text"
      },
      "source": [
        "Now, we perform inference with the trained model on the fruits_nuts dataset. First, let's create a predictor using the model we just trained:\n",
        "\n"
      ]
    },
    {
      "cell_type": "code",
      "metadata": {
        "id": "YM6RCjvB9vU4",
        "colab_type": "code",
        "colab": {}
      },
      "source": [
        "# Look at training curves in tensorboard:\n",
        "%load_ext tensorboard\n",
        "%tensorboard --logdir  output"
      ],
      "execution_count": null,
      "outputs": []
    },
    {
      "cell_type": "markdown",
      "metadata": {
        "id": "NCp8IQ-aF53h",
        "colab_type": "text"
      },
      "source": [
        "## inference"
      ]
    },
    {
      "cell_type": "code",
      "metadata": {
        "id": "Ya5nEuMELeq8",
        "colab_type": "code",
        "colab": {}
      },
      "source": [
        "cfg.MODEL.WEIGHTS = os.path.join(cfg.OUTPUT_DIR, \"model_final.pth\")\n",
        "cfg.MODEL.ROI_HEADS.SCORE_THRESH_TEST = 0.5   # set the testing threshold for this model\n",
        "cfg.DATASETS.TEST = (\"L\", )\n",
        "predictor = DefaultPredictor(cfg)"
      ],
      "execution_count": null,
      "outputs": []
    },
    {
      "cell_type": "markdown",
      "metadata": {
        "id": "qWq1XHfDWiXO",
        "colab_type": "text"
      },
      "source": [
        "Then, we randomly select several samples to visualize the prediction results."
      ]
    },
    {
      "cell_type": "code",
      "metadata": {
        "id": "U5LhISJqWXgM",
        "colab_type": "code",
        "colab": {
          "base_uri": "https://localhost:8080/",
          "height": 1000
        },
        "outputId": "d91baf9f-4859-451b-f57c-2e4dff71fd4f"
      },
      "source": [
        "from detectron2.utils.visualizer import ColorMode\n",
        "\n",
        "for d in random.sample(wanzhengdataset_dicts, 1):    \n",
        "#     im = cv2.imread(d[\"file_name\"])\n",
        "    im = cv2.imread('/content/drive/My Drive/pic566_28class/images/000545.jpg') #使用活字 的图片\n",
        "    outputs = predictor(im)\n",
        "    v = Visualizer(im[:, :, ::-1],\n",
        "                   metadata=wanzheng_metadata, \n",
        "                   scale=0.8, \n",
        "                   instance_mode=ColorMode.IMAGE_BW   # remove the colors of unsegmented pixels用于实例化可视化的不同颜色模式  IMAGE_BW：与IMAGE相同，但将所有不带遮罩的区域转换为灰度。仅适用于按实例绘制蒙版预测\n",
        "    )\n",
        "    v = v.draw_instance_predictions(outputs[\"instances\"].to(\"cpu\"))\n",
        "    cv2_imshow(v.get_image()[:, :, ::-1])\n",
        "\n",
        "\n",
        "    #如何输出单独的mask\n",
        "    masks=np.asarray(outputs[\"instances\"].to(\"cpu\").pred_masks)#[n,256,256]n为笔画数\n",
        "    count=0\n",
        "    for mask in masks:\n",
        "      mask=mask.astype(\"uint8\")#mask从[false,flase]到[00001100]\n",
        "      mask=mask*255       #变成二值图\n",
        "      cv2_imshow(mask)\n",
        "\n",
        "      count=count+1\n",
        "      file_path=\"/content/\"+str(count)+\".jpg\"\n",
        "      cv2.imwrite(file_path,mask)\n"
      ],
      "execution_count": null,
      "outputs": [
        {
          "output_type": "display_data",
          "data": {
            "image/png": "[encoded data removed]",
            "text/plain": [
              "<PIL.Image.Image image mode=RGB size=204x204 at 0x7F172692C390>"
            ]
          },
          "metadata": {
            "tags": []
          }
        },
        {
          "output_type": "display_data",
          "data": {
            "image/png": "[encoded data removed]",
            "text/plain": [
              "<PIL.Image.Image image mode=L size=256x256 at 0x7F187E4DF0B8>"
            ]
          },
          "metadata": {
            "tags": []
          }
        },
        {
          "output_type": "display_data",
          "data": {
            "image/png": "[encoded data removed]",
            "text/plain": [
              "<PIL.Image.Image image mode=L size=256x256 at 0x7F187E4DF208>"
            ]
          },
          "metadata": {
            "tags": []
          }
        },
        {
          "output_type": "display_data",
          "data": {
            "image/png": "[encoded data removed]",
            "text/plain": [
              "<PIL.Image.Image image mode=L size=256x256 at 0x7F187E4DF048>"
            ]
          },
          "metadata": {
            "tags": []
          }
        },
        {
          "output_type": "display_data",
          "data": {
            "image/png": "[encoded data removed]",
            "text/plain": [
              "<PIL.Image.Image image mode=L size=256x256 at 0x7F187E4DF208>"
            ]
          },
          "metadata": {
            "tags": []
          }
        },
        {
          "output_type": "display_data",
          "data": {
            "image/png": "[encoded data removed]",
            "text/plain": [
              "<PIL.Image.Image image mode=L size=256x256 at 0x7F187E4DF048>"
            ]
          },
          "metadata": {
            "tags": []
          }
        },
        {
          "output_type": "display_data",
          "data": {
            "image/png": "[encoded data removed]",
            "text/plain": [
              "<PIL.Image.Image image mode=L size=256x256 at 0x7F187E4DF208>"
            ]
          },
          "metadata": {
            "tags": []
          }
        },
        {
          "output_type": "display_data",
          "data": {
            "image/png": "[encoded data removed]",
            "text/plain": [
              "<PIL.Image.Image image mode=L size=256x256 at 0x7F187E4DF048>"
            ]
          },
          "metadata": {
            "tags": []
          }
        },
        {
          "output_type": "display_data",
          "data": {
            "image/png": "[encoded data removed]",
            "text/plain": [
              "<PIL.Image.Image image mode=L size=256x256 at 0x7F187E4DF208>"
            ]
          },
          "metadata": {
            "tags": []
          }
        }
      ]
    },
    {
      "cell_type": "code",
      "metadata": {
        "id": "t_bo0cypwllj",
        "colab_type": "code",
        "colab": {
          "base_uri": "https://localhost:8080/",
          "height": 55
        },
        "outputId": "63854c5a-44ac-4b93-bf72-aa1099085a8e"
      },
      "source": [
        "wanzheng_metadata"
      ],
      "execution_count": null,
      "outputs": [
        {
          "output_type": "execute_result",
          "data": {
            "text/plain": [
              "Metadata(evaluator_type='coco', image_root='./drive/My Drive/pic566_28class/images', json_file='./drive/My Drive/pic566_28class/images566.json', name='wzInfer', thing_classes=['piezhe', 'heng', 'hengzhewangou', 'pie', 'na', 'shuwangou', 'henggou', 'shugou', 'hengzhegou', 'hengzhezhezhegou', 'hengpie', 'shu', 'shuzhezhegou', 'dian', 'wangou', 'ti', 'shuti', 'shuzhe', 'wogou', 'hengzhe', 'xiegou', 'hengzhezhepie', 'hengzhewan', 'piedian', 'shuzhepie', 'hengxiegou', 'hengzheti', 'shuwan'], thing_dataset_id_to_contiguous_id={1: 0, 2: 1, 3: 2, 4: 3, 5: 4, 6: 5, 7: 6, 8: 7, 9: 8, 10: 9, 11: 10, 12: 11, 13: 12, 14: 13, 15: 14, 16: 15, 17: 16, 18: 17, 19: 18, 20: 19, 21: 20, 22: 21, 23: 22, 24: 23, 25: 24, 26: 25, 27: 26, 28: 27})"
            ]
          },
          "metadata": {
            "tags": []
          },
          "execution_count": 22
        }
      ]
    },
    {
      "cell_type": "markdown",
      "metadata": {
        "id": "rvn2tueICLiE",
        "colab_type": "text"
      },
      "source": [
        "We can also evaluate its performance using AP metric implemented in COCO API. This gives an AP of ~70%. Not bad!"
      ]
    },
    {
      "cell_type": "code",
      "metadata": {
        "id": "DGKtdLlNFZk2",
        "colab_type": "code",
        "colab": {
          "base_uri": "https://localhost:8080/",
          "height": 1000
        },
        "outputId": "e13ab192-5d9a-45fb-b227-c17fa18723eb"
      },
      "source": [
        "print(cfg)"
      ],
      "execution_count": null,
      "outputs": [
        {
          "output_type": "stream",
          "text": [
            "CUDNN_BENCHMARK: False\n",
            "DATALOADER:\n",
            "  ASPECT_RATIO_GROUPING: True\n",
            "  FILTER_EMPTY_ANNOTATIONS: True\n",
            "  NUM_WORKERS: 4\n",
            "  REPEAT_THRESHOLD: 0.0\n",
            "  SAMPLER_TRAIN: TrainingSampler\n",
            "DATASETS:\n",
            "  PRECOMPUTED_PROPOSAL_TOPK_TEST: 1000\n",
            "  PRECOMPUTED_PROPOSAL_TOPK_TRAIN: 2000\n",
            "  PROPOSAL_FILES_TEST: ()\n",
            "  PROPOSAL_FILES_TRAIN: ()\n",
            "  TEST: ('wzInfer',)\n",
            "  TRAIN: ('wz',)\n",
            "GLOBAL:\n",
            "  HACK: 1.0\n",
            "INPUT:\n",
            "  CROP:\n",
            "    ENABLED: False\n",
            "    SIZE: [0.9, 0.9]\n",
            "    TYPE: relative_range\n",
            "  FORMAT: BGR\n",
            "  MASK_FORMAT: bitmask\n",
            "  MAX_SIZE_TEST: 1333\n",
            "  MAX_SIZE_TRAIN: 1333\n",
            "  MIN_SIZE_TEST: 800\n",
            "  MIN_SIZE_TRAIN: (640, 672, 704, 736, 768, 800)\n",
            "  MIN_SIZE_TRAIN_SAMPLING: choice\n",
            "MODEL:\n",
            "  ANCHOR_GENERATOR:\n",
            "    ANGLES: [[-90, 0, 90]]\n",
            "    ASPECT_RATIOS: [[0.5, 1.0, 2.0], [0.5, 1.0, 2.0], [0.5, 1.0, 2.0], [0.5, 1.0, 2.0], [0.5, 1.0, 2.0]]\n",
            "    NAME: DefaultAnchorGenerator\n",
            "    OFFSET: 0.0\n",
            "    SIZES: [[32], [64], [128], [256], [512]]\n",
            "  BACKBONE:\n",
            "    FREEZE_AT: 2\n",
            "    NAME: build_resnet_fpn_backbone\n",
            "  DEVICE: cuda\n",
            "  FPN:\n",
            "    FUSE_TYPE: sum\n",
            "    IN_FEATURES: ['res2', 'res3', 'res4', 'res5']\n",
            "    NORM: \n",
            "    OUT_CHANNELS: 256\n",
            "  KEYPOINT_ON: False\n",
            "  LOAD_PROPOSALS: False\n",
            "  MASK_ON: True\n",
            "  META_ARCHITECTURE: GeneralizedRCNN\n",
            "  PANOPTIC_FPN:\n",
            "    COMBINE:\n",
            "      ENABLED: True\n",
            "      INSTANCES_CONFIDENCE_THRESH: 0.5\n",
            "      OVERLAP_THRESH: 0.5\n",
            "      STUFF_AREA_LIMIT: 4096\n",
            "    INSTANCE_LOSS_WEIGHT: 1.0\n",
            "  PIXEL_MEAN: [103.53, 116.28, 123.675]\n",
            "  PIXEL_STD: [1.0, 1.0, 1.0]\n",
            "  POINT_HEAD:\n",
            "    CLS_AGNOSTIC_MASK: False\n",
            "    COARSE_PRED_EACH_LAYER: True\n",
            "    FC_DIM: 256\n",
            "    IMPORTANCE_SAMPLE_RATIO: 0.75\n",
            "    IN_FEATURES: ('p2',)\n",
            "    NAME: StandardPointHead\n",
            "    NUM_CLASSES: 32\n",
            "    NUM_FC: 3\n",
            "    OVERSAMPLE_RATIO: 3\n",
            "    SUBDIVISION_NUM_POINTS: 784\n",
            "    SUBDIVISION_STEPS: 5\n",
            "    TRAIN_NUM_POINTS: 196\n",
            "  PROPOSAL_GENERATOR:\n",
            "    MIN_SIZE: 0\n",
            "    NAME: RPN\n",
            "  RESNETS:\n",
            "    DEFORM_MODULATED: False\n",
            "    DEFORM_NUM_GROUPS: 1\n",
            "    DEFORM_ON_PER_STAGE: [False, False, False, False]\n",
            "    DEPTH: 50\n",
            "    NORM: FrozenBN\n",
            "    NUM_GROUPS: 1\n",
            "    OUT_FEATURES: ['res2', 'res3', 'res4', 'res5']\n",
            "    RES2_OUT_CHANNELS: 256\n",
            "    RES5_DILATION: 1\n",
            "    STEM_OUT_CHANNELS: 64\n",
            "    STRIDE_IN_1X1: True\n",
            "    WIDTH_PER_GROUP: 64\n",
            "  RETINANET:\n",
            "    BBOX_REG_WEIGHTS: (1.0, 1.0, 1.0, 1.0)\n",
            "    FOCAL_LOSS_ALPHA: 0.25\n",
            "    FOCAL_LOSS_GAMMA: 2.0\n",
            "    IN_FEATURES: ['p3', 'p4', 'p5', 'p6', 'p7']\n",
            "    IOU_LABELS: [0, -1, 1]\n",
            "    IOU_THRESHOLDS: [0.4, 0.5]\n",
            "    NMS_THRESH_TEST: 0.5\n",
            "    NUM_CLASSES: 80\n",
            "    NUM_CONVS: 4\n",
            "    PRIOR_PROB: 0.01\n",
            "    SCORE_THRESH_TEST: 0.05\n",
            "    SMOOTH_L1_LOSS_BETA: 0.1\n",
            "    TOPK_CANDIDATES_TEST: 1000\n",
            "  ROI_BOX_CASCADE_HEAD:\n",
            "    BBOX_REG_WEIGHTS: ((10.0, 10.0, 5.0, 5.0), (20.0, 20.0, 10.0, 10.0), (30.0, 30.0, 15.0, 15.0))\n",
            "    IOUS: (0.5, 0.6, 0.7)\n",
            "  ROI_BOX_HEAD:\n",
            "    BBOX_REG_WEIGHTS: (10.0, 10.0, 5.0, 5.0)\n",
            "    CLS_AGNOSTIC_BBOX_REG: False\n",
            "    CONV_DIM: 256\n",
            "    FC_DIM: 1024\n",
            "    NAME: FastRCNNConvFCHead\n",
            "    NORM: \n",
            "    NUM_CONV: 0\n",
            "    NUM_FC: 2\n",
            "    POOLER_RESOLUTION: 7\n",
            "    POOLER_SAMPLING_RATIO: 0\n",
            "    POOLER_TYPE: ROIAlignV2\n",
            "    SMOOTH_L1_BETA: 0.0\n",
            "    TRAIN_ON_PRED_BOXES: True\n",
            "  ROI_HEADS:\n",
            "    BATCH_SIZE_PER_IMAGE: 256\n",
            "    IN_FEATURES: ['p2', 'p3', 'p4', 'p5']\n",
            "    IOU_LABELS: [0, 1]\n",
            "    IOU_THRESHOLDS: [0.5]\n",
            "    NAME: PointRendROIHeads\n",
            "    NMS_THRESH_TEST: 0.5\n",
            "    NUM_CLASSES: 32\n",
            "    POSITIVE_FRACTION: 0.25\n",
            "    PROPOSAL_APPEND_GT: True\n",
            "    SCORE_THRESH_TEST: 0.5\n",
            "  ROI_KEYPOINT_HEAD:\n",
            "    CONV_DIMS: (512, 512, 512, 512, 512, 512, 512, 512)\n",
            "    LOSS_WEIGHT: 1.0\n",
            "    MIN_KEYPOINTS_PER_IMAGE: 1\n",
            "    NAME: KRCNNConvDeconvUpsampleHead\n",
            "    NORMALIZE_LOSS_BY_VISIBLE_KEYPOINTS: True\n",
            "    NUM_KEYPOINTS: 17\n",
            "    POOLER_RESOLUTION: 14\n",
            "    POOLER_SAMPLING_RATIO: 0\n",
            "    POOLER_TYPE: ROIAlignV2\n",
            "  ROI_MASK_HEAD:\n",
            "    CLS_AGNOSTIC_MASK: False\n",
            "    CONV_DIM: 256\n",
            "    FC_DIM: 1024\n",
            "    IN_FEATURES: ('p2',)\n",
            "    NAME: CoarseMaskHead\n",
            "    NORM: \n",
            "    NUM_CONV: 4\n",
            "    NUM_FC: 2\n",
            "    OUTPUT_SIDE_RESOLUTION: 7\n",
            "    POINT_HEAD_ON: True\n",
            "    POOLER_RESOLUTION: 14\n",
            "    POOLER_SAMPLING_RATIO: 0\n",
            "    POOLER_TYPE: ROIAlignV2\n",
            "  RPN:\n",
            "    BATCH_SIZE_PER_IMAGE: 256\n",
            "    BBOX_REG_WEIGHTS: (1.0, 1.0, 1.0, 1.0)\n",
            "    BOUNDARY_THRESH: -1\n",
            "    HEAD_NAME: StandardRPNHead\n",
            "    IN_FEATURES: ['p2', 'p3', 'p4', 'p5', 'p6']\n",
            "    IOU_LABELS: [0, -1, 1]\n",
            "    IOU_THRESHOLDS: [0.3, 0.7]\n",
            "    LOSS_WEIGHT: 1.0\n",
            "    NMS_THRESH: 0.7\n",
            "    POSITIVE_FRACTION: 0.5\n",
            "    POST_NMS_TOPK_TEST: 1000\n",
            "    POST_NMS_TOPK_TRAIN: 1000\n",
            "    PRE_NMS_TOPK_TEST: 1000\n",
            "    PRE_NMS_TOPK_TRAIN: 2000\n",
            "    SMOOTH_L1_BETA: 0.0\n",
            "  SEM_SEG_HEAD:\n",
            "    COMMON_STRIDE: 4\n",
            "    CONVS_DIM: 128\n",
            "    IGNORE_VALUE: 255\n",
            "    IN_FEATURES: ['p2', 'p3', 'p4', 'p5']\n",
            "    LOSS_WEIGHT: 1.0\n",
            "    NAME: SemSegFPNHead\n",
            "    NORM: GN\n",
            "    NUM_CLASSES: 54\n",
            "  WEIGHTS: ./output/model_final.pth\n",
            "OUTPUT_DIR: ./output\n",
            "SEED: -1\n",
            "SOLVER:\n",
            "  BASE_LR: 0.00025\n",
            "  BIAS_LR_FACTOR: 1.0\n",
            "  CHECKPOINT_PERIOD: 5000\n",
            "  GAMMA: 0.1\n",
            "  IMS_PER_BATCH: 10\n",
            "  LR_SCHEDULER_NAME: WarmupMultiStepLR\n",
            "  MAX_ITER: 10000\n",
            "  MOMENTUM: 0.9\n",
            "  STEPS: (210000, 250000)\n",
            "  WARMUP_FACTOR: 0.001\n",
            "  WARMUP_ITERS: 1000\n",
            "  WARMUP_METHOD: linear\n",
            "  WEIGHT_DECAY: 0.0001\n",
            "  WEIGHT_DECAY_BIAS: 0.0001\n",
            "  WEIGHT_DECAY_NORM: 0.0\n",
            "TEST:\n",
            "  AUG:\n",
            "    ENABLED: False\n",
            "    FLIP: True\n",
            "    MAX_SIZE: 4000\n",
            "    MIN_SIZES: (400, 500, 600, 700, 800, 900, 1000, 1100, 1200)\n",
            "  DETECTIONS_PER_IMAGE: 100\n",
            "  EVAL_PERIOD: 0\n",
            "  EXPECTED_RESULTS: []\n",
            "  KEYPOINT_OKS_SIGMAS: []\n",
            "  PRECISE_BN:\n",
            "    ENABLED: False\n",
            "    NUM_ITER: 200\n",
            "VERSION: 2\n",
            "VIS_PERIOD: 0\n"
          ],
          "name": "stdout"
        }
      ]
    },
    {
      "cell_type": "markdown",
      "metadata": {
        "id": "wWn8_HF-GBD3",
        "colab_type": "text"
      },
      "source": [
        "## **检验效果---AP**"
      ]
    },
    {
      "cell_type": "code",
      "metadata": {
        "id": "v4Y_TQ6YCOWT",
        "colab_type": "code",
        "colab": {
          "base_uri": "https://localhost:8080/",
          "height": 1000
        },
        "outputId": "ec5ddf85-4e77-4867-be4d-e060cf37941a"
      },
      "source": [
        "from detectron2.evaluation import COCOEvaluator, inference_on_dataset\n",
        "from detectron2.data import build_detection_test_loader\n",
        "evaluator = COCOEvaluator(\"wz\", cfg, False, output_dir=\"./output/\")#output_dir可选的输出目录，用于转储数据集上预测的所有结果。转储包含两个文件 \"instance_predictions.pth\" “ coco_instances_results.json”\n",
        "val_loader = build_detection_test_loader(cfg, \"wz\")\n",
        "inference_on_dataset(trainer.model, val_loader, evaluator)\n",
        "# another equivalent way is to use trainer.test\n"
      ],
      "execution_count": null,
      "outputs": [
        {
          "output_type": "stream",
          "text": [
            "\u001b[32m[04/19 11:57:14 d2.data.datasets.coco]: \u001b[0mLoaded 680 images in COCO format from ./drive/My Drive/pic32/train.json\n",
            "\u001b[32m[04/19 11:57:14 d2.data.build]: \u001b[0mDistribution of instances among all 32 categories:\n",
            "\u001b[36m|   category    | #instances   |   category    | #instances   |   category    | #instances   |\n",
            "|:-------------:|:-------------|:-------------:|:-------------|:-------------:|:-------------|\n",
            "|    piezhe     | 76           |     heng      | 1025         | hengzhewangou | 21           |\n",
            "|      pie      | 828          |      na       | 200          |   shuwangou   | 56           |\n",
            "|    henggou    | 47           |    shugou     | 109          |   shuzhezhe   | 11           |\n",
            "|      shu      | 600          |    hengzhe    | 173          |  hengzhegou   | 157          |\n",
            "| hengzhezhezhe | 5            | hengzhezhez.. | 9            |    hengpie    | 67           |\n",
            "|  hengzhezhe   | 11           | shuzhezhegou  | 18           |     dian      | 328          |\n",
            "|    wangou     | 22           |      ti       | 130          |     shuti     | 23           |\n",
            "|    shuzhe     | 29           |     wogou     | 15           |    xiegou     | 17           |\n",
            "| hengzhezhepie | 22           |  hengzhewan   | 7            |    piedian    | 12           |\n",
            "|   shuzhepie   | 2            |  hengxiegou   | 9            |   hengzheti   | 3            |\n",
            "|    shuwan     | 7            | hengpiewangou | 7            |               |              |\n",
            "|     total     | 4046         |               |              |               |              |\u001b[0m\n",
            "\u001b[32m[04/19 11:57:14 d2.data.common]: \u001b[0mSerializing 680 elements to byte tensors and concatenating them all ...\n",
            "\u001b[32m[04/19 11:57:14 d2.data.common]: \u001b[0mSerialized dataset takes 1.66 MiB\n",
            "\u001b[32m[04/19 11:57:14 d2.evaluation.evaluator]: \u001b[0mStart inference on 680 images\n",
            "\u001b[32m[04/19 11:57:19 d2.evaluation.evaluator]: \u001b[0mInference done 11/680. 0.0655 s / img. ETA=0:00:50\n",
            "\u001b[32m[04/19 11:57:24 d2.evaluation.evaluator]: \u001b[0mInference done 58/680. 0.0671 s / img. ETA=0:01:04\n",
            "\u001b[32m[04/19 11:57:29 d2.evaluation.evaluator]: \u001b[0mInference done 108/680. 0.0679 s / img. ETA=0:00:58\n",
            "\u001b[32m[04/19 11:57:34 d2.evaluation.evaluator]: \u001b[0mInference done 156/680. 0.0678 s / img. ETA=0:00:53\n",
            "\u001b[32m[04/19 11:57:39 d2.evaluation.evaluator]: \u001b[0mInference done 206/680. 0.0680 s / img. ETA=0:00:48\n",
            "\u001b[32m[04/19 11:57:44 d2.evaluation.evaluator]: \u001b[0mInference done 257/680. 0.0683 s / img. ETA=0:00:43\n",
            "\u001b[32m[04/19 11:57:50 d2.evaluation.evaluator]: \u001b[0mInference done 315/680. 0.0682 s / img. ETA=0:00:36\n",
            "\u001b[32m[04/19 11:57:55 d2.evaluation.evaluator]: \u001b[0mInference done 370/680. 0.0682 s / img. ETA=0:00:30\n",
            "\u001b[32m[04/19 11:58:00 d2.evaluation.evaluator]: \u001b[0mInference done 424/680. 0.0683 s / img. ETA=0:00:24\n",
            "\u001b[32m[04/19 11:58:05 d2.evaluation.evaluator]: \u001b[0mInference done 470/680. 0.0682 s / img. ETA=0:00:20\n",
            "\u001b[32m[04/19 11:58:10 d2.evaluation.evaluator]: \u001b[0mInference done 524/680. 0.0686 s / img. ETA=0:00:15\n",
            "\u001b[32m[04/19 11:58:15 d2.evaluation.evaluator]: \u001b[0mInference done 581/680. 0.0686 s / img. ETA=0:00:09\n",
            "\u001b[32m[04/19 11:58:20 d2.evaluation.evaluator]: \u001b[0mInference done 633/680. 0.0687 s / img. ETA=0:00:04\n",
            "\u001b[32m[04/19 11:58:25 d2.evaluation.evaluator]: \u001b[0mTotal inference time: 0:01:05.945664 (0.097697 s / img per device, on 1 devices)\n",
            "\u001b[32m[04/19 11:58:25 d2.evaluation.evaluator]: \u001b[0mTotal inference pure compute time: 0:00:46 (0.068884 s / img per device, on 1 devices)\n",
            "\u001b[32m[04/19 11:58:25 d2.evaluation.coco_evaluation]: \u001b[0mPreparing results for COCO format ...\n",
            "\u001b[32m[04/19 11:58:25 d2.evaluation.coco_evaluation]: \u001b[0mSaving results to ./output/coco_instances_results.json\n",
            "\u001b[32m[04/19 11:58:25 d2.evaluation.coco_evaluation]: \u001b[0mEvaluating predictions ...\n",
            "Loading and preparing results...\n",
            "DONE (t=0.01s)\n",
            "creating index...\n",
            "index created!\n",
            "Running per image evaluation...\n",
            "Evaluate annotation type *bbox*\n",
            "DONE (t=1.95s).\n",
            "Accumulating evaluation results...\n",
            "DONE (t=0.45s).\n",
            " Average Precision  (AP) @[ IoU=0.50:0.95 | area=   all | maxDets=100 ] = 0.864\n",
            " Average Precision  (AP) @[ IoU=0.50      | area=   all | maxDets=100 ] = 0.957\n",
            " Average Precision  (AP) @[ IoU=0.75      | area=   all | maxDets=100 ] = 0.953\n",
            " Average Precision  (AP) @[ IoU=0.50:0.95 | area= small | maxDets=100 ] = 0.625\n",
            " Average Precision  (AP) @[ IoU=0.50:0.95 | area=medium | maxDets=100 ] = 0.846\n",
            " Average Precision  (AP) @[ IoU=0.50:0.95 | area= large | maxDets=100 ] = 0.877\n",
            " Average Recall     (AR) @[ IoU=0.50:0.95 | area=   all | maxDets=  1 ] = 0.857\n",
            " Average Recall     (AR) @[ IoU=0.50:0.95 | area=   all | maxDets= 10 ] = 0.923\n",
            " Average Recall     (AR) @[ IoU=0.50:0.95 | area=   all | maxDets=100 ] = 0.923\n",
            " Average Recall     (AR) @[ IoU=0.50:0.95 | area= small | maxDets=100 ] = 0.723\n",
            " Average Recall     (AR) @[ IoU=0.50:0.95 | area=medium | maxDets=100 ] = 0.910\n",
            " Average Recall     (AR) @[ IoU=0.50:0.95 | area= large | maxDets=100 ] = 0.918\n",
            "\u001b[32m[04/19 11:58:27 d2.evaluation.coco_evaluation]: \u001b[0mEvaluation results for bbox: \n",
            "|   AP   |  AP50  |  AP75  |  APs   |  APm   |  APl   |\n",
            "|:------:|:------:|:------:|:------:|:------:|:------:|\n",
            "| 86.448 | 95.650 | 95.305 | 62.454 | 84.610 | 87.695 |\n",
            "\u001b[32m[04/19 11:58:27 d2.evaluation.coco_evaluation]: \u001b[0mPer-category bbox AP: \n",
            "| category      | AP      | category         | AP     | category      | AP     |\n",
            "|:--------------|:--------|:-----------------|:-------|:--------------|:-------|\n",
            "| piezhe        | 86.598  | heng             | 79.168 | hengzhewangou | 92.922 |\n",
            "| pie           | 85.485  | na               | 89.301 | shuwangou     | 84.726 |\n",
            "| henggou       | 80.048  | shugou           | 86.858 | shuzhezhe     | 96.823 |\n",
            "| shu           | 77.905  | hengzhe          | 78.492 | hengzhegou    | 85.307 |\n",
            "| hengzhezhezhe | 100.000 | hengzhezhezhegou | 78.564 | hengpie       | 91.395 |\n",
            "| hengzhezhe    | 94.554  | shuzhezhegou     | 91.283 | dian          | 74.517 |\n",
            "| wangou        | 78.006  | ti               | 86.556 | shuti         | 80.599 |\n",
            "| shuzhe        | 81.658  | wogou            | 90.211 | xiegou        | 89.867 |\n",
            "| hengzhezhepie | 91.625  | hengzhewan       | 94.042 | piedian       | 89.711 |\n",
            "| shuzhepie     | 90.000  | hengxiegou       | 86.661 | hengzheti     | 71.119 |\n",
            "| shuwan        | 92.129  | hengpiewangou    | 90.212 |               |        |\n",
            "Loading and preparing results...\n",
            "DONE (t=0.08s)\n",
            "creating index...\n",
            "index created!\n",
            "Running per image evaluation...\n",
            "Evaluate annotation type *segm*\n",
            "DONE (t=2.04s).\n",
            "Accumulating evaluation results...\n",
            "DONE (t=0.44s).\n",
            " Average Precision  (AP) @[ IoU=0.50:0.95 | area=   all | maxDets=100 ] = 0.822\n",
            " Average Precision  (AP) @[ IoU=0.50      | area=   all | maxDets=100 ] = 0.956\n",
            " Average Precision  (AP) @[ IoU=0.75      | area=   all | maxDets=100 ] = 0.924\n",
            " Average Precision  (AP) @[ IoU=0.50:0.95 | area= small | maxDets=100 ] = 0.368\n",
            " Average Precision  (AP) @[ IoU=0.50:0.95 | area=medium | maxDets=100 ] = 0.804\n",
            " Average Precision  (AP) @[ IoU=0.50:0.95 | area= large | maxDets=100 ] = 0.820\n",
            " Average Recall     (AR) @[ IoU=0.50:0.95 | area=   all | maxDets=  1 ] = 0.814\n",
            " Average Recall     (AR) @[ IoU=0.50:0.95 | area=   all | maxDets= 10 ] = 0.881\n",
            " Average Recall     (AR) @[ IoU=0.50:0.95 | area=   all | maxDets=100 ] = 0.881\n",
            " Average Recall     (AR) @[ IoU=0.50:0.95 | area= small | maxDets=100 ] = 0.759\n",
            " Average Recall     (AR) @[ IoU=0.50:0.95 | area=medium | maxDets=100 ] = 0.901\n",
            " Average Recall     (AR) @[ IoU=0.50:0.95 | area= large | maxDets=100 ] = 0.819\n",
            "\u001b[32m[04/19 11:58:30 d2.evaluation.coco_evaluation]: \u001b[0mEvaluation results for segm: \n",
            "|   AP   |  AP50  |  AP75  |  APs   |  APm   |  APl   |\n",
            "|:------:|:------:|:------:|:------:|:------:|:------:|\n",
            "| 82.199 | 95.574 | 92.363 | 36.765 | 80.406 | 81.954 |\n",
            "\u001b[32m[04/19 11:58:30 d2.evaluation.coco_evaluation]: \u001b[0mPer-category segm AP: \n",
            "| category      | AP     | category         | AP     | category      | AP     |\n",
            "|:--------------|:-------|:-----------------|:-------|:--------------|:-------|\n",
            "| piezhe        | 79.870 | heng             | 80.815 | hengzhewangou | 80.891 |\n",
            "| pie           | 83.985 | na               | 87.715 | shuwangou     | 80.033 |\n",
            "| henggou       | 80.417 | shugou           | 87.043 | shuzhezhe     | 89.901 |\n",
            "| shu           | 83.417 | hengzhe          | 78.198 | hengzhegou    | 79.444 |\n",
            "| hengzhezhezhe | 90.000 | hengzhezhezhegou | 76.590 | hengpie       | 84.645 |\n",
            "| hengzhezhe    | 84.554 | shuzhezhegou     | 77.863 | dian          | 76.200 |\n",
            "| wangou        | 82.191 | ti               | 85.788 | shuti         | 76.942 |\n",
            "| shuzhe        | 69.457 | wogou            | 91.700 | xiegou        | 82.887 |\n",
            "| hengzhezhepie | 78.165 | hengzhewan       | 92.554 | piedian       | 77.875 |\n",
            "| shuzhepie     | 90.000 | hengxiegou       | 76.158 | hengzheti     | 66.119 |\n",
            "| shuwan        | 88.939 | hengpiewangou    | 90.000 |               |        |\n"
          ],
          "name": "stdout"
        },
        {
          "output_type": "execute_result",
          "data": {
            "text/plain": [
              "OrderedDict([('bbox',\n",
              "              {'AP': 86.44821402532902,\n",
              "               'AP-dian': 74.51679407539574,\n",
              "               'AP-heng': 79.16831918641024,\n",
              "               'AP-henggou': 80.04840441275499,\n",
              "               'AP-hengpie': 91.39495832830366,\n",
              "               'AP-hengpiewangou': 90.2121640735502,\n",
              "               'AP-hengxiegou': 86.66116611661167,\n",
              "               'AP-hengzhe': 78.49187895177208,\n",
              "               'AP-hengzhegou': 85.30686159841957,\n",
              "               'AP-hengzheti': 71.11881188118811,\n",
              "               'AP-hengzhewan': 94.04172560113155,\n",
              "               'AP-hengzhewangou': 92.92209484106306,\n",
              "               'AP-hengzhezhe': 94.55445544554455,\n",
              "               'AP-hengzhezhepie': 91.62530869791784,\n",
              "               'AP-hengzhezhezhe': 100.0,\n",
              "               'AP-hengzhezhezhegou': 78.56435643564356,\n",
              "               'AP-na': 89.30098745098854,\n",
              "               'AP-pie': 85.48464326083361,\n",
              "               'AP-piedian': 89.7112211221122,\n",
              "               'AP-piezhe': 86.59821861051617,\n",
              "               'AP-shu': 77.90482161810843,\n",
              "               'AP-shugou': 86.85774368648175,\n",
              "               'AP-shuti': 80.59896575864484,\n",
              "               'AP-shuwan': 92.12871287128714,\n",
              "               'AP-shuwangou': 84.72620211582954,\n",
              "               'AP-shuzhe': 81.65770687313325,\n",
              "               'AP-shuzhepie': 90.0,\n",
              "               'AP-shuzhezhe': 96.82268226822683,\n",
              "               'AP-shuzhezhegou': 91.28280685211378,\n",
              "               'AP-ti': 86.55638033175144,\n",
              "               'AP-wangou': 78.00594177064765,\n",
              "               'AP-wogou': 90.2112211221122,\n",
              "               'AP-xiegou': 89.86729345203427,\n",
              "               'AP50': 95.65004750579703,\n",
              "               'AP75': 95.30509628487071,\n",
              "               'APl': 87.69500349137013,\n",
              "               'APm': 84.61009531931043,\n",
              "               'APs': 62.45427182323149}),\n",
              "             ('segm',\n",
              "              {'AP': 82.19867148971515,\n",
              "               'AP-dian': 76.19973924014151,\n",
              "               'AP-heng': 80.8147423320504,\n",
              "               'AP-henggou': 80.41735791942646,\n",
              "               'AP-hengpie': 84.64492588371583,\n",
              "               'AP-hengpiewangou': 90.0,\n",
              "               'AP-hengxiegou': 76.15841584158416,\n",
              "               'AP-hengzhe': 78.19822359901248,\n",
              "               'AP-hengzhegou': 79.44439577376122,\n",
              "               'AP-hengzheti': 66.11881188118811,\n",
              "               'AP-hengzhewan': 92.55445544554455,\n",
              "               'AP-hengzhewangou': 80.89083950411847,\n",
              "               'AP-hengzhezhe': 84.55445544554455,\n",
              "               'AP-hengzhezhepie': 78.16549550917824,\n",
              "               'AP-hengzhezhezhe': 90.0,\n",
              "               'AP-hengzhezhezhegou': 76.58965896589659,\n",
              "               'AP-na': 87.71510296807482,\n",
              "               'AP-pie': 83.98473266053045,\n",
              "               'AP-piedian': 77.87541254125412,\n",
              "               'AP-piezhe': 79.87000561323012,\n",
              "               'AP-shu': 83.41650870173332,\n",
              "               'AP-shugou': 87.04253752177611,\n",
              "               'AP-shuti': 76.94224374667179,\n",
              "               'AP-shuwan': 88.93917963224894,\n",
              "               'AP-shuwangou': 80.03335715038389,\n",
              "               'AP-shuzhe': 69.45692047791005,\n",
              "               'AP-shuzhepie': 90.0,\n",
              "               'AP-shuzhezhe': 89.9009900990099,\n",
              "               'AP-shuzhezhegou': 77.86319346220337,\n",
              "               'AP-ti': 85.7879845852224,\n",
              "               'AP-wangou': 82.19103577024369,\n",
              "               'AP-wogou': 91.6996699669967,\n",
              "               'AP-xiegou': 82.8870954322323,\n",
              "               'AP50': 95.57374151360874,\n",
              "               'AP75': 92.3626040676941,\n",
              "               'APl': 81.95436934997848,\n",
              "               'APm': 80.40630017449347,\n",
              "               'APs': 36.76488073506232})])"
            ]
          },
          "metadata": {
            "tags": []
          },
          "execution_count": 20
        }
      ]
    },
    {
      "cell_type": "markdown",
      "metadata": {
        "id": "wZ6lYrCqLLLW",
        "colab_type": "text"
      },
      "source": [
        "## Benchmark inference speed"
      ]
    },
    {
      "cell_type": "code",
      "metadata": {
        "id": "PxRHYcAC_Z0f",
        "colab_type": "code",
        "colab": {
          "base_uri": "https://localhost:8080/",
          "height": 34
        },
        "outputId": "ece8f4ac-7b22-4a9f-aec5-565ebceda266"
      },
      "source": [
        "import time\n",
        "times = []\n",
        "for i in range(20):\n",
        "    start_time = time.time()\n",
        "    outputs = predictor(im)\n",
        "    delta = time.time() - start_time\n",
        "    times.append(delta)\n",
        "mean_delta = np.array(times).mean()\n",
        "fps = 1 / mean_delta\n",
        "print(\"Average(sec):{:.2f},fps:{:.2f}\".format(mean_delta, fps))"
      ],
      "execution_count": null,
      "outputs": [
        {
          "output_type": "stream",
          "text": [
            "Average(sec):0.08,fps:12.78\n"
          ],
          "name": "stdout"
        }
      ]
    },
    {
      "cell_type": "code",
      "metadata": {
        "id": "WFMOqBbWEh5v",
        "colab_type": "code",
        "colab": {}
      },
      "source": [
        ""
      ],
      "execution_count": null,
      "outputs": []
    }
  ]
}