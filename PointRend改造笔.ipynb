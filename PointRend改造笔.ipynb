{
  "nbformat": 4,
  "nbformat_minor": 0,
  "metadata": {
    "colab": {
      "name": "““坚果改造笔画cuda_error”的副本”的副本",
      "provenance": [],
      "collapsed_sections": [],
      "include_colab_link": true
    },
    "kernelspec": {
      "name": "python3",
      "display_name": "Python 3"
    },
    "accelerator": "GPU"
  },
  "cells": [
    {
      "cell_type": "markdown",
      "metadata": {
        "id": "view-in-github",
        "colab_type": "text"
      },
      "source": [
        "<a href=\"https://colab.research.google.com/github/SiHanWang2Developer/data/blob/master/PointRend%E6%94%B9%E9%80%A0%E7%AC%94.ipynb\" target=\"_parent\"><img src=\"https://colab.research.google.com/assets/colab-badge.svg\" alt=\"Open In Colab\"/></a>"
      ]
    },
    {
      "cell_type": "code",
      "metadata": {
        "colab_type": "code",
        "id": "-UPaAdWoVgJx",
        "colab": {}
      },
      "source": [
        ""
      ],
      "execution_count": 0,
      "outputs": []
    },
    {
      "cell_type": "markdown",
      "metadata": {
        "id": "QHnVupBBn9eR",
        "colab_type": "text"
      },
      "source": [
        "# [How to train Detectron2 with Custom COCO Datasets](https://www.dlology.com/blog/how-to-train-detectron2-with-custom-coco-datasets/) | DLology\n",
        "\n",
        "<img src=\"https://dl.fbaipublicfiles.com/detectron2/Detectron2-Logo-Horz.png\" width=\"500\">\n",
        "\n",
        "This notebook will help you get started with this framwork by training a instance segmentation model with your custom COCO datasets."
      ]
    },
    {
      "cell_type": "markdown",
      "metadata": {
        "id": "2bVqmEoGK4jf",
        "colab_type": "text"
      },
      "source": [
        "本文参考https://colab.research.google.com/drive/16jcaJoc6bCFAQ96jDe2HwtXj7BMD_-m5"
      ]
    },
    {
      "cell_type": "code",
      "metadata": {
        "id": "jVDC4G20IuIm",
        "colab_type": "code",
        "outputId": "2850a564-2f47-4560-e3a4-5ac032e59a63",
        "colab": {
          "base_uri": "https://localhost:8080/",
          "height": 302
        }
      },
      "source": [
        "!/opt/bin/nvidia-smi"
      ],
      "execution_count": 1,
      "outputs": [
        {
          "output_type": "stream",
          "text": [
            "Mon Mar 30 04:06:30 2020       \n",
            "+-----------------------------------------------------------------------------+\n",
            "| NVIDIA-SMI 418.67       Driver Version: 418.67       CUDA Version: 10.1     |\n",
            "|-------------------------------+----------------------+----------------------+\n",
            "| GPU  Name        Persistence-M| Bus-Id        Disp.A | Volatile Uncorr. ECC |\n",
            "| Fan  Temp  Perf  Pwr:Usage/Cap|         Memory-Usage | GPU-Util  Compute M. |\n",
            "|===============================+======================+======================|\n",
            "|   0  Tesla P100-PCIE...  Off  | 00000000:00:04.0 Off |                    0 |\n",
            "| N/A   31C    P0    25W / 250W |      0MiB / 16280MiB |      0%      Default |\n",
            "+-------------------------------+----------------------+----------------------+\n",
            "                                                                               \n",
            "+-----------------------------------------------------------------------------+\n",
            "| Processes:                                                       GPU Memory |\n",
            "|  GPU       PID   Type   Process name                             Usage      |\n",
            "|=============================================================================|\n",
            "|  No running processes found                                                 |\n",
            "+-----------------------------------------------------------------------------+\n"
          ],
          "name": "stdout"
        }
      ]
    },
    {
      "cell_type": "markdown",
      "metadata": {
        "id": "vM54r6jlKTII",
        "colab_type": "text"
      },
      "source": [
        "# Install detectron2"
      ]
    },
    {
      "cell_type": "code",
      "metadata": {
        "id": "9_FzH13EjseR",
        "colab_type": "code",
        "colab": {}
      },
      "source": [
        "# !pip install -U torch torchvision\n",
        "# !pip install git+https://github.com/facebookresearch/fvcore.git\n",
        "# import torch, torchvision\n",
        "# torch.__version__\n",
        "\n",
        "# install dependencies:\n",
        "# (use +cu100 because colab is on CUDA 10.0)\n",
        "!pip install -U torch==1.4+cu100 torchvision==0.5+cu100 -f https://download.pytorch.org/whl/torch_stable.html \n",
        "!pip install cython pyyaml==5.1\n",
        "!pip install -U 'git+https://github.com/cocodataset/cocoapi.git#subdirectory=PythonAPI'\n",
        "import torch, torchvision\n",
        "torch.__version__\n",
        "!pip install git+https://github.com/facebookresearch/fvcore.git"
      ],
      "execution_count": 0,
      "outputs": []
    },
    {
      "cell_type": "code",
      "metadata": {
        "id": "GeejixTmwEmI",
        "colab_type": "code",
        "colab": {
          "base_uri": "https://localhost:8080/",
          "height": 793
        },
        "outputId": "e109b674-5ddc-47c4-8746-0390da0e3b8b"
      },
      "source": [
        "# install detectron2:\n",
        "!pip install detectron2==0.1.1 -f https://dl.fbaipublicfiles.com/detectron2/wheels/cu100/index.html"
      ],
      "execution_count": 3,
      "outputs": [
        {
          "output_type": "stream",
          "text": [
            "Looking in links: https://dl.fbaipublicfiles.com/detectron2/wheels/cu100/index.html\n",
            "Collecting detectron2==0.1.1\n",
            "\u001b[?25l  Downloading https://dl.fbaipublicfiles.com/detectron2/wheels/cu100/detectron2-0.1.1%2Bcu100-cp36-cp36m-linux_x86_64.whl (6.2MB)\n",
            "\u001b[K     |████████████████████████████████| 6.2MB 68.0MB/s \n",
            "\u001b[?25hRequirement already satisfied: tqdm>4.29.0 in /usr/local/lib/python3.6/dist-packages (from detectron2==0.1.1) (4.38.0)\n",
            "Requirement already satisfied: tabulate in /usr/local/lib/python3.6/dist-packages (from detectron2==0.1.1) (0.8.7)\n",
            "Requirement already satisfied: termcolor>=1.1 in /usr/local/lib/python3.6/dist-packages (from detectron2==0.1.1) (1.1.0)\n",
            "Requirement already satisfied: Pillow in /usr/local/lib/python3.6/dist-packages (from detectron2==0.1.1) (7.0.0)\n",
            "Requirement already satisfied: pydot in /usr/local/lib/python3.6/dist-packages (from detectron2==0.1.1) (1.3.0)\n",
            "Requirement already satisfied: tensorboard in /usr/local/lib/python3.6/dist-packages (from detectron2==0.1.1) (2.1.1)\n",
            "Requirement already satisfied: matplotlib in /usr/local/lib/python3.6/dist-packages (from detectron2==0.1.1) (3.2.1)\n",
            "Requirement already satisfied: yacs>=0.1.6 in /usr/local/lib/python3.6/dist-packages (from detectron2==0.1.1) (0.1.6)\n",
            "Requirement already satisfied: cloudpickle in /usr/local/lib/python3.6/dist-packages (from detectron2==0.1.1) (1.3.0)\n",
            "Requirement already satisfied: fvcore in /usr/local/lib/python3.6/dist-packages (from detectron2==0.1.1) (0.1)\n",
            "Requirement already satisfied: future in /usr/local/lib/python3.6/dist-packages (from detectron2==0.1.1) (0.16.0)\n",
            "Requirement already satisfied: pyparsing>=2.1.4 in /usr/local/lib/python3.6/dist-packages (from pydot->detectron2==0.1.1) (2.4.6)\n",
            "Requirement already satisfied: markdown>=2.6.8 in /usr/local/lib/python3.6/dist-packages (from tensorboard->detectron2==0.1.1) (3.2.1)\n",
            "Requirement already satisfied: google-auth<2,>=1.6.3 in /usr/local/lib/python3.6/dist-packages (from tensorboard->detectron2==0.1.1) (1.7.2)\n",
            "Requirement already satisfied: grpcio>=1.24.3 in /usr/local/lib/python3.6/dist-packages (from tensorboard->detectron2==0.1.1) (1.27.2)\n",
            "Requirement already satisfied: absl-py>=0.4 in /usr/local/lib/python3.6/dist-packages (from tensorboard->detectron2==0.1.1) (0.9.0)\n",
            "Requirement already satisfied: six>=1.10.0 in /usr/local/lib/python3.6/dist-packages (from tensorboard->detectron2==0.1.1) (1.12.0)\n",
            "Requirement already satisfied: werkzeug>=0.11.15 in /usr/local/lib/python3.6/dist-packages (from tensorboard->detectron2==0.1.1) (1.0.0)\n",
            "Requirement already satisfied: google-auth-oauthlib<0.5,>=0.4.1 in /usr/local/lib/python3.6/dist-packages (from tensorboard->detectron2==0.1.1) (0.4.1)\n",
            "Requirement already satisfied: requests<3,>=2.21.0 in /usr/local/lib/python3.6/dist-packages (from tensorboard->detectron2==0.1.1) (2.21.0)\n",
            "Requirement already satisfied: wheel>=0.26; python_version >= \"3\" in /usr/local/lib/python3.6/dist-packages (from tensorboard->detectron2==0.1.1) (0.34.2)\n",
            "Requirement already satisfied: numpy>=1.12.0 in /usr/local/lib/python3.6/dist-packages (from tensorboard->detectron2==0.1.1) (1.18.2)\n",
            "Requirement already satisfied: setuptools>=41.0.0 in /usr/local/lib/python3.6/dist-packages (from tensorboard->detectron2==0.1.1) (46.0.0)\n",
            "Requirement already satisfied: protobuf>=3.6.0 in /usr/local/lib/python3.6/dist-packages (from tensorboard->detectron2==0.1.1) (3.10.0)\n",
            "Requirement already satisfied: python-dateutil>=2.1 in /usr/local/lib/python3.6/dist-packages (from matplotlib->detectron2==0.1.1) (2.8.1)\n",
            "Requirement already satisfied: cycler>=0.10 in /usr/local/lib/python3.6/dist-packages (from matplotlib->detectron2==0.1.1) (0.10.0)\n",
            "Requirement already satisfied: kiwisolver>=1.0.1 in /usr/local/lib/python3.6/dist-packages (from matplotlib->detectron2==0.1.1) (1.1.0)\n",
            "Requirement already satisfied: PyYAML in /usr/local/lib/python3.6/dist-packages (from yacs>=0.1.6->detectron2==0.1.1) (5.1)\n",
            "Requirement already satisfied: portalocker in /usr/local/lib/python3.6/dist-packages (from fvcore->detectron2==0.1.1) (1.6.0)\n",
            "Requirement already satisfied: cachetools<3.2,>=2.0.0 in /usr/local/lib/python3.6/dist-packages (from google-auth<2,>=1.6.3->tensorboard->detectron2==0.1.1) (3.1.1)\n",
            "Requirement already satisfied: pyasn1-modules>=0.2.1 in /usr/local/lib/python3.6/dist-packages (from google-auth<2,>=1.6.3->tensorboard->detectron2==0.1.1) (0.2.8)\n",
            "Requirement already satisfied: rsa<4.1,>=3.1.4 in /usr/local/lib/python3.6/dist-packages (from google-auth<2,>=1.6.3->tensorboard->detectron2==0.1.1) (4.0)\n",
            "Requirement already satisfied: requests-oauthlib>=0.7.0 in /usr/local/lib/python3.6/dist-packages (from google-auth-oauthlib<0.5,>=0.4.1->tensorboard->detectron2==0.1.1) (1.3.0)\n",
            "Requirement already satisfied: certifi>=2017.4.17 in /usr/local/lib/python3.6/dist-packages (from requests<3,>=2.21.0->tensorboard->detectron2==0.1.1) (2019.11.28)\n",
            "Requirement already satisfied: idna<2.9,>=2.5 in /usr/local/lib/python3.6/dist-packages (from requests<3,>=2.21.0->tensorboard->detectron2==0.1.1) (2.8)\n",
            "Requirement already satisfied: urllib3<1.25,>=1.21.1 in /usr/local/lib/python3.6/dist-packages (from requests<3,>=2.21.0->tensorboard->detectron2==0.1.1) (1.24.3)\n",
            "Requirement already satisfied: chardet<3.1.0,>=3.0.2 in /usr/local/lib/python3.6/dist-packages (from requests<3,>=2.21.0->tensorboard->detectron2==0.1.1) (3.0.4)\n",
            "Requirement already satisfied: pyasn1<0.5.0,>=0.4.6 in /usr/local/lib/python3.6/dist-packages (from pyasn1-modules>=0.2.1->google-auth<2,>=1.6.3->tensorboard->detectron2==0.1.1) (0.4.8)\n",
            "Requirement already satisfied: oauthlib>=3.0.0 in /usr/local/lib/python3.6/dist-packages (from requests-oauthlib>=0.7.0->google-auth-oauthlib<0.5,>=0.4.1->tensorboard->detectron2==0.1.1) (3.1.0)\n",
            "Installing collected packages: detectron2\n",
            "Successfully installed detectron2-0.1.1+cu100\n"
          ],
          "name": "stdout"
        }
      ]
    },
    {
      "cell_type": "code",
      "metadata": {
        "id": "NKKLhk9W_dKp",
        "colab_type": "code",
        "outputId": "796802fd-46f1-46db-a908-bdae11a51e5f",
        "colab": {
          "base_uri": "https://localhost:8080/",
          "height": 319
        }
      },
      "source": [
        "# clone the repo to access PointRend code. Use the same version as the installed detectron2\n",
        "!git clone --branch v0.1.1 https://github.com/facebookresearch/detectron2 detectron2_repo"
      ],
      "execution_count": 4,
      "outputs": [
        {
          "output_type": "stream",
          "text": [
            "Cloning into 'detectron2_repo'...\n",
            "remote: Enumerating objects: 13, done.\u001b[K\n",
            "remote: Counting objects:   7% (1/13)\u001b[K\rremote: Counting objects:  15% (2/13)\u001b[K\rremote: Counting objects:  23% (3/13)\u001b[K\rremote: Counting objects:  30% (4/13)\u001b[K\rremote: Counting objects:  38% (5/13)\u001b[K\rremote: Counting objects:  46% (6/13)\u001b[K\rremote: Counting objects:  53% (7/13)\u001b[K\rremote: Counting objects:  61% (8/13)\u001b[K\rremote: Counting objects:  69% (9/13)\u001b[K\rremote: Counting objects:  76% (10/13)\u001b[K\rremote: Counting objects:  84% (11/13)\u001b[K\rremote: Counting objects:  92% (12/13)\u001b[K\rremote: Counting objects: 100% (13/13)\u001b[K\rremote: Counting objects: 100% (13/13), done.\u001b[K\n",
            "remote: Compressing objects:   8% (1/12)\u001b[K\rremote: Compressing objects:  16% (2/12)\u001b[K\rremote: Compressing objects:  25% (3/12)\u001b[K\rremote: Compressing objects:  33% (4/12)\u001b[K\rremote: Compressing objects:  41% (5/12)\u001b[K\rremote: Compressing objects:  50% (6/12)\u001b[K\rremote: Compressing objects:  58% (7/12)\u001b[K\rremote: Compressing objects:  66% (8/12)\u001b[K\rremote: Compressing objects:  75% (9/12)\u001b[K\rremote: Compressing objects:  83% (10/12)\u001b[K\rremote: Compressing objects:  91% (11/12)\u001b[K\rremote: Compressing objects: 100% (12/12)\u001b[K\rremote: Compressing objects: 100% (12/12), done.\u001b[K\n",
            "Receiving objects:   0% (1/3596)   \rReceiving objects:   1% (36/3596)   \rReceiving objects:   2% (72/3596)   \rReceiving objects:   3% (108/3596)   \rReceiving objects:   4% (144/3596)   \rReceiving objects:   5% (180/3596)   \rReceiving objects:   6% (216/3596)   \rReceiving objects:   7% (252/3596)   \rReceiving objects:   8% (288/3596)   \rReceiving objects:   9% (324/3596)   \rReceiving objects:  10% (360/3596)   \rReceiving objects:  11% (396/3596)   \rReceiving objects:  12% (432/3596)   \rReceiving objects:  13% (468/3596)   \rReceiving objects:  14% (504/3596)   \rReceiving objects:  15% (540/3596)   \rReceiving objects:  16% (576/3596)   \rReceiving objects:  17% (612/3596)   \rReceiving objects:  18% (648/3596)   \rReceiving objects:  19% (684/3596)   \rReceiving objects:  20% (720/3596)   \rReceiving objects:  21% (756/3596)   \rReceiving objects:  22% (792/3596)   \rReceiving objects:  23% (828/3596)   \rReceiving objects:  24% (864/3596)   \rReceiving objects:  25% (899/3596)   \rReceiving objects:  26% (935/3596)   \rReceiving objects:  27% (971/3596)   \rReceiving objects:  28% (1007/3596)   \rReceiving objects:  29% (1043/3596)   \rReceiving objects:  30% (1079/3596)   \rReceiving objects:  31% (1115/3596)   \rReceiving objects:  32% (1151/3596)   \rReceiving objects:  33% (1187/3596)   \rReceiving objects:  34% (1223/3596)   \rReceiving objects:  35% (1259/3596)   \rReceiving objects:  36% (1295/3596)   \rReceiving objects:  37% (1331/3596)   \rReceiving objects:  38% (1367/3596), 1.56 MiB | 2.93 MiB/s   \rReceiving objects:  39% (1403/3596), 1.56 MiB | 2.93 MiB/s   \rReceiving objects:  40% (1439/3596), 1.56 MiB | 2.93 MiB/s   \rReceiving objects:  41% (1475/3596), 1.56 MiB | 2.93 MiB/s   \rReceiving objects:  42% (1511/3596), 1.56 MiB | 2.93 MiB/s   \rReceiving objects:  43% (1547/3596), 1.56 MiB | 2.93 MiB/s   \rReceiving objects:  44% (1583/3596), 1.56 MiB | 2.93 MiB/s   \rReceiving objects:  45% (1619/3596), 1.56 MiB | 2.93 MiB/s   \rReceiving objects:  46% (1655/3596), 1.56 MiB | 2.93 MiB/s   \rReceiving objects:  47% (1691/3596), 1.56 MiB | 2.93 MiB/s   \rReceiving objects:  48% (1727/3596), 1.56 MiB | 2.93 MiB/s   \rReceiving objects:  49% (1763/3596), 1.56 MiB | 2.93 MiB/s   \rReceiving objects:  50% (1798/3596), 1.56 MiB | 2.93 MiB/s   \rReceiving objects:  51% (1834/3596), 1.56 MiB | 2.93 MiB/s   \rReceiving objects:  52% (1870/3596), 1.56 MiB | 2.93 MiB/s   \rReceiving objects:  53% (1906/3596), 1.56 MiB | 2.93 MiB/s   \rReceiving objects:  54% (1942/3596), 1.56 MiB | 2.93 MiB/s   \rReceiving objects:  55% (1978/3596), 1.56 MiB | 2.93 MiB/s   \rReceiving objects:  56% (2014/3596), 1.56 MiB | 2.93 MiB/s   \rReceiving objects:  57% (2050/3596), 1.56 MiB | 2.93 MiB/s   \rReceiving objects:  58% (2086/3596), 1.56 MiB | 2.93 MiB/s   \rReceiving objects:  59% (2122/3596), 1.56 MiB | 2.93 MiB/s   \rReceiving objects:  60% (2158/3596), 1.56 MiB | 2.93 MiB/s   \rReceiving objects:  61% (2194/3596), 1.56 MiB | 2.93 MiB/s   \rReceiving objects:  62% (2230/3596), 1.56 MiB | 2.93 MiB/s   \rReceiving objects:  63% (2266/3596), 1.56 MiB | 2.93 MiB/s   \rReceiving objects:  64% (2302/3596), 1.56 MiB | 2.93 MiB/s   \rReceiving objects:  65% (2338/3596), 1.56 MiB | 2.93 MiB/s   \rReceiving objects:  66% (2374/3596), 1.56 MiB | 2.93 MiB/s   \rReceiving objects:  67% (2410/3596), 1.56 MiB | 2.93 MiB/s   \rReceiving objects:  68% (2446/3596), 1.56 MiB | 2.93 MiB/s   \rReceiving objects:  69% (2482/3596), 1.56 MiB | 2.93 MiB/s   \rReceiving objects:  70% (2518/3596), 1.56 MiB | 2.93 MiB/s   \rReceiving objects:  71% (2554/3596), 1.56 MiB | 2.93 MiB/s   \rReceiving objects:  72% (2590/3596), 1.56 MiB | 2.93 MiB/s   \rReceiving objects:  73% (2626/3596), 1.56 MiB | 2.93 MiB/s   \rReceiving objects:  74% (2662/3596), 1.56 MiB | 2.93 MiB/s   \rReceiving objects:  75% (2697/3596), 1.56 MiB | 2.93 MiB/s   \rReceiving objects:  76% (2733/3596), 1.56 MiB | 2.93 MiB/s   \rReceiving objects:  77% (2769/3596), 1.56 MiB | 2.93 MiB/s   \rReceiving objects:  78% (2805/3596), 1.56 MiB | 2.93 MiB/s   \rReceiving objects:  79% (2841/3596), 1.56 MiB | 2.93 MiB/s   \rReceiving objects:  80% (2877/3596), 1.56 MiB | 2.93 MiB/s   \rReceiving objects:  81% (2913/3596), 1.56 MiB | 2.93 MiB/s   \rReceiving objects:  82% (2949/3596), 1.56 MiB | 2.93 MiB/s   \rReceiving objects:  83% (2985/3596), 1.56 MiB | 2.93 MiB/s   \rReceiving objects:  84% (3021/3596), 1.56 MiB | 2.93 MiB/s   \rReceiving objects:  85% (3057/3596), 1.56 MiB | 2.93 MiB/s   \rReceiving objects:  86% (3093/3596), 1.56 MiB | 2.93 MiB/s   \rReceiving objects:  87% (3129/3596), 1.56 MiB | 2.93 MiB/s   \rReceiving objects:  88% (3165/3596), 1.56 MiB | 2.93 MiB/s   \rReceiving objects:  89% (3201/3596), 1.56 MiB | 2.93 MiB/s   \rremote: Total 3596 (delta 4), reused 5 (delta 1), pack-reused 3583\u001b[K\n",
            "Receiving objects:  90% (3237/3596), 1.56 MiB | 2.93 MiB/s   \rReceiving objects:  91% (3273/3596), 1.56 MiB | 2.93 MiB/s   \rReceiving objects:  92% (3309/3596), 1.56 MiB | 2.93 MiB/s   \rReceiving objects:  93% (3345/3596), 1.56 MiB | 2.93 MiB/s   \rReceiving objects:  94% (3381/3596), 1.56 MiB | 2.93 MiB/s   \rReceiving objects:  95% (3417/3596), 1.56 MiB | 2.93 MiB/s   \rReceiving objects:  96% (3453/3596), 1.56 MiB | 2.93 MiB/s   \rReceiving objects:  97% (3489/3596), 1.56 MiB | 2.93 MiB/s   \rReceiving objects:  98% (3525/3596), 1.56 MiB | 2.93 MiB/s   \rReceiving objects:  99% (3561/3596), 1.56 MiB | 2.93 MiB/s   \rReceiving objects: 100% (3596/3596), 1.56 MiB | 2.93 MiB/s   \rReceiving objects: 100% (3596/3596), 2.15 MiB | 3.71 MiB/s, done.\n",
            "Resolving deltas:   0% (0/2484)   \rResolving deltas:   1% (25/2484)   \rResolving deltas:   2% (63/2484)   \rResolving deltas:   3% (80/2484)   \rResolving deltas:   4% (110/2484)   \rResolving deltas:   5% (138/2484)   \rResolving deltas:   6% (153/2484)   \rResolving deltas:   7% (174/2484)   \rResolving deltas:   8% (199/2484)   \rResolving deltas:   9% (224/2484)   \rResolving deltas:  10% (250/2484)   \rResolving deltas:  11% (274/2484)   \rResolving deltas:  12% (322/2484)   \rResolving deltas:  13% (333/2484)   \rResolving deltas:  14% (354/2484)   \rResolving deltas:  15% (376/2484)   \rResolving deltas:  16% (402/2484)   \rResolving deltas:  17% (432/2484)   \rResolving deltas:  18% (449/2484)   \rResolving deltas:  19% (478/2484)   \rResolving deltas:  20% (506/2484)   \rResolving deltas:  21% (527/2484)   \rResolving deltas:  22% (548/2484)   \rResolving deltas:  23% (574/2484)   \rResolving deltas:  24% (602/2484)   \rResolving deltas:  25% (622/2484)   \rResolving deltas:  26% (653/2484)   \rResolving deltas:  27% (671/2484)   \rResolving deltas:  28% (696/2484)   \rResolving deltas:  29% (721/2484)   \rResolving deltas:  30% (746/2484)   \rResolving deltas:  31% (774/2484)   \rResolving deltas:  32% (798/2484)   \rResolving deltas:  33% (820/2484)   \rResolving deltas:  34% (847/2484)   \rResolving deltas:  35% (870/2484)   \rResolving deltas:  36% (897/2484)   \rResolving deltas:  37% (921/2484)   \rResolving deltas:  38% (944/2484)   \rResolving deltas:  39% (970/2484)   \rResolving deltas:  40% (998/2484)   \rResolving deltas:  41% (1030/2484)   \rResolving deltas:  42% (1044/2484)   \rResolving deltas:  43% (1069/2484)   \rResolving deltas:  44% (1097/2484)   \rResolving deltas:  45% (1121/2484)   \rResolving deltas:  46% (1144/2484)   \rResolving deltas:  47% (1169/2484)   \rResolving deltas:  48% (1193/2484)   \rResolving deltas:  49% (1218/2484)   \rResolving deltas:  50% (1244/2484)   \rResolving deltas:  51% (1268/2484)   \rResolving deltas:  52% (1302/2484)   \rResolving deltas:  53% (1318/2484)   \rResolving deltas:  54% (1342/2484)   \rResolving deltas:  55% (1368/2484)   \rResolving deltas:  56% (1394/2484)   \rResolving deltas:  57% (1425/2484)   \rResolving deltas:  58% (1464/2484)   \rResolving deltas:  59% (1467/2484)   \rResolving deltas:  60% (1496/2484)   \rResolving deltas:  61% (1518/2484)   \rResolving deltas:  62% (1546/2484)   \rResolving deltas:  63% (1567/2484)   \rResolving deltas:  64% (1591/2484)   \rResolving deltas:  65% (1621/2484)   \rResolving deltas:  66% (1640/2484)   \rResolving deltas:  67% (1671/2484)   \rResolving deltas:  68% (1690/2484)   \rResolving deltas:  69% (1716/2484)   \rResolving deltas:  70% (1739/2484)   \rResolving deltas:  71% (1765/2484)   \rResolving deltas:  72% (1790/2484)   \rResolving deltas:  73% (1817/2484)   \rResolving deltas:  74% (1841/2484)   \rResolving deltas:  75% (1879/2484)   \rResolving deltas:  76% (1889/2484)   \rResolving deltas:  77% (1913/2484)   \rResolving deltas:  78% (1938/2484)   \rResolving deltas:  79% (1966/2484)   \rResolving deltas:  80% (1990/2484)   \rResolving deltas:  81% (2021/2484)   \rResolving deltas:  82% (2041/2484)   \rResolving deltas:  83% (2063/2484)   \rResolving deltas:  84% (2104/2484)   \rResolving deltas:  85% (2112/2484)   \rResolving deltas:  86% (2137/2484)   \rResolving deltas:  87% (2168/2484)   \rResolving deltas:  88% (2188/2484)   \rResolving deltas:  89% (2211/2484)   \rResolving deltas:  90% (2253/2484)   \rResolving deltas:  91% (2266/2484)   \rResolving deltas:  92% (2293/2484)   \rResolving deltas:  93% (2312/2484)   \rResolving deltas:  94% (2351/2484)   \rResolving deltas:  95% (2360/2484)   \rResolving deltas:  96% (2387/2484)   \rResolving deltas:  97% (2424/2484)   \rResolving deltas:  98% (2444/2484)   \rResolving deltas:  99% (2469/2484)   \rResolving deltas: 100% (2484/2484)   \rResolving deltas: 100% (2484/2484), done.\n",
            "Note: checking out '401fd04cecec16f1ed0452eb936502d5d33a23be'.\n",
            "\n",
            "You are in 'detached HEAD' state. You can look around, make experimental\n",
            "changes and commit them, and you can discard any commits you make in this\n",
            "state without impacting any branches by performing another checkout.\n",
            "\n",
            "If you want to create a new branch to retain commits you create, you may\n",
            "do so (now or later) by using -b with the checkout command again. Example:\n",
            "\n",
            "  git checkout -b <new-branch-name>\n",
            "\n"
          ],
          "name": "stdout"
        }
      ]
    },
    {
      "cell_type": "code",
      "metadata": {
        "id": "ZyAvNCJMmvFF",
        "colab_type": "code",
        "colab": {}
      },
      "source": [
        "# You may need to restart your runtime prior to this, to let your installation take effect\n",
        "# Some basic setup\n",
        "# Setup detectron2 logger\n",
        "import detectron2\n",
        "from detectron2.utils.logger import setup_logger\n",
        "setup_logger()\n",
        "\n",
        "# import some common libraries\n",
        "import matplotlib.pyplot as plt\n",
        "import numpy as np\n",
        "import cv2\n",
        "from google.colab.patches import cv2_imshow\n",
        "\n",
        "# import some common detectron2 utilities\n",
        "from detectron2 import model_zoo\n",
        "from detectron2.engine import DefaultPredictor\n",
        "from detectron2.config import get_cfg\n",
        "from detectron2.utils.visualizer import Visualizer\n",
        "from detectron2.data import MetadataCatalog, DatasetCatalog\n",
        "\n",
        "# import PointRend project\n",
        "import sys; sys.path.insert(1, \"detectron2_repo/projects/PointRend\")\n",
        "from detectron2_repo.projects.PointRend import point_rend #!!!!!!!!!!!!!!"
      ],
      "execution_count": 0,
      "outputs": []
    },
    {
      "cell_type": "markdown",
      "metadata": {
        "id": "b2bjrfb2LDeo",
        "colab_type": "text"
      },
      "source": [
        "# Train on a custom COCO dataset"
      ]
    },
    {
      "cell_type": "markdown",
      "metadata": {
        "id": "tjbUIhSxUdm_",
        "colab_type": "text"
      },
      "source": [
        "In this section, we show how to train an existing detectron2 model on a custom dataset in a new format.\n",
        "\n",
        "We use [the fruits nuts segmentation dataset](https://github.com/Tony607/mmdetection_instance_segmentation_demo)\n",
        "which only has 3 classes: data, fig, and hazelnut.\n",
        "We'll train a segmentation model from an existing model pre-trained on the COCO dataset, available in detectron2's model zoo.\n",
        "\n",
        "Note that the COCO dataset does not have the \"data\", \"fig\" and \"hazelnut\" categories."
      ]
    },
    {
      "cell_type": "code",
      "metadata": {
        "id": "7RhkndJ6JWqO",
        "colab_type": "code",
        "outputId": "bb382ce7-a8c6-47bb-f83b-e39cbba211ed",
        "colab": {
          "base_uri": "https://localhost:8080/",
          "height": 121
        }
      },
      "source": [
        "from google.colab import drive\n",
        "drive.mount('/content/drive')"
      ],
      "execution_count": 6,
      "outputs": [
        {
          "output_type": "stream",
          "text": [
            "Go to this URL in a browser: https://accounts.google.com/o/oauth2/auth?client_id=947318989803-6bn6qk8qdgf4n4g3pfee6491hc0brc4i.apps.googleusercontent.com&redirect_uri=urn%3aietf%3awg%3aoauth%3a2.0%3aoob&response_type=code&scope=email%20https%3a%2f%2fwww.googleapis.com%2fauth%2fdocs.test%20https%3a%2f%2fwww.googleapis.com%2fauth%2fdrive%20https%3a%2f%2fwww.googleapis.com%2fauth%2fdrive.photos.readonly%20https%3a%2f%2fwww.googleapis.com%2fauth%2fpeopleapi.readonly\n",
            "\n",
            "Enter your authorization code:\n",
            "··········\n",
            "Mounted at /content/drive\n"
          ],
          "name": "stdout"
        }
      ]
    },
    {
      "cell_type": "code",
      "metadata": {
        "id": "4Qg7zSVOulkb",
        "colab_type": "code",
        "colab": {}
      },
      "source": [
        "# # download, decompress the data\n",
        "# !wget https://github.com/Tony607/detectron2_instance_segmentation_demo/releases/download/V0.1/data.zip\n",
        "# !unzip data.zip > /dev/null"
      ],
      "execution_count": 0,
      "outputs": []
    },
    {
      "cell_type": "markdown",
      "metadata": {
        "id": "tVJoOm6LVJwW",
        "colab_type": "text"
      },
      "source": [
        "Register the fruits_nuts dataset to detectron2, following the [detectron2 custom dataset tutorial](https://detectron2.readthedocs.io/tutorials/datasets.html).\n"
      ]
    },
    {
      "cell_type": "code",
      "metadata": {
        "id": "Lnkg1PByUjGQ",
        "colab_type": "code",
        "colab": {}
      },
      "source": [
        "# from detectron2.data.datasets import register_coco_instances\n",
        "# register_coco_instances(\"fruits_nuts\", {}, \"./data/trainval.json\", \"./data/images\")"
      ],
      "execution_count": 0,
      "outputs": []
    },
    {
      "cell_type": "code",
      "metadata": {
        "id": "MWknKqWTWIw9",
        "colab_type": "code",
        "outputId": "2f5a878f-6c4a-46a5-c7b8-1b6dc36f32d7",
        "colab": {
          "base_uri": "https://localhost:8080/",
          "height": 33
        }
      },
      "source": [
        "# fruits_nuts_metadata = MetadataCatalog.get(\"fruits_nuts\")\n",
        "# dataset_dicts = DatasetCatalog.get(\"fruits_nuts\")"
      ],
      "execution_count": 0,
      "outputs": [
        {
          "output_type": "stream",
          "text": [
            "\u001b[32m[03/26 02:56:00 d2.data.datasets.coco]: \u001b[0mLoaded 18 images in COCO format from ./data/trainval.json\n"
          ],
          "name": "stdout"
        }
      ]
    },
    {
      "cell_type": "markdown",
      "metadata": {
        "id": "xI-aG4sj3cV2",
        "colab_type": "text"
      },
      "source": [
        "\n",
        "\n",
        "---\n",
        "\n",
        "\n",
        "下面 笔画数据集\n",
        "\n"
      ]
    },
    {
      "cell_type": "code",
      "metadata": {
        "id": "Retbdmc07rgd",
        "colab_type": "code",
        "colab": {}
      },
      "source": [
        "from detectron2.data.datasets import register_coco_instances\n",
        "register_coco_instances(\"wz\", {}, \"./drive/My Drive/pic566_28class/images566.json\", \"./drive/My Drive/pic566_28class/images\")"
      ],
      "execution_count": 0,
      "outputs": []
    },
    {
      "cell_type": "code",
      "metadata": {
        "id": "ttCvanr27rPN",
        "colab_type": "code",
        "outputId": "dcb7d998-f7a6-4493-9f75-bb6194c9192c",
        "colab": {
          "base_uri": "https://localhost:8080/",
          "height": 54
        }
      },
      "source": [
        "wanzheng_metadata = MetadataCatalog.get(\"wz\")\n",
        "wanzhengdataset_dicts = DatasetCatalog.get(\"wz\")"
      ],
      "execution_count": 8,
      "outputs": [
        {
          "output_type": "stream",
          "text": [
            "\u001b[32m[03/30 04:12:25 d2.data.datasets.coco]: \u001b[0mLoaded 566 images in COCO format from ./drive/My Drive/pic566_28class/images566.json\n"
          ],
          "name": "stdout"
        }
      ]
    },
    {
      "cell_type": "markdown",
      "metadata": {
        "id": "6ljbWTX0Wi8E",
        "colab_type": "text"
      },
      "source": [
        "To verify the data loading is correct, let's visualize the annotations of randomly selected samples in the training set:\n",
        "\n"
      ]
    },
    {
      "cell_type": "code",
      "metadata": {
        "id": "q38FZu0W37T4",
        "colab_type": "code",
        "colab": {}
      },
      "source": [
        "# #坚果数据集\n",
        "# import random\n",
        "\n",
        "# for d in random.sample(dataset_dicts, 1):\n",
        "#    img = cv2.imread(d[\"file_name\"])#!!!!!!!!!!!!!!!!!！！！！！！！！！！！\n",
        "#    visualizer = Visualizer(img[:, :, ::-1], metadata=fruits_nuts_metadata, scale=0.5)\n",
        "#    vis = visualizer.draw_dataset_dict(d)\n",
        "#    cv2_imshow(vis.get_image()[:, :, ::-1])\n",
        "#    cv2_imshow(img)"
      ],
      "execution_count": 0,
      "outputs": []
    },
    {
      "cell_type": "code",
      "metadata": {
        "id": "F5JPh6Ur8FTD",
        "colab_type": "code",
        "outputId": "527b1184-0b6d-47c7-f313-15a745e7f6ef",
        "colab": {
          "base_uri": "https://localhost:8080/",
          "height": 401
        }
      },
      "source": [
        "#笔画数据集\n",
        "import random\n",
        "for d in random.sample(wanzhengdataset_dicts, 3):\n",
        "    img = cv2.imread(d[\"file_name\"])\n",
        "    visualizer = Visualizer(img[:, :, ::-1], metadata=wanzheng_metadata, scale=0.5)\n",
        "    vis = visualizer.draw_dataset_dict(d)\n",
        "    cv2_imshow(vis.get_image()[:, :, ::-1])"
      ],
      "execution_count": 9,
      "outputs": [
        {
          "output_type": "display_data",
          "data": {
            "image/png": "[encoded data removed]",
            "text/plain": [
              "<PIL.Image.Image image mode=RGB size=128x128 at 0x7FC7B3500198>"
            ]
          },
          "metadata": {
            "tags": []
          }
        },
        {
          "output_type": "display_data",
          "data": {
            "image/png": "[encoded data removed]",
            "text/plain": [
              "<PIL.Image.Image image mode=RGB size=128x128 at 0x7FC7B2E05AC8>"
            ]
          },
          "metadata": {
            "tags": []
          }
        },
        {
          "output_type": "display_data",
          "data": {
            "image/png": "[encoded data removed]",
            "text/plain": [
              "<PIL.Image.Image image mode=RGB size=128x128 at 0x7FC7B1A1F9E8>"
            ]
          },
          "metadata": {
            "tags": []
          }
        }
      ]
    },
    {
      "cell_type": "markdown",
      "metadata": {
        "id": "wlqXIXXhW8dA",
        "colab_type": "text"
      },
      "source": [
        "Now, let's fine-tune a coco-pretrained R50-FPN Mask R-CNN model on the fruits_nuts dataset. It takes ~6 minutes to train 300 iterations on Colab's K80 GPU.\n"
      ]
    },
    {
      "cell_type": "code",
      "metadata": {
        "id": "7unkuuiqLdqd",
        "colab_type": "code",
        "colab": {}
      },
      "source": [
        "# from detectron2.engine import DefaultTrainer\n",
        "# from detectron2.config import get_cfg\n",
        "# import os\n",
        "\n",
        "# cfg = get_cfg()\n",
        "# cfg.merge_from_file(\"./detectron2_repo/configs/COCO-InstanceSegmentation/mask_rcnn_R_50_FPN_3x.yaml\")\n",
        "# cfg.DATASETS.TRAIN = (\"fruits_nuts\",)\n",
        "# cfg.DATASETS.TEST = ()   # no metrics implemented for this dataset\n",
        "# cfg.DATALOADER.NUM_WORKERS = 2\n",
        "# cfg.MODEL.WEIGHTS = \"detectron2://COCO-InstanceSegmentation/mask_rcnn_R_50_FPN_3x/137849600/model_final_f10217.pkl\"  # initialize from model zoo\n",
        "# cfg.SOLVER.IMS_PER_BATCH = 2\n",
        "# cfg.SOLVER.BASE_LR = 0.02\n",
        "# cfg.SOLVER.MAX_ITER = 300    # 300 iterations seems good enough, but you can certainly train longer\n",
        "# cfg.MODEL.ROI_HEADS.BATCH_SIZE_PER_IMAGE = 128   # faster, and good enough for this toy dataset\n",
        "# cfg.MODEL.ROI_HEADS.NUM_CLASSES = 3  # 3 classes (data, fig, hazelnut)\n",
        "\n",
        "# os.makedirs(cfg.OUTPUT_DIR, exist_ok=True)\n",
        "# trainer = DefaultTrainer(cfg)\n",
        "# trainer.resume_or_load(resume=False)\n",
        "# trainer.train()"
      ],
      "execution_count": 0,
      "outputs": []
    },
    {
      "cell_type": "code",
      "metadata": {
        "id": "nEuB2wY_8kCv",
        "colab_type": "code",
        "outputId": "13fce8df-dd2f-4b94-fda9-79a6dd271e33",
        "colab": {
          "base_uri": "https://localhost:8080/",
          "height": 1000
        }
      },
      "source": [
        "from detectron2.engine import DefaultTrainer\n",
        "from detectron2.config import get_cfg\n",
        "import os\n",
        "\n",
        "cfg = get_cfg()\n",
        "\n",
        "# Add PointRend-specific config\n",
        "point_rend.add_pointrend_config(cfg)\n",
        "\n",
        "\n",
        "# cfg.merge_from_file(\"./drive/My Drive/Colab Notebooks/detectron2_repo/configs/COCO-InstanceSegmentation/mask_rcnn_R_50_FPN_3x.yaml\")\n",
        "cfg.merge_from_file(\"detectron2_repo/projects/PointRend/configs/InstanceSegmentation/pointrend_rcnn_R_50_FPN_3x_coco.yaml\")\n",
        "cfg.DATASETS.TRAIN = (\"wz\",)\n",
        "cfg.DATASETS.TEST = ()   # no metrics implemented for this dataset\n",
        "cfg.DATALOADER.NUM_WORKERS = 2\n",
        "\n",
        "# cfg.MODEL.WEIGHTS = \"detectron2://COCO-InstanceSegmentation/mask_rcnn_R_50_FPN_3x/137849600/model_final_f10217.pkl\"  # initialize from model zoo\n",
        "cfg.MODEL.WEIGHTS = \"https://dl.fbaipublicfiles.com/detectron2/PointRend/InstanceSegmentation/pointrend_rcnn_R_50_FPN_3x_coco/164955410/model_final_3c3198.pkl\"\n",
        "\n",
        "\n",
        "cfg.SOLVER.IMS_PER_BATCH = 2\n",
        "cfg.SOLVER.BASE_LR = 0.02\n",
        "cfg.SOLVER.MAX_ITER = 800    # 300 iterations seems good enough, but you can certainly train longer\n",
        "cfg.MODEL.ROI_HEADS.BATCH_SIZE_PER_IMAGE = 128   # faster, and good enough for this toy dataset\n",
        "cfg.MODEL.ROI_HEADS.NUM_CLASSES = 80 # 28 classes (heng,shu....)\n",
        "\n",
        "\n",
        "\n",
        "\n",
        "#正式训练\n",
        "os.makedirs(cfg.OUTPUT_DIR, exist_ok=True)\n",
        "trainer = DefaultTrainer(cfg)\n",
        "trainer.resume_or_load(resume=False)\n",
        "trainer.train()\n"
      ],
      "execution_count": 11,
      "outputs": [
        {
          "output_type": "stream",
          "text": [
            "\u001b[32m[03/30 04:17:07 d2.engine.defaults]: \u001b[0mModel:\n",
            "GeneralizedRCNN(\n",
            "  (backbone): FPN(\n",
            "    (fpn_lateral2): Conv2d(256, 256, kernel_size=(1, 1), stride=(1, 1))\n",
            "    (fpn_output2): Conv2d(256, 256, kernel_size=(3, 3), stride=(1, 1), padding=(1, 1))\n",
            "    (fpn_lateral3): Conv2d(512, 256, kernel_size=(1, 1), stride=(1, 1))\n",
            "    (fpn_output3): Conv2d(256, 256, kernel_size=(3, 3), stride=(1, 1), padding=(1, 1))\n",
            "    (fpn_lateral4): Conv2d(1024, 256, kernel_size=(1, 1), stride=(1, 1))\n",
            "    (fpn_output4): Conv2d(256, 256, kernel_size=(3, 3), stride=(1, 1), padding=(1, 1))\n",
            "    (fpn_lateral5): Conv2d(2048, 256, kernel_size=(1, 1), stride=(1, 1))\n",
            "    (fpn_output5): Conv2d(256, 256, kernel_size=(3, 3), stride=(1, 1), padding=(1, 1))\n",
            "    (top_block): LastLevelMaxPool()\n",
            "    (bottom_up): ResNet(\n",
            "      (stem): BasicStem(\n",
            "        (conv1): Conv2d(\n",
            "          3, 64, kernel_size=(7, 7), stride=(2, 2), padding=(3, 3), bias=False\n",
            "          (norm): FrozenBatchNorm2d(num_features=64, eps=1e-05)\n",
            "        )\n",
            "      )\n",
            "      (res2): Sequential(\n",
            "        (0): BottleneckBlock(\n",
            "          (shortcut): Conv2d(\n",
            "            64, 256, kernel_size=(1, 1), stride=(1, 1), bias=False\n",
            "            (norm): FrozenBatchNorm2d(num_features=256, eps=1e-05)\n",
            "          )\n",
            "          (conv1): Conv2d(\n",
            "            64, 64, kernel_size=(1, 1), stride=(1, 1), bias=False\n",
            "            (norm): FrozenBatchNorm2d(num_features=64, eps=1e-05)\n",
            "          )\n",
            "          (conv2): Conv2d(\n",
            "            64, 64, kernel_size=(3, 3), stride=(1, 1), padding=(1, 1), bias=False\n",
            "            (norm): FrozenBatchNorm2d(num_features=64, eps=1e-05)\n",
            "          )\n",
            "          (conv3): Conv2d(\n",
            "            64, 256, kernel_size=(1, 1), stride=(1, 1), bias=False\n",
            "            (norm): FrozenBatchNorm2d(num_features=256, eps=1e-05)\n",
            "          )\n",
            "        )\n",
            "        (1): BottleneckBlock(\n",
            "          (conv1): Conv2d(\n",
            "            256, 64, kernel_size=(1, 1), stride=(1, 1), bias=False\n",
            "            (norm): FrozenBatchNorm2d(num_features=64, eps=1e-05)\n",
            "          )\n",
            "          (conv2): Conv2d(\n",
            "            64, 64, kernel_size=(3, 3), stride=(1, 1), padding=(1, 1), bias=False\n",
            "            (norm): FrozenBatchNorm2d(num_features=64, eps=1e-05)\n",
            "          )\n",
            "          (conv3): Conv2d(\n",
            "            64, 256, kernel_size=(1, 1), stride=(1, 1), bias=False\n",
            "            (norm): FrozenBatchNorm2d(num_features=256, eps=1e-05)\n",
            "          )\n",
            "        )\n",
            "        (2): BottleneckBlock(\n",
            "          (conv1): Conv2d(\n",
            "            256, 64, kernel_size=(1, 1), stride=(1, 1), bias=False\n",
            "            (norm): FrozenBatchNorm2d(num_features=64, eps=1e-05)\n",
            "          )\n",
            "          (conv2): Conv2d(\n",
            "            64, 64, kernel_size=(3, 3), stride=(1, 1), padding=(1, 1), bias=False\n",
            "            (norm): FrozenBatchNorm2d(num_features=64, eps=1e-05)\n",
            "          )\n",
            "          (conv3): Conv2d(\n",
            "            64, 256, kernel_size=(1, 1), stride=(1, 1), bias=False\n",
            "            (norm): FrozenBatchNorm2d(num_features=256, eps=1e-05)\n",
            "          )\n",
            "        )\n",
            "      )\n",
            "      (res3): Sequential(\n",
            "        (0): BottleneckBlock(\n",
            "          (shortcut): Conv2d(\n",
            "            256, 512, kernel_size=(1, 1), stride=(2, 2), bias=False\n",
            "            (norm): FrozenBatchNorm2d(num_features=512, eps=1e-05)\n",
            "          )\n",
            "          (conv1): Conv2d(\n",
            "            256, 128, kernel_size=(1, 1), stride=(2, 2), bias=False\n",
            "            (norm): FrozenBatchNorm2d(num_features=128, eps=1e-05)\n",
            "          )\n",
            "          (conv2): Conv2d(\n",
            "            128, 128, kernel_size=(3, 3), stride=(1, 1), padding=(1, 1), bias=False\n",
            "            (norm): FrozenBatchNorm2d(num_features=128, eps=1e-05)\n",
            "          )\n",
            "          (conv3): Conv2d(\n",
            "            128, 512, kernel_size=(1, 1), stride=(1, 1), bias=False\n",
            "            (norm): FrozenBatchNorm2d(num_features=512, eps=1e-05)\n",
            "          )\n",
            "        )\n",
            "        (1): BottleneckBlock(\n",
            "          (conv1): Conv2d(\n",
            "            512, 128, kernel_size=(1, 1), stride=(1, 1), bias=False\n",
            "            (norm): FrozenBatchNorm2d(num_features=128, eps=1e-05)\n",
            "          )\n",
            "          (conv2): Conv2d(\n",
            "            128, 128, kernel_size=(3, 3), stride=(1, 1), padding=(1, 1), bias=False\n",
            "            (norm): FrozenBatchNorm2d(num_features=128, eps=1e-05)\n",
            "          )\n",
            "          (conv3): Conv2d(\n",
            "            128, 512, kernel_size=(1, 1), stride=(1, 1), bias=False\n",
            "            (norm): FrozenBatchNorm2d(num_features=512, eps=1e-05)\n",
            "          )\n",
            "        )\n",
            "        (2): BottleneckBlock(\n",
            "          (conv1): Conv2d(\n",
            "            512, 128, kernel_size=(1, 1), stride=(1, 1), bias=False\n",
            "            (norm): FrozenBatchNorm2d(num_features=128, eps=1e-05)\n",
            "          )\n",
            "          (conv2): Conv2d(\n",
            "            128, 128, kernel_size=(3, 3), stride=(1, 1), padding=(1, 1), bias=False\n",
            "            (norm): FrozenBatchNorm2d(num_features=128, eps=1e-05)\n",
            "          )\n",
            "          (conv3): Conv2d(\n",
            "            128, 512, kernel_size=(1, 1), stride=(1, 1), bias=False\n",
            "            (norm): FrozenBatchNorm2d(num_features=512, eps=1e-05)\n",
            "          )\n",
            "        )\n",
            "        (3): BottleneckBlock(\n",
            "          (conv1): Conv2d(\n",
            "            512, 128, kernel_size=(1, 1), stride=(1, 1), bias=False\n",
            "            (norm): FrozenBatchNorm2d(num_features=128, eps=1e-05)\n",
            "          )\n",
            "          (conv2): Conv2d(\n",
            "            128, 128, kernel_size=(3, 3), stride=(1, 1), padding=(1, 1), bias=False\n",
            "            (norm): FrozenBatchNorm2d(num_features=128, eps=1e-05)\n",
            "          )\n",
            "          (conv3): Conv2d(\n",
            "            128, 512, kernel_size=(1, 1), stride=(1, 1), bias=False\n",
            "            (norm): FrozenBatchNorm2d(num_features=512, eps=1e-05)\n",
            "          )\n",
            "        )\n",
            "      )\n",
            "      (res4): Sequential(\n",
            "        (0): BottleneckBlock(\n",
            "          (shortcut): Conv2d(\n",
            "            512, 1024, kernel_size=(1, 1), stride=(2, 2), bias=False\n",
            "            (norm): FrozenBatchNorm2d(num_features=1024, eps=1e-05)\n",
            "          )\n",
            "          (conv1): Conv2d(\n",
            "            512, 256, kernel_size=(1, 1), stride=(2, 2), bias=False\n",
            "            (norm): FrozenBatchNorm2d(num_features=256, eps=1e-05)\n",
            "          )\n",
            "          (conv2): Conv2d(\n",
            "            256, 256, kernel_size=(3, 3), stride=(1, 1), padding=(1, 1), bias=False\n",
            "            (norm): FrozenBatchNorm2d(num_features=256, eps=1e-05)\n",
            "          )\n",
            "          (conv3): Conv2d(\n",
            "            256, 1024, kernel_size=(1, 1), stride=(1, 1), bias=False\n",
            "            (norm): FrozenBatchNorm2d(num_features=1024, eps=1e-05)\n",
            "          )\n",
            "        )\n",
            "        (1): BottleneckBlock(\n",
            "          (conv1): Conv2d(\n",
            "            1024, 256, kernel_size=(1, 1), stride=(1, 1), bias=False\n",
            "            (norm): FrozenBatchNorm2d(num_features=256, eps=1e-05)\n",
            "          )\n",
            "          (conv2): Conv2d(\n",
            "            256, 256, kernel_size=(3, 3), stride=(1, 1), padding=(1, 1), bias=False\n",
            "            (norm): FrozenBatchNorm2d(num_features=256, eps=1e-05)\n",
            "          )\n",
            "          (conv3): Conv2d(\n",
            "            256, 1024, kernel_size=(1, 1), stride=(1, 1), bias=False\n",
            "            (norm): FrozenBatchNorm2d(num_features=1024, eps=1e-05)\n",
            "          )\n",
            "        )\n",
            "        (2): BottleneckBlock(\n",
            "          (conv1): Conv2d(\n",
            "            1024, 256, kernel_size=(1, 1), stride=(1, 1), bias=False\n",
            "            (norm): FrozenBatchNorm2d(num_features=256, eps=1e-05)\n",
            "          )\n",
            "          (conv2): Conv2d(\n",
            "            256, 256, kernel_size=(3, 3), stride=(1, 1), padding=(1, 1), bias=False\n",
            "            (norm): FrozenBatchNorm2d(num_features=256, eps=1e-05)\n",
            "          )\n",
            "          (conv3): Conv2d(\n",
            "            256, 1024, kernel_size=(1, 1), stride=(1, 1), bias=False\n",
            "            (norm): FrozenBatchNorm2d(num_features=1024, eps=1e-05)\n",
            "          )\n",
            "        )\n",
            "        (3): BottleneckBlock(\n",
            "          (conv1): Conv2d(\n",
            "            1024, 256, kernel_size=(1, 1), stride=(1, 1), bias=False\n",
            "            (norm): FrozenBatchNorm2d(num_features=256, eps=1e-05)\n",
            "          )\n",
            "          (conv2): Conv2d(\n",
            "            256, 256, kernel_size=(3, 3), stride=(1, 1), padding=(1, 1), bias=False\n",
            "            (norm): FrozenBatchNorm2d(num_features=256, eps=1e-05)\n",
            "          )\n",
            "          (conv3): Conv2d(\n",
            "            256, 1024, kernel_size=(1, 1), stride=(1, 1), bias=False\n",
            "            (norm): FrozenBatchNorm2d(num_features=1024, eps=1e-05)\n",
            "          )\n",
            "        )\n",
            "        (4): BottleneckBlock(\n",
            "          (conv1): Conv2d(\n",
            "            1024, 256, kernel_size=(1, 1), stride=(1, 1), bias=False\n",
            "            (norm): FrozenBatchNorm2d(num_features=256, eps=1e-05)\n",
            "          )\n",
            "          (conv2): Conv2d(\n",
            "            256, 256, kernel_size=(3, 3), stride=(1, 1), padding=(1, 1), bias=False\n",
            "            (norm): FrozenBatchNorm2d(num_features=256, eps=1e-05)\n",
            "          )\n",
            "          (conv3): Conv2d(\n",
            "            256, 1024, kernel_size=(1, 1), stride=(1, 1), bias=False\n",
            "            (norm): FrozenBatchNorm2d(num_features=1024, eps=1e-05)\n",
            "          )\n",
            "        )\n",
            "        (5): BottleneckBlock(\n",
            "          (conv1): Conv2d(\n",
            "            1024, 256, kernel_size=(1, 1), stride=(1, 1), bias=False\n",
            "            (norm): FrozenBatchNorm2d(num_features=256, eps=1e-05)\n",
            "          )\n",
            "          (conv2): Conv2d(\n",
            "            256, 256, kernel_size=(3, 3), stride=(1, 1), padding=(1, 1), bias=False\n",
            "            (norm): FrozenBatchNorm2d(num_features=256, eps=1e-05)\n",
            "          )\n",
            "          (conv3): Conv2d(\n",
            "            256, 1024, kernel_size=(1, 1), stride=(1, 1), bias=False\n",
            "            (norm): FrozenBatchNorm2d(num_features=1024, eps=1e-05)\n",
            "          )\n",
            "        )\n",
            "      )\n",
            "      (res5): Sequential(\n",
            "        (0): BottleneckBlock(\n",
            "          (shortcut): Conv2d(\n",
            "            1024, 2048, kernel_size=(1, 1), stride=(2, 2), bias=False\n",
            "            (norm): FrozenBatchNorm2d(num_features=2048, eps=1e-05)\n",
            "          )\n",
            "          (conv1): Conv2d(\n",
            "            1024, 512, kernel_size=(1, 1), stride=(2, 2), bias=False\n",
            "            (norm): FrozenBatchNorm2d(num_features=512, eps=1e-05)\n",
            "          )\n",
            "          (conv2): Conv2d(\n",
            "            512, 512, kernel_size=(3, 3), stride=(1, 1), padding=(1, 1), bias=False\n",
            "            (norm): FrozenBatchNorm2d(num_features=512, eps=1e-05)\n",
            "          )\n",
            "          (conv3): Conv2d(\n",
            "            512, 2048, kernel_size=(1, 1), stride=(1, 1), bias=False\n",
            "            (norm): FrozenBatchNorm2d(num_features=2048, eps=1e-05)\n",
            "          )\n",
            "        )\n",
            "        (1): BottleneckBlock(\n",
            "          (conv1): Conv2d(\n",
            "            2048, 512, kernel_size=(1, 1), stride=(1, 1), bias=False\n",
            "            (norm): FrozenBatchNorm2d(num_features=512, eps=1e-05)\n",
            "          )\n",
            "          (conv2): Conv2d(\n",
            "            512, 512, kernel_size=(3, 3), stride=(1, 1), padding=(1, 1), bias=False\n",
            "            (norm): FrozenBatchNorm2d(num_features=512, eps=1e-05)\n",
            "          )\n",
            "          (conv3): Conv2d(\n",
            "            512, 2048, kernel_size=(1, 1), stride=(1, 1), bias=False\n",
            "            (norm): FrozenBatchNorm2d(num_features=2048, eps=1e-05)\n",
            "          )\n",
            "        )\n",
            "        (2): BottleneckBlock(\n",
            "          (conv1): Conv2d(\n",
            "            2048, 512, kernel_size=(1, 1), stride=(1, 1), bias=False\n",
            "            (norm): FrozenBatchNorm2d(num_features=512, eps=1e-05)\n",
            "          )\n",
            "          (conv2): Conv2d(\n",
            "            512, 512, kernel_size=(3, 3), stride=(1, 1), padding=(1, 1), bias=False\n",
            "            (norm): FrozenBatchNorm2d(num_features=512, eps=1e-05)\n",
            "          )\n",
            "          (conv3): Conv2d(\n",
            "            512, 2048, kernel_size=(1, 1), stride=(1, 1), bias=False\n",
            "            (norm): FrozenBatchNorm2d(num_features=2048, eps=1e-05)\n",
            "          )\n",
            "        )\n",
            "      )\n",
            "    )\n",
            "  )\n",
            "  (proposal_generator): RPN(\n",
            "    (anchor_generator): DefaultAnchorGenerator(\n",
            "      (cell_anchors): BufferList()\n",
            "    )\n",
            "    (rpn_head): StandardRPNHead(\n",
            "      (conv): Conv2d(256, 256, kernel_size=(3, 3), stride=(1, 1), padding=(1, 1))\n",
            "      (objectness_logits): Conv2d(256, 3, kernel_size=(1, 1), stride=(1, 1))\n",
            "      (anchor_deltas): Conv2d(256, 12, kernel_size=(1, 1), stride=(1, 1))\n",
            "    )\n",
            "  )\n",
            "  (roi_heads): PointRendROIHeads(\n",
            "    (box_pooler): ROIPooler(\n",
            "      (level_poolers): ModuleList(\n",
            "        (0): ROIAlign(output_size=(7, 7), spatial_scale=0.25, sampling_ratio=0, aligned=True)\n",
            "        (1): ROIAlign(output_size=(7, 7), spatial_scale=0.125, sampling_ratio=0, aligned=True)\n",
            "        (2): ROIAlign(output_size=(7, 7), spatial_scale=0.0625, sampling_ratio=0, aligned=True)\n",
            "        (3): ROIAlign(output_size=(7, 7), spatial_scale=0.03125, sampling_ratio=0, aligned=True)\n",
            "      )\n",
            "    )\n",
            "    (box_head): FastRCNNConvFCHead(\n",
            "      (fc1): Linear(in_features=12544, out_features=1024, bias=True)\n",
            "      (fc2): Linear(in_features=1024, out_features=1024, bias=True)\n",
            "    )\n",
            "    (box_predictor): FastRCNNOutputLayers(\n",
            "      (cls_score): Linear(in_features=1024, out_features=81, bias=True)\n",
            "      (bbox_pred): Linear(in_features=1024, out_features=320, bias=True)\n",
            "    )\n",
            "    (mask_coarse_head): CoarseMaskHead(\n",
            "      (reduce_spatial_dim_conv): Conv2d(256, 256, kernel_size=(2, 2), stride=(2, 2))\n",
            "      (coarse_mask_fc1): Linear(in_features=12544, out_features=1024, bias=True)\n",
            "      (coarse_mask_fc2): Linear(in_features=1024, out_features=1024, bias=True)\n",
            "      (prediction): Linear(in_features=1024, out_features=3920, bias=True)\n",
            "    )\n",
            "    (mask_point_head): StandardPointHead(\n",
            "      (fc1): Conv1d(336, 256, kernel_size=(1,), stride=(1,))\n",
            "      (fc2): Conv1d(336, 256, kernel_size=(1,), stride=(1,))\n",
            "      (fc3): Conv1d(336, 256, kernel_size=(1,), stride=(1,))\n",
            "      (predictor): Conv1d(336, 80, kernel_size=(1,), stride=(1,))\n",
            "    )\n",
            "  )\n",
            ")\n",
            "\u001b[32m[03/30 04:17:07 d2.data.datasets.coco]: \u001b[0mLoaded 566 images in COCO format from ./drive/My Drive/pic566_28class/images566.json\n",
            "\u001b[32m[03/30 04:17:07 d2.data.build]: \u001b[0mRemoved 0 images with no usable annotations. 566 images left.\n",
            "\u001b[32m[03/30 04:17:07 d2.data.common]: \u001b[0mSerializing 566 elements to byte tensors and concatenating them all ...\n",
            "\u001b[32m[03/30 04:17:07 d2.data.common]: \u001b[0mSerialized dataset takes 1.53 MiB\n",
            "\u001b[32m[03/30 04:17:07 d2.data.detection_utils]: \u001b[0mTransformGens used in training: [ResizeShortestEdge(short_edge_length=(640, 672, 704, 736, 768, 800), max_size=1333, sample_style='choice'), RandomFlip()]\n",
            "\u001b[32m[03/30 04:17:07 d2.data.build]: \u001b[0mUsing training sampler TrainingSampler\n",
            "\u001b[32m[03/30 04:17:08 d2.engine.train_loop]: \u001b[0mStarting training from iteration 0\n",
            "\u001b[32m[03/30 04:17:16 d2.utils.events]: \u001b[0m eta: 0:04:21  iter: 19  total_loss: 2.928  loss_cls: 1.720  loss_box_reg: 0.482  loss_mask: 0.240  loss_mask_point: 0.322  loss_rpn_cls: 0.049  loss_rpn_loc: 0.081  time: 0.3665  data_time: 0.2009  lr: 0.000400  max_mem: 2803M\n",
            "\u001b[32m[03/30 04:17:22 d2.utils.events]: \u001b[0m eta: 0:03:41  iter: 39  total_loss: 1.779  loss_cls: 0.865  loss_box_reg: 0.411  loss_mask: 0.170  loss_mask_point: 0.246  loss_rpn_cls: 0.016  loss_rpn_loc: 0.056  time: 0.3373  data_time: 0.0943  lr: 0.000799  max_mem: 2803M\n",
            "\u001b[32m[03/30 04:17:30 d2.utils.events]: \u001b[0m eta: 0:03:58  iter: 59  total_loss: 1.401  loss_cls: 0.607  loss_box_reg: 0.341  loss_mask: 0.130  loss_mask_point: 0.193  loss_rpn_cls: 0.017  loss_rpn_loc: 0.063  time: 0.3577  data_time: 0.2005  lr: 0.001199  max_mem: 2803M\n",
            "\u001b[32m[03/30 04:17:37 d2.utils.events]: \u001b[0m eta: 0:03:40  iter: 79  total_loss: 1.188  loss_cls: 0.517  loss_box_reg: 0.307  loss_mask: 0.117  loss_mask_point: 0.174  loss_rpn_cls: 0.008  loss_rpn_loc: 0.045  time: 0.3537  data_time: 0.1317  lr: 0.001598  max_mem: 2804M\n",
            "\u001b[32m[03/30 04:17:43 d2.utils.events]: \u001b[0m eta: 0:03:22  iter: 99  total_loss: 1.104  loss_cls: 0.416  loss_box_reg: 0.285  loss_mask: 0.117  loss_mask_point: 0.178  loss_rpn_cls: 0.012  loss_rpn_loc: 0.056  time: 0.3410  data_time: 0.0767  lr: 0.001998  max_mem: 2804M\n",
            "\u001b[32m[03/30 04:17:51 d2.utils.events]: \u001b[0m eta: 0:03:23  iter: 119  total_loss: 0.946  loss_cls: 0.381  loss_box_reg: 0.293  loss_mask: 0.104  loss_mask_point: 0.170  loss_rpn_cls: 0.006  loss_rpn_loc: 0.042  time: 0.3510  data_time: 0.2128  lr: 0.002398  max_mem: 2804M\n",
            "\u001b[32m[03/30 04:17:57 d2.utils.events]: \u001b[0m eta: 0:03:15  iter: 139  total_loss: 1.003  loss_cls: 0.349  loss_box_reg: 0.301  loss_mask: 0.099  loss_mask_point: 0.166  loss_rpn_cls: 0.008  loss_rpn_loc: 0.062  time: 0.3501  data_time: 0.1365  lr: 0.002797  max_mem: 2804M\n",
            "\u001b[32m[03/30 04:18:10 d2.utils.events]: \u001b[0m eta: 0:03:12  iter: 159  total_loss: 0.970  loss_cls: 0.311  loss_box_reg: 0.306  loss_mask: 0.093  loss_mask_point: 0.157  loss_rpn_cls: 0.008  loss_rpn_loc: 0.050  time: 0.3876  data_time: 0.4564  lr: 0.003197  max_mem: 2804M\n",
            "\u001b[32m[03/30 04:18:17 d2.utils.events]: \u001b[0m eta: 0:03:04  iter: 179  total_loss: 0.903  loss_cls: 0.256  loss_box_reg: 0.343  loss_mask: 0.094  loss_mask_point: 0.150  loss_rpn_cls: 0.009  loss_rpn_loc: 0.046  time: 0.3822  data_time: 0.1426  lr: 0.003596  max_mem: 2804M\n",
            "\u001b[32m[03/30 04:18:24 d2.utils.events]: \u001b[0m eta: 0:02:54  iter: 199  total_loss: 0.957  loss_cls: 0.338  loss_box_reg: 0.287  loss_mask: 0.097  loss_mask_point: 0.154  loss_rpn_cls: 0.010  loss_rpn_loc: 0.071  time: 0.3768  data_time: 0.1227  lr: 0.003996  max_mem: 2804M\n",
            "\u001b[32m[03/30 04:18:32 d2.utils.events]: \u001b[0m eta: 0:02:52  iter: 219  total_loss: 0.937  loss_cls: 0.269  loss_box_reg: 0.305  loss_mask: 0.096  loss_mask_point: 0.157  loss_rpn_cls: 0.006  loss_rpn_loc: 0.071  time: 0.3788  data_time: 0.2076  lr: 0.004396  max_mem: 2807M\n",
            "\u001b[32m[03/30 04:18:39 d2.utils.events]: \u001b[0m eta: 0:02:45  iter: 239  total_loss: 1.011  loss_cls: 0.284  loss_box_reg: 0.330  loss_mask: 0.101  loss_mask_point: 0.156  loss_rpn_cls: 0.008  loss_rpn_loc: 0.065  time: 0.3761  data_time: 0.1459  lr: 0.004795  max_mem: 2807M\n",
            "\u001b[32m[03/30 04:18:47 d2.utils.events]: \u001b[0m eta: 0:02:47  iter: 259  total_loss: 0.901  loss_cls: 0.268  loss_box_reg: 0.287  loss_mask: 0.096  loss_mask_point: 0.148  loss_rpn_cls: 0.007  loss_rpn_loc: 0.047  time: 0.3774  data_time: 0.2117  lr: 0.005195  max_mem: 2807M\n",
            "\u001b[32m[03/30 04:18:54 d2.utils.events]: \u001b[0m eta: 0:02:39  iter: 279  total_loss: 0.933  loss_cls: 0.242  loss_box_reg: 0.314  loss_mask: 0.101  loss_mask_point: 0.166  loss_rpn_cls: 0.008  loss_rpn_loc: 0.059  time: 0.3755  data_time: 0.1568  lr: 0.005594  max_mem: 2807M\n",
            "\u001b[32m[03/30 04:18:59 d2.utils.events]: \u001b[0m eta: 0:02:25  iter: 299  total_loss: 0.962  loss_cls: 0.315  loss_box_reg: 0.330  loss_mask: 0.102  loss_mask_point: 0.149  loss_rpn_cls: 0.010  loss_rpn_loc: 0.065  time: 0.3677  data_time: 0.0232  lr: 0.005994  max_mem: 2807M\n",
            "\u001b[32m[03/30 04:19:04 d2.utils.events]: \u001b[0m eta: 0:02:13  iter: 319  total_loss: 0.955  loss_cls: 0.307  loss_box_reg: 0.344  loss_mask: 0.097  loss_mask_point: 0.147  loss_rpn_cls: 0.011  loss_rpn_loc: 0.051  time: 0.3605  data_time: 0.0053  lr: 0.006394  max_mem: 2807M\n",
            "\u001b[32m[03/30 04:19:09 d2.utils.events]: \u001b[0m eta: 0:02:04  iter: 339  total_loss: 0.897  loss_cls: 0.224  loss_box_reg: 0.355  loss_mask: 0.090  loss_mask_point: 0.140  loss_rpn_cls: 0.009  loss_rpn_loc: 0.053  time: 0.3534  data_time: 0.0051  lr: 0.006793  max_mem: 2807M\n",
            "\u001b[32m[03/30 04:19:14 d2.utils.events]: \u001b[0m eta: 0:01:58  iter: 359  total_loss: 0.934  loss_cls: 0.259  loss_box_reg: 0.342  loss_mask: 0.096  loss_mask_point: 0.136  loss_rpn_cls: 0.011  loss_rpn_loc: 0.063  time: 0.3475  data_time: 0.0061  lr: 0.007193  max_mem: 2807M\n",
            "\u001b[32m[03/30 04:19:19 d2.utils.events]: \u001b[0m eta: 0:01:51  iter: 379  total_loss: 1.016  loss_cls: 0.314  loss_box_reg: 0.352  loss_mask: 0.099  loss_mask_point: 0.151  loss_rpn_cls: 0.014  loss_rpn_loc: 0.060  time: 0.3419  data_time: 0.0058  lr: 0.007592  max_mem: 2807M\n",
            "\u001b[32m[03/30 04:19:24 d2.utils.events]: \u001b[0m eta: 0:01:45  iter: 399  total_loss: 0.956  loss_cls: 0.262  loss_box_reg: 0.326  loss_mask: 0.099  loss_mask_point: 0.154  loss_rpn_cls: 0.009  loss_rpn_loc: 0.072  time: 0.3373  data_time: 0.0060  lr: 0.007992  max_mem: 2807M\n",
            "\u001b[32m[03/30 04:19:29 d2.utils.events]: \u001b[0m eta: 0:01:40  iter: 419  total_loss: 0.902  loss_cls: 0.243  loss_box_reg: 0.336  loss_mask: 0.094  loss_mask_point: 0.145  loss_rpn_cls: 0.010  loss_rpn_loc: 0.058  time: 0.3331  data_time: 0.0071  lr: 0.008392  max_mem: 2807M\n",
            "\u001b[32m[03/30 04:19:34 d2.utils.events]: \u001b[0m eta: 0:01:34  iter: 439  total_loss: 0.940  loss_cls: 0.230  loss_box_reg: 0.363  loss_mask: 0.094  loss_mask_point: 0.138  loss_rpn_cls: 0.010  loss_rpn_loc: 0.053  time: 0.3294  data_time: 0.0052  lr: 0.008791  max_mem: 2807M\n",
            "\u001b[32m[03/30 04:19:39 d2.utils.events]: \u001b[0m eta: 0:01:28  iter: 459  total_loss: 0.947  loss_cls: 0.246  loss_box_reg: 0.373  loss_mask: 0.100  loss_mask_point: 0.147  loss_rpn_cls: 0.011  loss_rpn_loc: 0.055  time: 0.3258  data_time: 0.0051  lr: 0.009191  max_mem: 2807M\n",
            "\u001b[32m[03/30 04:19:44 d2.utils.events]: \u001b[0m eta: 0:01:23  iter: 479  total_loss: 0.952  loss_cls: 0.234  loss_box_reg: 0.388  loss_mask: 0.096  loss_mask_point: 0.131  loss_rpn_cls: 0.009  loss_rpn_loc: 0.045  time: 0.3226  data_time: 0.0066  lr: 0.009590  max_mem: 2807M\n",
            "\u001b[32m[03/30 04:19:49 d2.utils.events]: \u001b[0m eta: 0:01:17  iter: 499  total_loss: 0.915  loss_cls: 0.242  loss_box_reg: 0.362  loss_mask: 0.084  loss_mask_point: 0.138  loss_rpn_cls: 0.007  loss_rpn_loc: 0.063  time: 0.3198  data_time: 0.0073  lr: 0.009990  max_mem: 2807M\n",
            "\u001b[32m[03/30 04:19:54 d2.utils.events]: \u001b[0m eta: 0:01:12  iter: 519  total_loss: 0.875  loss_cls: 0.233  loss_box_reg: 0.342  loss_mask: 0.088  loss_mask_point: 0.141  loss_rpn_cls: 0.010  loss_rpn_loc: 0.065  time: 0.3171  data_time: 0.0061  lr: 0.010390  max_mem: 2807M\n",
            "\u001b[32m[03/30 04:19:59 d2.utils.events]: \u001b[0m eta: 0:01:07  iter: 539  total_loss: 0.900  loss_cls: 0.230  loss_box_reg: 0.346  loss_mask: 0.092  loss_mask_point: 0.134  loss_rpn_cls: 0.007  loss_rpn_loc: 0.055  time: 0.3145  data_time: 0.0055  lr: 0.010789  max_mem: 2807M\n",
            "\u001b[32m[03/30 04:20:04 d2.utils.events]: \u001b[0m eta: 0:01:02  iter: 559  total_loss: 0.894  loss_cls: 0.214  loss_box_reg: 0.352  loss_mask: 0.087  loss_mask_point: 0.134  loss_rpn_cls: 0.012  loss_rpn_loc: 0.056  time: 0.3121  data_time: 0.0053  lr: 0.011189  max_mem: 2807M\n",
            "\u001b[32m[03/30 04:20:09 d2.utils.events]: \u001b[0m eta: 0:00:56  iter: 579  total_loss: 0.944  loss_cls: 0.241  loss_box_reg: 0.366  loss_mask: 0.094  loss_mask_point: 0.126  loss_rpn_cls: 0.016  loss_rpn_loc: 0.061  time: 0.3099  data_time: 0.0064  lr: 0.011588  max_mem: 2807M\n",
            "\u001b[32m[03/30 04:20:14 d2.utils.events]: \u001b[0m eta: 0:00:51  iter: 599  total_loss: 0.906  loss_cls: 0.240  loss_box_reg: 0.368  loss_mask: 0.091  loss_mask_point: 0.138  loss_rpn_cls: 0.008  loss_rpn_loc: 0.058  time: 0.3080  data_time: 0.0056  lr: 0.011988  max_mem: 2807M\n",
            "\u001b[32m[03/30 04:20:19 d2.utils.events]: \u001b[0m eta: 0:00:46  iter: 619  total_loss: 0.919  loss_cls: 0.237  loss_box_reg: 0.365  loss_mask: 0.092  loss_mask_point: 0.131  loss_rpn_cls: 0.008  loss_rpn_loc: 0.062  time: 0.3061  data_time: 0.0059  lr: 0.012388  max_mem: 2807M\n",
            "\u001b[32m[03/30 04:20:24 d2.utils.events]: \u001b[0m eta: 0:00:41  iter: 639  total_loss: 0.866  loss_cls: 0.205  loss_box_reg: 0.344  loss_mask: 0.087  loss_mask_point: 0.135  loss_rpn_cls: 0.010  loss_rpn_loc: 0.062  time: 0.3042  data_time: 0.0064  lr: 0.012787  max_mem: 2807M\n",
            "\u001b[32m[03/30 04:20:29 d2.utils.events]: \u001b[0m eta: 0:00:36  iter: 659  total_loss: 0.900  loss_cls: 0.244  loss_box_reg: 0.361  loss_mask: 0.088  loss_mask_point: 0.135  loss_rpn_cls: 0.009  loss_rpn_loc: 0.056  time: 0.3026  data_time: 0.0058  lr: 0.013187  max_mem: 2807M\n",
            "\u001b[32m[03/30 04:20:34 d2.utils.events]: \u001b[0m eta: 0:00:30  iter: 679  total_loss: 0.971  loss_cls: 0.268  loss_box_reg: 0.396  loss_mask: 0.093  loss_mask_point: 0.135  loss_rpn_cls: 0.010  loss_rpn_loc: 0.062  time: 0.3010  data_time: 0.0055  lr: 0.013586  max_mem: 2807M\n",
            "\u001b[32m[03/30 04:20:39 d2.utils.events]: \u001b[0m eta: 0:00:25  iter: 699  total_loss: 0.978  loss_cls: 0.269  loss_box_reg: 0.399  loss_mask: 0.084  loss_mask_point: 0.137  loss_rpn_cls: 0.012  loss_rpn_loc: 0.070  time: 0.2996  data_time: 0.0055  lr: 0.013986  max_mem: 2807M\n",
            "\u001b[32m[03/30 04:20:44 d2.utils.events]: \u001b[0m eta: 0:00:20  iter: 719  total_loss: 0.966  loss_cls: 0.294  loss_box_reg: 0.367  loss_mask: 0.087  loss_mask_point: 0.127  loss_rpn_cls: 0.012  loss_rpn_loc: 0.073  time: 0.2982  data_time: 0.0055  lr: 0.014386  max_mem: 2807M\n",
            "\u001b[32m[03/30 04:20:49 d2.utils.events]: \u001b[0m eta: 0:00:15  iter: 739  total_loss: 0.972  loss_cls: 0.306  loss_box_reg: 0.377  loss_mask: 0.089  loss_mask_point: 0.131  loss_rpn_cls: 0.011  loss_rpn_loc: 0.056  time: 0.2970  data_time: 0.0053  lr: 0.014785  max_mem: 2807M\n",
            "\u001b[32m[03/30 04:20:54 d2.utils.events]: \u001b[0m eta: 0:00:10  iter: 759  total_loss: 0.925  loss_cls: 0.268  loss_box_reg: 0.374  loss_mask: 0.088  loss_mask_point: 0.134  loss_rpn_cls: 0.008  loss_rpn_loc: 0.050  time: 0.2957  data_time: 0.0062  lr: 0.015185  max_mem: 2807M\n",
            "\u001b[32m[03/30 04:20:59 d2.utils.events]: \u001b[0m eta: 0:00:05  iter: 779  total_loss: 0.932  loss_cls: 0.220  loss_box_reg: 0.394  loss_mask: 0.091  loss_mask_point: 0.140  loss_rpn_cls: 0.008  loss_rpn_loc: 0.062  time: 0.2945  data_time: 0.0056  lr: 0.015584  max_mem: 2807M\n",
            "\u001b[32m[03/30 04:21:05 d2.utils.events]: \u001b[0m eta: 0:00:00  iter: 799  total_loss: 1.010  loss_cls: 0.257  loss_box_reg: 0.398  loss_mask: 0.091  loss_mask_point: 0.143  loss_rpn_cls: 0.013  loss_rpn_loc: 0.064  time: 0.2933  data_time: 0.0058  lr: 0.015984  max_mem: 2807M\n",
            "\u001b[32m[03/30 04:21:06 d2.engine.hooks]: \u001b[0mOverall training speed: 797 iterations in 0:03:54 (0.2937 s / it)\n",
            "\u001b[32m[03/30 04:21:06 d2.engine.hooks]: \u001b[0mTotal training time: 0:03:56 (0:00:02 on hooks)\n"
          ],
          "name": "stdout"
        }
      ]
    },
    {
      "cell_type": "markdown",
      "metadata": {
        "id": "0e4vdDIOXyxF",
        "colab_type": "text"
      },
      "source": [
        "Now, we perform inference with the trained model on the fruits_nuts dataset. First, let's create a predictor using the model we just trained:\n",
        "\n"
      ]
    },
    {
      "cell_type": "code",
      "metadata": {
        "id": "YM6RCjvB9vU4",
        "colab_type": "code",
        "colab": {}
      },
      "source": [
        "# Look at training curves in tensorboard:\n",
        "%load_ext tensorboard\n",
        "%tensorboard --logdir output"
      ],
      "execution_count": 0,
      "outputs": []
    },
    {
      "cell_type": "code",
      "metadata": {
        "id": "Ya5nEuMELeq8",
        "colab_type": "code",
        "colab": {}
      },
      "source": [
        "cfg.MODEL.WEIGHTS = os.path.join(cfg.OUTPUT_DIR, \"model_final.pth\")\n",
        "cfg.MODEL.ROI_HEADS.SCORE_THRESH_TEST = 0.5   # set the testing threshold for this model\n",
        "cfg.DATASETS.TEST = (\"wz\", )\n",
        "predictor = DefaultPredictor(cfg)"
      ],
      "execution_count": 0,
      "outputs": []
    },
    {
      "cell_type": "markdown",
      "metadata": {
        "id": "qWq1XHfDWiXO",
        "colab_type": "text"
      },
      "source": [
        "Then, we randomly select several samples to visualize the prediction results."
      ]
    },
    {
      "cell_type": "code",
      "metadata": {
        "id": "U5LhISJqWXgM",
        "colab_type": "code",
        "outputId": "c4ab44c6-a5ce-4f27-ee44-5ad186e11b04",
        "colab": {
          "base_uri": "https://localhost:8080/",
          "height": 221
        }
      },
      "source": [
        "from detectron2.utils.visualizer import ColorMode\n",
        "\n",
        "for d in random.sample(wanzhengdataset_dicts, 1):    \n",
        "    im = cv2.imread(d[\"file_name\"])\n",
        "    outputs = predictor(im)\n",
        "    v = Visualizer(im[:, :, ::-1],\n",
        "                   metadata=wanzheng_metadata, \n",
        "                   scale=0.8, \n",
        "                   instance_mode=ColorMode.IMAGE_BW   # remove the colors of unsegmented pixels用于实例化可视化的不同颜色模式  IMAGE_BW：与IMAGE相同，但将所有不带遮罩的区域转换为灰度。仅适用于按实例绘制蒙版预测\n",
        "    )\n",
        "    v = v.draw_instance_predictions(outputs[\"instances\"].to(\"cpu\"))\n",
        "    cv2_imshow(v.get_image()[:, :, ::-1])\n",
        "\n",
        "\n",
        "    #如何输出单独的mask\n",
        "    "
      ],
      "execution_count": 32,
      "outputs": [
        {
          "output_type": "display_data",
          "data": {
            "image/png": "[encoded data removed]",
            "text/plain": [
              "<PIL.Image.Image image mode=RGB size=204x204 at 0x7FC6DA15C668>"
            ]
          },
          "metadata": {
            "tags": []
          }
        }
      ]
    },
    {
      "cell_type": "code",
      "metadata": {
        "id": "hLH2qPSMgOSk",
        "colab_type": "code",
        "colab": {}
      },
      "source": [
        "# look at the outputs. See https://detectron2.readthedocs.io/tutorials/models.html#model-output-format for specification\n",
        "outputs[\"instances\"].pred_classes\n",
        "outputs[\"instances\"].pred_boxes\n",
        "outputs[\"instances\"]"
      ],
      "execution_count": 0,
      "outputs": []
    },
    {
      "cell_type": "code",
      "metadata": {
        "id": "t_bo0cypwllj",
        "colab_type": "code",
        "outputId": "4ef6be65-fd00-4e64-86e2-ac503bab7d66",
        "colab": {
          "base_uri": "https://localhost:8080/",
          "height": 54
        }
      },
      "source": [
        "wanzheng_metadata"
      ],
      "execution_count": 33,
      "outputs": [
        {
          "output_type": "execute_result",
          "data": {
            "text/plain": [
              "Metadata(evaluator_type='coco', image_root='./drive/My Drive/pic566_28class/images', json_file='./drive/My Drive/pic566_28class/images566.json', name='wz', thing_classes=['piezhe', 'heng', 'hengzhewangou', 'pie', 'na', 'shuwangou', 'henggou', 'shugou', 'hengzhegou', 'hengzhezhezhegou', 'hengpie', 'shu', 'shuzhezhegou', 'dian', 'wangou', 'ti', 'shuti', 'shuzhe', 'wogou', 'hengzhe', 'xiegou', 'hengzhezhepie', 'hengzhewan', 'piedian', 'shuzhepie', 'hengxiegou', 'hengzheti', 'shuwan'], thing_dataset_id_to_contiguous_id={1: 0, 2: 1, 3: 2, 4: 3, 5: 4, 6: 5, 7: 6, 8: 7, 9: 8, 10: 9, 11: 10, 12: 11, 13: 12, 14: 13, 15: 14, 16: 15, 17: 16, 18: 17, 19: 18, 20: 19, 21: 20, 22: 21, 23: 22, 24: 23, 25: 24, 26: 25, 27: 26, 28: 27})"
            ]
          },
          "metadata": {
            "tags": []
          },
          "execution_count": 33
        }
      ]
    },
    {
      "cell_type": "markdown",
      "metadata": {
        "id": "rvn2tueICLiE",
        "colab_type": "text"
      },
      "source": [
        "We can also evaluate its performance using AP metric implemented in COCO API. This gives an AP of ~70%. Not bad!"
      ]
    },
    {
      "cell_type": "code",
      "metadata": {
        "id": "FxzlWpycL2Lm",
        "colab_type": "code",
        "colab": {}
      },
      "source": [
        ""
      ],
      "execution_count": 0,
      "outputs": []
    },
    {
      "cell_type": "code",
      "metadata": {
        "colab_type": "code",
        "id": "PViyWzgRL2lE",
        "colab": {}
      },
      "source": [
        "from detectron2.data.datasets import register_coco_instances\n",
        "register_coco_instances(\"bhval\", {}, \"./drive/My Drive/dataset/val/val.json\", \"./drive/My Drive/dataset/val/images\")"
      ],
      "execution_count": 0,
      "outputs": []
    },
    {
      "cell_type": "code",
      "metadata": {
        "colab_type": "code",
        "outputId": "d56ed1a7-fe4f-45b8-8a98-378998907ef7",
        "id": "ShXRfJcKMEzG",
        "colab": {
          "base_uri": "https://localhost:8080/",
          "height": 54
        }
      },
      "source": [
        "wanzheng_metadata = MetadataCatalog.get(\"bhval\")\n",
        "wanzhengdataset_dicts = DatasetCatalog.get(\"bhval\")"
      ],
      "execution_count": 38,
      "outputs": [
        {
          "output_type": "stream",
          "text": [
            "\u001b[32m[03/30 04:26:46 d2.data.datasets.coco]: \u001b[0mLoaded 32 images in COCO format from ./drive/My Drive/dataset/val/val.json\n"
          ],
          "name": "stdout"
        }
      ]
    },
    {
      "cell_type": "code",
      "metadata": {
        "id": "v4Y_TQ6YCOWT",
        "colab_type": "code",
        "outputId": "bcf9d39b-3fee-4ca4-a7e5-b4f8c7cb5392",
        "colab": {
          "base_uri": "https://localhost:8080/",
          "height": 509
        }
      },
      "source": [
        "from detectron2.evaluation import COCOEvaluator, inference_on_dataset\n",
        "from detectron2.data import build_detection_test_loader\n",
        "evaluator = COCOEvaluator(\"bhval\", cfg, False, output_dir=\"./output/\")\n",
        "val_loader = build_detection_test_loader(cfg, \"bhval\")\n",
        "inference_on_dataset(trainer.model, val_loader, evaluator)\n",
        "# another equivalent way is to use trainer.test"
      ],
      "execution_count": 40,
      "outputs": [
        {
          "output_type": "stream",
          "text": [
            "\u001b[32m[03/30 04:27:25 d2.data.datasets.coco]: \u001b[0mLoaded 32 images in COCO format from ./drive/My Drive/dataset/val/val.json\n",
            "\u001b[32m[03/30 04:27:25 d2.data.common]: \u001b[0mSerializing 32 elements to byte tensors and concatenating them all ...\n",
            "\u001b[32m[03/30 04:27:25 d2.data.common]: \u001b[0mSerialized dataset takes 0.07 MiB\n",
            "\u001b[32m[03/30 04:27:25 d2.evaluation.evaluator]: \u001b[0mStart inference on 32 images\n",
            "\u001b[32m[03/30 04:27:26 d2.evaluation.evaluator]: \u001b[0mInference done 11/32. 0.0771 s / img. ETA=0:00:01\n",
            "\u001b[32m[03/30 04:27:28 d2.evaluation.evaluator]: \u001b[0mTotal inference time: 0:00:02.486242 (0.092083 s / img per device, on 1 devices)\n",
            "\u001b[32m[03/30 04:27:28 d2.evaluation.evaluator]: \u001b[0mTotal inference pure compute time: 0:00:02 (0.083121 s / img per device, on 1 devices)\n",
            "\u001b[32m[03/30 04:27:28 d2.evaluation.coco_evaluation]: \u001b[0mPreparing results for COCO format ...\n"
          ],
          "name": "stdout"
        },
        {
          "output_type": "error",
          "ename": "AssertionError",
          "evalue": "ignored",
          "traceback": [
            "\u001b[0;31m---------------------------------------------------------------------------\u001b[0m",
            "\u001b[0;31mAssertionError\u001b[0m                            Traceback (most recent call last)",
            "\u001b[0;32m<ipython-input-40-3fb68915a4fa>\u001b[0m in \u001b[0;36m<module>\u001b[0;34m()\u001b[0m\n\u001b[1;32m      3\u001b[0m \u001b[0mevaluator\u001b[0m \u001b[0;34m=\u001b[0m \u001b[0mCOCOEvaluator\u001b[0m\u001b[0;34m(\u001b[0m\u001b[0;34m\"bhval\"\u001b[0m\u001b[0;34m,\u001b[0m \u001b[0mcfg\u001b[0m\u001b[0;34m,\u001b[0m \u001b[0;32mFalse\u001b[0m\u001b[0;34m,\u001b[0m \u001b[0moutput_dir\u001b[0m\u001b[0;34m=\u001b[0m\u001b[0;34m\"./output/\"\u001b[0m\u001b[0;34m)\u001b[0m\u001b[0;34m\u001b[0m\u001b[0;34m\u001b[0m\u001b[0m\n\u001b[1;32m      4\u001b[0m \u001b[0mval_loader\u001b[0m \u001b[0;34m=\u001b[0m \u001b[0mbuild_detection_test_loader\u001b[0m\u001b[0;34m(\u001b[0m\u001b[0mcfg\u001b[0m\u001b[0;34m,\u001b[0m \u001b[0;34m\"bhval\"\u001b[0m\u001b[0;34m)\u001b[0m\u001b[0;34m\u001b[0m\u001b[0;34m\u001b[0m\u001b[0m\n\u001b[0;32m----> 5\u001b[0;31m \u001b[0minference_on_dataset\u001b[0m\u001b[0;34m(\u001b[0m\u001b[0mtrainer\u001b[0m\u001b[0;34m.\u001b[0m\u001b[0mmodel\u001b[0m\u001b[0;34m,\u001b[0m \u001b[0mval_loader\u001b[0m\u001b[0;34m,\u001b[0m \u001b[0mevaluator\u001b[0m\u001b[0;34m)\u001b[0m\u001b[0;34m\u001b[0m\u001b[0;34m\u001b[0m\u001b[0m\n\u001b[0m\u001b[1;32m      6\u001b[0m \u001b[0;31m# another equivalent way is to use trainer.test\u001b[0m\u001b[0;34m\u001b[0m\u001b[0;34m\u001b[0m\u001b[0;34m\u001b[0m\u001b[0m\n",
            "\u001b[0;32m/usr/local/lib/python3.6/dist-packages/detectron2/evaluation/evaluator.py\u001b[0m in \u001b[0;36minference_on_dataset\u001b[0;34m(model, data_loader, evaluator)\u001b[0m\n\u001b[1;32m    156\u001b[0m     )\n\u001b[1;32m    157\u001b[0m \u001b[0;34m\u001b[0m\u001b[0m\n\u001b[0;32m--> 158\u001b[0;31m     \u001b[0mresults\u001b[0m \u001b[0;34m=\u001b[0m \u001b[0mevaluator\u001b[0m\u001b[0;34m.\u001b[0m\u001b[0mevaluate\u001b[0m\u001b[0;34m(\u001b[0m\u001b[0;34m)\u001b[0m\u001b[0;34m\u001b[0m\u001b[0;34m\u001b[0m\u001b[0m\n\u001b[0m\u001b[1;32m    159\u001b[0m     \u001b[0;31m# An evaluator may return None when not in main process.\u001b[0m\u001b[0;34m\u001b[0m\u001b[0;34m\u001b[0m\u001b[0;34m\u001b[0m\u001b[0m\n\u001b[1;32m    160\u001b[0m     \u001b[0;31m# Replace it by an empty dict instead to make it easier for downstream code to handle\u001b[0m\u001b[0;34m\u001b[0m\u001b[0;34m\u001b[0m\u001b[0;34m\u001b[0m\u001b[0m\n",
            "\u001b[0;32m/usr/local/lib/python3.6/dist-packages/detectron2/evaluation/coco_evaluation.py\u001b[0m in \u001b[0;36mevaluate\u001b[0;34m(self)\u001b[0m\n\u001b[1;32m    140\u001b[0m             \u001b[0mself\u001b[0m\u001b[0;34m.\u001b[0m\u001b[0m_eval_box_proposals\u001b[0m\u001b[0;34m(\u001b[0m\u001b[0mpredictions\u001b[0m\u001b[0;34m)\u001b[0m\u001b[0;34m\u001b[0m\u001b[0;34m\u001b[0m\u001b[0m\n\u001b[1;32m    141\u001b[0m         \u001b[0;32mif\u001b[0m \u001b[0;34m\"instances\"\u001b[0m \u001b[0;32min\u001b[0m \u001b[0mpredictions\u001b[0m\u001b[0;34m[\u001b[0m\u001b[0;36m0\u001b[0m\u001b[0;34m]\u001b[0m\u001b[0;34m:\u001b[0m\u001b[0;34m\u001b[0m\u001b[0;34m\u001b[0m\u001b[0m\n\u001b[0;32m--> 142\u001b[0;31m             \u001b[0mself\u001b[0m\u001b[0;34m.\u001b[0m\u001b[0m_eval_predictions\u001b[0m\u001b[0;34m(\u001b[0m\u001b[0mset\u001b[0m\u001b[0;34m(\u001b[0m\u001b[0mself\u001b[0m\u001b[0;34m.\u001b[0m\u001b[0m_tasks\u001b[0m\u001b[0;34m)\u001b[0m\u001b[0;34m,\u001b[0m \u001b[0mpredictions\u001b[0m\u001b[0;34m)\u001b[0m\u001b[0;34m\u001b[0m\u001b[0;34m\u001b[0m\u001b[0m\n\u001b[0m\u001b[1;32m    143\u001b[0m         \u001b[0;31m# Copy so the caller can do whatever with results\u001b[0m\u001b[0;34m\u001b[0m\u001b[0;34m\u001b[0m\u001b[0;34m\u001b[0m\u001b[0m\n\u001b[1;32m    144\u001b[0m         \u001b[0;32mreturn\u001b[0m \u001b[0mcopy\u001b[0m\u001b[0;34m.\u001b[0m\u001b[0mdeepcopy\u001b[0m\u001b[0;34m(\u001b[0m\u001b[0mself\u001b[0m\u001b[0;34m.\u001b[0m\u001b[0m_results\u001b[0m\u001b[0;34m)\u001b[0m\u001b[0;34m\u001b[0m\u001b[0;34m\u001b[0m\u001b[0m\n",
            "\u001b[0;32m/usr/local/lib/python3.6/dist-packages/detectron2/evaluation/coco_evaluation.py\u001b[0m in \u001b[0;36m_eval_predictions\u001b[0;34m(self, tasks, predictions)\u001b[0m\n\u001b[1;32m    162\u001b[0m                     \u001b[0mcategory_id\u001b[0m \u001b[0;32min\u001b[0m \u001b[0mreverse_id_mapping\u001b[0m\u001b[0;34m\u001b[0m\u001b[0;34m\u001b[0m\u001b[0m\n\u001b[1;32m    163\u001b[0m                 \u001b[0;34m)\u001b[0m\u001b[0;34m,\u001b[0m \u001b[0;34m\"A prediction has category_id={}, which is not available in the dataset.\"\u001b[0m\u001b[0;34m.\u001b[0m\u001b[0mformat\u001b[0m\u001b[0;34m(\u001b[0m\u001b[0;34m\u001b[0m\u001b[0;34m\u001b[0m\u001b[0m\n\u001b[0;32m--> 164\u001b[0;31m                     \u001b[0mcategory_id\u001b[0m\u001b[0;34m\u001b[0m\u001b[0;34m\u001b[0m\u001b[0m\n\u001b[0m\u001b[1;32m    165\u001b[0m                 )\n\u001b[1;32m    166\u001b[0m                 \u001b[0mresult\u001b[0m\u001b[0;34m[\u001b[0m\u001b[0;34m\"category_id\"\u001b[0m\u001b[0;34m]\u001b[0m \u001b[0;34m=\u001b[0m \u001b[0mreverse_id_mapping\u001b[0m\u001b[0;34m[\u001b[0m\u001b[0mcategory_id\u001b[0m\u001b[0;34m]\u001b[0m\u001b[0;34m\u001b[0m\u001b[0;34m\u001b[0m\u001b[0m\n",
            "\u001b[0;31mAssertionError\u001b[0m: A prediction has category_id=15, which is not available in the dataset."
          ]
        }
      ]
    },
    {
      "cell_type": "markdown",
      "metadata": {
        "id": "wZ6lYrCqLLLW",
        "colab_type": "text"
      },
      "source": [
        "## Benchmark inference speed"
      ]
    },
    {
      "cell_type": "code",
      "metadata": {
        "id": "PxRHYcAC_Z0f",
        "colab_type": "code",
        "outputId": "ebe5d131-0295-4263-b7cc-0f86abf02ff2",
        "colab": {
          "base_uri": "https://localhost:8080/",
          "height": 34
        }
      },
      "source": [
        "import time\n",
        "times = []\n",
        "for i in range(20):\n",
        "    start_time = time.time()\n",
        "    outputs = predictor(im)\n",
        "    delta = time.time() - start_time\n",
        "    times.append(delta)\n",
        "mean_delta = np.array(times).mean()\n",
        "fps = 1 / mean_delta\n",
        "print(\"Average(sec):{:.2f},fps:{:.2f}\".format(mean_delta, fps))"
      ],
      "execution_count": 41,
      "outputs": [
        {
          "output_type": "stream",
          "text": [
            "Average(sec):0.08,fps:12.25\n"
          ],
          "name": "stdout"
        }
      ]
    },
    {
      "cell_type": "code",
      "metadata": {
        "id": "XoLEZiJSshn2",
        "colab_type": "code",
        "colab": {}
      },
      "source": [
        ""
      ],
      "execution_count": 0,
      "outputs": []
    },
    {
      "cell_type": "code",
      "metadata": {
        "id": "WFMOqBbWEh5v",
        "colab_type": "code",
        "colab": {}
      },
      "source": [
        ""
      ],
      "execution_count": 0,
      "outputs": []
    }
  ]
}