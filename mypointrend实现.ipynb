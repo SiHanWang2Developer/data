{
  "nbformat": 4,
  "nbformat_minor": 0,
  "metadata": {
    "colab": {
      "name": "mypointrend实现.ipynb",
      "provenance": [],
      "collapsed_sections": [],
      "authorship_tag": "ABX9TyO9iWqBqAi1DR3TiG8TVZRn",
      "include_colab_link": true
    },
    "kernelspec": {
      "name": "python3",
      "display_name": "Python 3"
    },
    "accelerator": "GPU"
  },
  "cells": [
    {
      "cell_type": "markdown",
      "metadata": {
        "id": "view-in-github",
        "colab_type": "text"
      },
      "source": [
        "<a href=\"https://colab.research.google.com/github/SiHanWang2Developer/data/blob/master/mypointrend%E5%AE%9E%E7%8E%B0.ipynb\" target=\"_parent\"><img src=\"https://colab.research.google.com/assets/colab-badge.svg\" alt=\"Open In Colab\"/></a>"
      ]
    },
    {
      "cell_type": "markdown",
      "metadata": {
        "id": "bd-k5tBOTIw-",
        "colab_type": "text"
      },
      "source": [
        "## Install detectron2"
      ]
    },
    {
      "cell_type": "markdown",
      "metadata": {
        "id": "6_zCYwYqTPPZ",
        "colab_type": "text"
      },
      "source": [
        "查询GPU运行状态"
      ]
    },
    {
      "cell_type": "code",
      "metadata": {
        "id": "FkRB6PImftCD",
        "colab_type": "code",
        "outputId": "96e62634-6d44-4457-8370-ec2e6673818c",
        "colab": {
          "base_uri": "https://localhost:8080/",
          "height": 289
        }
      },
      "source": [
        "!/opt/bin/nvidia-smi"
      ],
      "execution_count": 0,
      "outputs": [
        {
          "output_type": "stream",
          "text": [
            "Fri Mar 27 14:59:03 2020       \n",
            "+-----------------------------------------------------------------------------+\n",
            "| NVIDIA-SMI 418.67       Driver Version: 418.67       CUDA Version: 10.1     |\n",
            "|-------------------------------+----------------------+----------------------+\n",
            "| GPU  Name        Persistence-M| Bus-Id        Disp.A | Volatile Uncorr. ECC |\n",
            "| Fan  Temp  Perf  Pwr:Usage/Cap|         Memory-Usage | GPU-Util  Compute M. |\n",
            "|===============================+======================+======================|\n",
            "|   0  Tesla K80           Off  | 00000000:00:04.0 Off |                    0 |\n",
            "| N/A   73C    P0    75W / 149W |    802MiB / 11441MiB |      0%      Default |\n",
            "+-------------------------------+----------------------+----------------------+\n",
            "                                                                               \n",
            "+-----------------------------------------------------------------------------+\n",
            "| Processes:                                                       GPU Memory |\n",
            "|  GPU       PID   Type   Process name                             Usage      |\n",
            "|=============================================================================|\n",
            "+-----------------------------------------------------------------------------+\n"
          ],
          "name": "stdout"
        }
      ]
    },
    {
      "cell_type": "code",
      "metadata": {
        "id": "lnbBl_0uTCoG",
        "colab_type": "code",
        "colab": {}
      },
      "source": [
        "# install dependencies: 安装依赖项\n",
        "# (use +cu100 because colab is on CUDA 10.0)\n",
        "!pip install -U torch==1.4+cu100 torchvision==0.5+cu100 -f https://download.pytorch.org/whl/torch_stable.html \n",
        "!pip install cython pyyaml==5.1\n",
        "!pip install -U 'git+https://github.com/cocodataset/cocoapi.git#subdirectory=PythonAPI'\n",
        "import torch, torchvision\n",
        "torch.__version__"
      ],
      "execution_count": 0,
      "outputs": []
    },
    {
      "cell_type": "code",
      "metadata": {
        "id": "1sot1SKjS3Hn",
        "colab_type": "code",
        "colab": {}
      },
      "source": [
        "# install detectron2: 安装detectron2 \n",
        "!pip install detectron2==0.1.1 -f https://dl.fbaipublicfiles.com/detectron2/wheels/cu100/index.html\n",
        "# clone the repo to access PointRend code.  克隆detectron2获取pointrend代码Use the same version as the installed detectron2\n",
        "# !git clone --branch v0.1.1 https://github.com/facebookresearch/detectron2 detectron2_repo"
      ],
      "execution_count": 0,
      "outputs": []
    },
    {
      "cell_type": "markdown",
      "metadata": {
        "id": "FdPfWmy4h5_9",
        "colab_type": "text"
      },
      "source": [
        "连接Google Drive \n",
        "加载 数据集 和 detectron2_repo"
      ]
    },
    {
      "cell_type": "code",
      "metadata": {
        "id": "yl9--fS8h4aJ",
        "colab_type": "code",
        "colab": {}
      },
      "source": [
        "from google.colab import drive\n",
        "drive.mount('/content/drive')"
      ],
      "execution_count": 0,
      "outputs": []
    },
    {
      "cell_type": "code",
      "metadata": {
        "id": "RmCe3-78TUGl",
        "colab_type": "code",
        "colab": {}
      },
      "source": [
        "# You may need to restart your runtime prior to this, to let your installation take effect\n",
        "# Some basic setup:\n",
        "# Setup detectron2 logger\n",
        "# 您可能需要在此之前重新启动runtime，以使安装生效\n",
        "# 一些基本设置：\n",
        "# 设置detectron2记录器\n",
        "import detectron2\n",
        "from detectron2.utils.logger import setup_logger\n",
        "setup_logger()\n",
        "\n",
        "# import some common libraries导入一些常见的库\n",
        "import numpy as np\n",
        "import cv2\n",
        "import torch\n",
        "from google.colab.patches import cv2_imshow\n",
        "\n",
        "# import some common detectron2 utilities导入一些常见的detectron2包\n",
        "from detectron2 import model_zoo\n",
        "from detectron2.engine import DefaultPredictor\n",
        "from detectron2.config import get_cfg\n",
        "from detectron2.utils.visualizer import Visualizer, ColorMode\n",
        "from detectron2.data import MetadataCatalog\n",
        "coco_metadata = MetadataCatalog.get(\"coco_2017_val\")\n",
        "\n",
        "# import PointRend project  导入PointRend项目\n",
        "import sys; sys.path.insert(1, \"detectron2_repo/projects/PointRend\")\n",
        "import point_rend"
      ],
      "execution_count": 0,
      "outputs": []
    },
    {
      "cell_type": "markdown",
      "metadata": {
        "id": "s4aAIxBoUnag",
        "colab_type": "text"
      },
      "source": [
        "## 运行预训练的PointRend模型"
      ]
    },
    {
      "cell_type": "markdown",
      "metadata": {
        "id": "TNoWEPq9Uq0p",
        "colab_type": "text"
      },
      "source": [
        "//   ![替代文字](https://)我们首先从COCO数据集中下载图像："
      ]
    },
    {
      "cell_type": "code",
      "metadata": {
        "id": "dq9GY37ml1kr",
        "colab_type": "code",
        "colab": {}
      },
      "source": [
        "!wget http://images.cocodataset.org/val2017/000000005477.jpg -q -O input.jpg\n",
        "im = cv2.imread(\"./input.jpg\")\n",
        "cv2_imshow(im)"
      ],
      "execution_count": 0,
      "outputs": []
    },
    {
      "cell_type": "markdown",
      "metadata": {
        "id": "IU4PHpjJjPQ3",
        "colab_type": "text"
      },
      "source": [
        "加载私人数据集 下载图像"
      ]
    },
    {
      "cell_type": "code",
      "metadata": {
        "id": "I8n3T7KAjWrO",
        "colab_type": "code",
        "colab": {}
      },
      "source": [
        "# !wget http://images.cocodataset.org/val2017/000000005477.jpg -q -O input.jpg\n",
        "input.jpg=\"./drive/My Drive/......[具体路径]\"\n",
        "im = cv2.imread(\"./input.jpg\")\n",
        "cv2_imshow(im)"
      ],
      "execution_count": 0,
      "outputs": []
    },
    {
      "cell_type": "markdown",
      "metadata": {
        "id": "5cvcOHAnU1PZ",
        "colab_type": "text"
      },
      "source": [
        "然后，我们创建一个detectron2 config 和一个detectron2 DefaultPredictor以在该mask上运行推理。\n",
        "\n",
        "首先，我们使用标准的Mask R-CNN模型进行预测。"
      ]
    },
    {
      "cell_type": "code",
      "metadata": {
        "id": "uIL2ec22VNKh",
        "colab_type": "code",
        "colab": {}
      },
      "source": [
        "# cfg.merge_from_file(model_zoo.get_config_file(\"COCO-InstanceSegmentation/mask_rcnn_R_50_FPN_3x.yaml\"))\n",
        "# cfg.MODEL.ROI_HEADS.SCORE_THRESH_TEST = 0.5  # set threshold for this model为此模型设置阀值\n",
        "# cfg.MODEL.WEIGHTS = model_zoo.get_checkpoint_url(\"COCO-InstanceSegmentation/mask_rcnn_R_50_FPN_3x.yaml\")\n",
        "# mask_rcnn_predictor = DefaultPredictor(cfg)\n",
        "# mask_rcnn_outputs = mask_rcnn_predictor(im)"
      ],
      "execution_count": 0,
      "outputs": []
    },
    {
      "cell_type": "markdown",
      "metadata": {
        "id": "FyaeYyilU8pH",
        "colab_type": "text"
      },
      "source": [
        "现在，我们加载一个PointRend模型并显示其预测。"
      ]
    },
    {
      "cell_type": "code",
      "metadata": {
        "id": "HUjkwRsOn1O0",
        "colab_type": "code",
        "colab": {}
      },
      "source": [
        "cfg = get_cfg()\n",
        "# Add PointRend-specific config添加PointRend特定的配置\n",
        "point_rend.add_pointrend_config(cfg)\n",
        "# Load a config from file从文件加载配置\n",
        "cfg.merge_from_file(\"[具体路径]detectron2_repo/projects/PointRend/configs/InstanceSegmentation/pointrend_rcnn_R_50_FPN_3x_coco.yaml\")\n",
        "cfg.MODEL.ROI_HEADS.SCORE_THRESH_TEST = 0.5  # set threshold for this model为此模型设置阀值\n",
        "# Use a model from PointRend model zoo:使用PointRend model zoo中的模型 https://github.com/facebookresearch/detectron2/tree/master/projects/PointRend#pretrained-models\n",
        "cfg.MODEL.WEIGHTS = \"https://dl.fbaipublicfiles.com/detectron2/PointRend/InstanceSegmentation/pointrend_rcnn_R_50_FPN_3x_coco/164955410/model_final_3c3198.pkl\"\n",
        "predictor = DefaultPredictor(cfg)\n",
        "outputs = predictor(im)"
      ],
      "execution_count": 0,
      "outputs": []
    },
    {
      "cell_type": "code",
      "metadata": {
        "id": "8IRGo8d0qkgR",
        "colab_type": "code",
        "colab": {}
      },
      "source": [
        "# Show and compare two predictions: 显示并比较两个预测\n",
        "# v = Visualizer(im[:, :, ::-1], coco_metadata, scale=1.2, instance_mode=ColorMode.IMAGE_BW)\n",
        "# mask_rcnn_result = v.draw_instance_predictions(mask_rcnn_outputs[\"instances\"].to(\"cpu\")).get_image()\n",
        "v = Visualizer(im[:, :, ::-1], coco_metadata, scale=1.2, instance_mode=ColorMode.IMAGE_BW)\n",
        "point_rend_result = v.draw_instance_predictions(outputs[\"instances\"].to(\"cpu\")).get_image()\n",
        "print(\"Mask R-CNN with PointRend (top)     vs.     Default Mask R-CNN (bottom)\")\n",
        "# cv2_imshow(np.concatenate((point_rend_result, mask_rcnn_result), axis=0)[:, :, ::-1])\n",
        "cv2_imshow((（point_rend_result）axis=0）[:, :, ::-1])"
      ],
      "execution_count": 0,
      "outputs": []
    },
    {
      "cell_type": "markdown",
      "metadata": {
        "id": "j014RCwcrejJ",
        "colab_type": "text"
      },
      "source": [
        "\n",
        "\n",
        "---\n",
        "\n",
        "\n",
        "\n",
        "---\n",
        "\n"
      ]
    },
    {
      "cell_type": "markdown",
      "metadata": {
        "id": "sphVw4JiXz68",
        "colab_type": "text"
      },
      "source": [
        "## 训练PointRend模型"
      ]
    },
    {
      "cell_type": "code",
      "metadata": {
        "id": "HQAtJOKMX9Dn",
        "colab_type": "code",
        "colab": {}
      },
      "source": [
        "import os\n",
        "import torch\n",
        "\n",
        "import detectron2.utils.comm as comm\n",
        "from detectron2.checkpoint import DetectionCheckpointer\n",
        "# from detectron2.config import get_cfg\n",
        "# from detectron2.data import MetadataCatalog\n",
        "from detectron2.engine import DefaultTrainer, default_argument_parser, default_setup, launch\n",
        "from detectron2.evaluation import (\n",
        "    CityscapesEvaluator,\n",
        "    COCOEvaluator,\n",
        "    DatasetEvaluators,\n",
        "    LVISEvaluator,\n",
        "    verify_results,\n",
        ")\n",
        "\n",
        "\n",
        "from point_rend import add_pointrend_config  #projects.PointRend.point_rend.config"
      ],
      "execution_count": 0,
      "outputs": []
    },
    {
      "cell_type": "markdown",
      "metadata": {
        "id": "geABDZmBpClL",
        "colab_type": "text"
      },
      "source": [
        ""
      ]
    },
    {
      "cell_type": "code",
      "metadata": {
        "id": "2cgp6_pEmlVL",
        "colab_type": "code",
        "colab": {}
      },
      "source": [
        "class Trainer(DefaultTrainer): #from detectron2.engine import DefaultTrainer \n",
        "    \"\"\"\n",
        "    We use the \"DefaultTrainer\" which contains a number pre-defined logic for standard training workflow.\n",
        "    我们使用“ DefaultTrainer”，其中包含一些 用于标准训练工作流程的 预定义逻辑。\n",
        "    They may not work for you, especially if you are working on a new research project. \n",
        "    它们可能对您不起作用，特别是如果您正在从事新的研究项目。\n",
        "    In that case you can use the cleaner \"SimpleTrainer\", or write your own training loop.\n",
        "    在这种情况下，您可以使用cleaner“ SimpleTrainer”，也可以编写自己的训练循环\n",
        "    \"\"\"\n",
        "\n",
        "    @classmethod\n",
        "    def build_evaluator(cls, cfg, dataset_name, output_folder=None):\n",
        "        \"\"\"\n",
        "        Create evaluator(s) for a given dataset.\n",
        "        为给定的数据集创建评估器。\n",
        "        This uses the special metadata \"evaluator_type\" associated with each builtin dataset.\n",
        "        这将使用 与每个内置数据集关联的 特殊元数据（metadata）“!!!evaluator_type!!!”。\n",
        "        For your own dataset, you can simply create an evaluator manually in your script and do not have to worry about the hacky if-else logic here.\n",
        "        对于您自己的数据集，您只需在脚本中手动创建一个 评估器 ，而不必担心这里的hacky if-else逻辑\n",
        "        对于您自己的数据集，您只需在脚本中手动创建一个 评估器\n",
        "        只需在脚本中手动创建一个 评估器\n",
        "        手动创建一个 评估器\n",
        "        \"\"\"\n",
        "        if output_folder is None:\n",
        "            output_folder = os.path.join(cfg.OUTPUT_DIR, \"inference\")\n",
        "        evaluator_list = []\n",
        "        evaluator_type = MetadataCatalog.get(dataset_name).evaluator_type \n",
        "        #与每个内置数据集关联的 特殊元数据（metadata）“!!!evaluator_type!!!”\n",
        "\n",
        "       \"\"\"   \n",
        "       我的数据集evaluator_type='coco',！！！！！！！！！！！！！！！！！！！！\n",
        "Metadata(\n",
        "  evaluator_type='coco', \n",
        "  image_root='./drive/My Drive/pic500_28class/images', \n",
        "  json_file='./drive/My Drive/pic500_28class/train.json', name='wzb', \n",
        "  thing_classes=['piezhe', 'heng', 'hengzhewangou', 'pie', 'na', 'shuwangou', 'henggou','hengzheti', 'shuwan',\n",
        "       'shugou', 'hengzhegou', 'hengzhezhezhegou', 'hengpie', 'shu', 'shuzhezhegou', 'dian', 'wangou', 'ti', 'shuti', \n",
        "       'shuzhe', 'wogou', 'hengzhe', 'xiegou', 'hengzhezhepie', 'hengzhewan', 'piedian', 'hengzhepie', 'hengxiegou' ], \n",
        "  thing_dataset_id_to_contiguous_id={1: 0, 2: 1, 3: 2, 4: 3, 5: 4, 6: 5, 7: 6, 8: 7, 9: 8, 10: 9, 11: 10, 12: 11, 13: 12, 14: 13, 15: 14, 16: 15, 17: 16, 18: 17, 19: 18, 20: 19, 21: 20, 22: 21, 23: 22, 24: 23, 25: 24, 26: 25, 27: 26, 28: 27})\n",
        "       \"\"\"\n",
        "       \n",
        "       if evaluator_type == \"lvis\":\n",
        "            return LVISEvaluator(dataset_name, cfg, True, output_folder)\n",
        "        if evaluator_type == \"coco\":#我的数据集类型是coco\n",
        "            return COCOEvaluator(dataset_name, cfg, True, output_folder)\n",
        "        if evaluator_type == \"cityscapes\":\n",
        "            assert (\n",
        "                torch.cuda.device_count() >= comm.get_rank()\n",
        "            ), \"CityscapesEvaluator currently do not work with multiple machines.\"\n",
        "            return CityscapesEvaluator(dataset_name)\n",
        "        if len(evaluator_list) == 0:\n",
        "            raise NotImplementedError(\n",
        "                \"no Evaluator for the dataset {} with the type {}\".format(\n",
        "                    dataset_name, evaluator_type\n",
        "                )\n",
        "            )\n",
        "        if len(evaluator_list) == 1:\n",
        "            return evaluator_list[0]\n",
        "        return DatasetEvaluators(evaluator_list)\n",
        "\n",
        "\n",
        "\n"
      ],
      "execution_count": 0,
      "outputs": []
    },
    {
      "cell_type": "markdown",
      "metadata": {
        "id": "SoaP0EQaop5A",
        "colab_type": "text"
      },
      "source": [
        "Create configs and perform basic setups.创建配置configs并执行基本设置 basic setups"
      ]
    },
    {
      "cell_type": "code",
      "metadata": {
        "id": "S4bK7n5jon1a",
        "colab_type": "code",
        "colab": {}
      },
      "source": [
        "\n",
        "def setup(args):\n",
        "    \"\"\"\n",
        "    Create configs and perform basic setups.创建配置并执行基本设置\n",
        "    \"\"\"\n",
        "    cfg = get_cfg()\n",
        "    add_pointrend_config(cfg)\n",
        "    cfg.merge_from_file(args.config_file)#.merge_from_file\n",
        "    cfg.merge_from_list(args.opts)#.merge_from_list\n",
        "    cfg.freeze()\n",
        "    default_setup(cfg, args)#来自detectron2.engine.default.py文件中的default_setup：在工作开始时执行一些基本的通用设置，\n",
        "    return cfg"
      ],
      "execution_count": 0,
      "outputs": []
    },
    {
      "cell_type": "markdown",
      "metadata": {
        "id": "WjenN-IjpAy1",
        "colab_type": "text"
      },
      "source": [
        ""
      ]
    },
    {
      "cell_type": "code",
      "metadata": {
        "id": "x60dYMtBo_t8",
        "colab_type": "code",
        "colab": {}
      },
      "source": [
        "def main(args):\n",
        "    cfg = setup(args)\n",
        "\n",
        "    if args.eval_only:\n",
        "        model = Trainer.build_model(cfg)\n",
        "        DetectionCheckpointer(model, save_dir=cfg.OUTPUT_DIR).resume_or_load(\n",
        "            cfg.MODEL.WEIGHTS, resume=args.resume\n",
        "        )\n",
        "        res = Trainer.test(cfg, model)\n",
        "        if comm.is_main_process():\n",
        "            verify_results(cfg, res)\n",
        "        return res\n",
        "\n",
        "    trainer = Trainer(cfg)  #Trainer(DefaultTrainer):\n",
        "    trainer.resume_or_load(resume=args.resume)\n",
        "    return trainer.train()"
      ],
      "execution_count": 0,
      "outputs": []
    },
    {
      "cell_type": "markdown",
      "metadata": {
        "id": "S5OHxLjIpHfy",
        "colab_type": "text"
      },
      "source": [
        ""
      ]
    },
    {
      "cell_type": "code",
      "metadata": {
        "id": "DO8QXm-3pIH_",
        "colab_type": "code",
        "colab": {}
      },
      "source": [
        "if __name__ == \"__main__\":\n",
        "    args = default_argument_parser().parse_args()  ##来自detectron2.engine.default.py文件中的default__parser() \n",
        "    print(\"Command Line Args:\", args)\n",
        "    launch(  #from detectron2.engine import  launch\n",
        "        main,\n",
        "        args.num_gpus,\n",
        "        num_machines=args.num_machines,\n",
        "        machine_rank=args.machine_rank,\n",
        "        dist_url=args.dist_url,\n",
        "        args=(args,),\n",
        "    )"
      ],
      "execution_count": 0,
      "outputs": []
    },
    {
      "cell_type": "code",
      "metadata": {
        "id": "_u-e-9dKpIwD",
        "colab_type": "code",
        "colab": {}
      },
      "source": [
        "# To train a model with 1 GPUs run:\n",
        "cd /path/to/detectron2/projects/PointRend\n",
        "python train_net.py --config-file configs/InstanceSegmentation/pointrend_rcnn_R_50_FPN_1x_coco.yaml --num-gpus 1"
      ],
      "execution_count": 0,
      "outputs": []
    },
    {
      "cell_type": "code",
      "metadata": {
        "id": "EYmKpMbwpvVw",
        "colab_type": "code",
        "colab": {}
      },
      "source": [
        "# Model evaluation can be done similarly:\n",
        "cd /path/to/detectron2/projects/PointRend\n",
        "python train_net.py --config-file configs/InstanceSegmentation/pointrend_rcnn_R_50_FPN_1x_coco.yaml --eval-only MODEL.WEIGHTS /path/to/model_checkpoint\n"
      ],
      "execution_count": 0,
      "outputs": []
    }
  ]
}