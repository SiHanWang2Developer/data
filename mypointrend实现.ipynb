{
  "nbformat": 4,
  "nbformat_minor": 0,
  "metadata": {
    "colab": {
      "name": "mypointrend实现.ipynb",
      "provenance": [],
      "collapsed_sections": [],
      "authorship_tag": "ABX9TyOBga+IbvYJ6hDNXs1Z7MU2",
      "include_colab_link": true
    },
    "kernelspec": {
      "name": "python3",
      "display_name": "Python 3"
    },
    "accelerator": "GPU"
  },
  "cells": [
    {
      "cell_type": "markdown",
      "metadata": {
        "id": "view-in-github",
        "colab_type": "text"
      },
      "source": [
        "<a href=\"https://colab.research.google.com/github/SiHanWang2Developer/data/blob/master/mypointrend%E5%AE%9E%E7%8E%B0.ipynb\" target=\"_parent\"><img src=\"https://colab.research.google.com/assets/colab-badge.svg\" alt=\"Open In Colab\"/></a>"
      ]
    },
    {
      "cell_type": "markdown",
      "metadata": {
        "id": "bd-k5tBOTIw-",
        "colab_type": "text"
      },
      "source": [
        "## Install detectron2"
      ]
    },
    {
      "cell_type": "markdown",
      "metadata": {
        "id": "6_zCYwYqTPPZ",
        "colab_type": "text"
      },
      "source": [
        "查询GPU运行状态"
      ]
    },
    {
      "cell_type": "code",
      "metadata": {
        "id": "FkRB6PImftCD",
        "colab_type": "code",
        "outputId": "96e62634-6d44-4457-8370-ec2e6673818c",
        "colab": {
          "base_uri": "https://localhost:8080/",
          "height": 289
        }
      },
      "source": [
        "!/opt/bin/nvidia-smi"
      ],
      "execution_count": 0,
      "outputs": [
        {
          "output_type": "stream",
          "text": [
            "Fri Mar 27 14:59:03 2020       \n",
            "+-----------------------------------------------------------------------------+\n",
            "| NVIDIA-SMI 418.67       Driver Version: 418.67       CUDA Version: 10.1     |\n",
            "|-------------------------------+----------------------+----------------------+\n",
            "| GPU  Name        Persistence-M| Bus-Id        Disp.A | Volatile Uncorr. ECC |\n",
            "| Fan  Temp  Perf  Pwr:Usage/Cap|         Memory-Usage | GPU-Util  Compute M. |\n",
            "|===============================+======================+======================|\n",
            "|   0  Tesla K80           Off  | 00000000:00:04.0 Off |                    0 |\n",
            "| N/A   73C    P0    75W / 149W |    802MiB / 11441MiB |      0%      Default |\n",
            "+-------------------------------+----------------------+----------------------+\n",
            "                                                                               \n",
            "+-----------------------------------------------------------------------------+\n",
            "| Processes:                                                       GPU Memory |\n",
            "|  GPU       PID   Type   Process name                             Usage      |\n",
            "|=============================================================================|\n",
            "+-----------------------------------------------------------------------------+\n"
          ],
          "name": "stdout"
        }
      ]
    },
    {
      "cell_type": "code",
      "metadata": {
        "id": "lnbBl_0uTCoG",
        "colab_type": "code",
        "colab": {}
      },
      "source": [
        "# install dependencies: 安装依赖项\n",
        "# (use +cu100 because colab is on CUDA 10.0)\n",
        "!pip install -U torch==1.4+cu100 torchvision==0.5+cu100 -f https://download.pytorch.org/whl/torch_stable.html \n",
        "!pip install cython pyyaml==5.1\n",
        "!pip install -U 'git+https://github.com/cocodataset/cocoapi.git#subdirectory=PythonAPI'\n",
        "import torch, torchvision\n",
        "torch.__version__"
      ],
      "execution_count": 0,
      "outputs": []
    },
    {
      "cell_type": "code",
      "metadata": {
        "id": "1sot1SKjS3Hn",
        "colab_type": "code",
        "colab": {}
      },
      "source": [
        "# install detectron2: 安装detectron2 \n",
        "!pip install detectron2==0.1.1 -f https://dl.fbaipublicfiles.com/detectron2/wheels/cu100/index.html\n",
        "# clone the repo to access PointRend code.  克隆detectron2获取pointrend代码Use the same version as the installed detectron2\n",
        "# !git clone --branch v0.1.1 https://github.com/facebookresearch/detectron2 detectron2_repo"
      ],
      "execution_count": 0,
      "outputs": []
    },
    {
      "cell_type": "markdown",
      "metadata": {
        "id": "FdPfWmy4h5_9",
        "colab_type": "text"
      },
      "source": [
        "连接Google Drive \n",
        "加载 数据集 和 detectron2_repo"
      ]
    },
    {
      "cell_type": "code",
      "metadata": {
        "id": "yl9--fS8h4aJ",
        "colab_type": "code",
        "colab": {}
      },
      "source": [
        "from google.colab import drive\n",
        "drive.mount('/content/drive')"
      ],
      "execution_count": 0,
      "outputs": []
    },
    {
      "cell_type": "code",
      "metadata": {
        "id": "RmCe3-78TUGl",
        "colab_type": "code",
        "colab": {}
      },
      "source": [
        "# You may need to restart your runtime prior to this, to let your installation take effect\n",
        "# Some basic setup:\n",
        "# Setup detectron2 logger\n",
        "# 您可能需要在此之前重新启动runtime，以使安装生效\n",
        "# 一些基本设置：\n",
        "# 设置detectron2记录器\n",
        "import detectron2\n",
        "from detectron2.utils.logger import setup_logger\n",
        "setup_logger()\n",
        "\n",
        "# import some common libraries导入一些常见的库\n",
        "import numpy as np\n",
        "import cv2\n",
        "import torch\n",
        "from google.colab.patches import cv2_imshow\n",
        "\n",
        "# import some common detectron2 utilities导入一些常见的detectron2包\n",
        "from detectron2 import model_zoo\n",
        "from detectron2.engine import DefaultPredictor\n",
        "from detectron2.config import get_cfg\n",
        "from detectron2.utils.visualizer import Visualizer, ColorMode\n",
        "from detectron2.data import MetadataCatalog\n",
        "coco_metadata = MetadataCatalog.get(\"coco_2017_val\")\n",
        "\n",
        "# import PointRend project  导入PointRend项目\n",
        "import sys; sys.path.insert(1, \"detectron2_repo/projects/PointRend\")\n",
        "import point_rend"
      ],
      "execution_count": 0,
      "outputs": []
    },
    {
      "cell_type": "markdown",
      "metadata": {
        "id": "s4aAIxBoUnag",
        "colab_type": "text"
      },
      "source": [
        "## 运行预训练的PointRend模型"
      ]
    },
    {
      "cell_type": "markdown",
      "metadata": {
        "id": "TNoWEPq9Uq0p",
        "colab_type": "text"
      },
      "source": [
        "//   ![替代文字](https://)我们首先从COCO数据集中下载图像："
      ]
    },
    {
      "cell_type": "code",
      "metadata": {
        "id": "dq9GY37ml1kr",
        "colab_type": "code",
        "colab": {}
      },
      "source": [
        "!wget http://images.cocodataset.org/val2017/000000005477.jpg -q -O input.jpg\n",
        "im = cv2.imread(\"./input.jpg\")\n",
        "cv2_imshow(im)"
      ],
      "execution_count": 0,
      "outputs": []
    },
    {
      "cell_type": "markdown",
      "metadata": {
        "id": "IU4PHpjJjPQ3",
        "colab_type": "text"
      },
      "source": [
        "加载私人数据集 下载图像"
      ]
    },
    {
      "cell_type": "code",
      "metadata": {
        "id": "I8n3T7KAjWrO",
        "colab_type": "code",
        "colab": {}
      },
      "source": [
        "# !wget http://images.cocodataset.org/val2017/000000005477.jpg -q -O input.jpg\n",
        "input.jpg=\"./drive/My Drive/......[具体路径]\"\n",
        "im = cv2.imread(\"./input.jpg\")\n",
        "cv2_imshow(im)"
      ],
      "execution_count": 0,
      "outputs": []
    },
    {
      "cell_type": "markdown",
      "metadata": {
        "id": "5cvcOHAnU1PZ",
        "colab_type": "text"
      },
      "source": [
        "然后，我们创建一个detectron2 config 和一个detectron2 DefaultPredictor以在该mask上运行推理。\n",
        "\n",
        "首先，我们使用标准的Mask R-CNN模型进行预测。"
      ]
    },
    {
      "cell_type": "code",
      "metadata": {
        "id": "uIL2ec22VNKh",
        "colab_type": "code",
        "colab": {}
      },
      "source": [
        "# cfg.merge_from_file(model_zoo.get_config_file(\"COCO-InstanceSegmentation/mask_rcnn_R_50_FPN_3x.yaml\"))\n",
        "# cfg.MODEL.ROI_HEADS.SCORE_THRESH_TEST = 0.5  # set threshold for this model为此模型设置阀值\n",
        "# cfg.MODEL.WEIGHTS = model_zoo.get_checkpoint_url(\"COCO-InstanceSegmentation/mask_rcnn_R_50_FPN_3x.yaml\")\n",
        "# mask_rcnn_predictor = DefaultPredictor(cfg)\n",
        "# mask_rcnn_outputs = mask_rcnn_predictor(im)"
      ],
      "execution_count": 0,
      "outputs": []
    },
    {
      "cell_type": "markdown",
      "metadata": {
        "id": "FyaeYyilU8pH",
        "colab_type": "text"
      },
      "source": [
        "现在，我们加载一个PointRend模型并显示其预测。"
      ]
    },
    {
      "cell_type": "code",
      "metadata": {
        "id": "HUjkwRsOn1O0",
        "colab_type": "code",
        "colab": {}
      },
      "source": [
        "cfg = get_cfg()\n",
        "# Add PointRend-specific config添加PointRend特定的配置\n",
        "point_rend.add_pointrend_config(cfg)\n",
        "# Load a config from file从文件加载配置\n",
        "cfg.merge_from_file(\"[具体路径]detectron2_repo/projects/PointRend/configs/InstanceSegmentation/pointrend_rcnn_R_50_FPN_3x_coco.yaml\")\n",
        "cfg.MODEL.ROI_HEADS.SCORE_THRESH_TEST = 0.5  # set threshold for this model为此模型设置阀值\n",
        "# Use a model from PointRend model zoo:使用PointRend model zoo中的模型 https://github.com/facebookresearch/detectron2/tree/master/projects/PointRend#pretrained-models\n",
        "cfg.MODEL.WEIGHTS = \"https://dl.fbaipublicfiles.com/detectron2/PointRend/InstanceSegmentation/pointrend_rcnn_R_50_FPN_3x_coco/164955410/model_final_3c3198.pkl\"\n",
        "predictor = DefaultPredictor(cfg)\n",
        "outputs = predictor(im)"
      ],
      "execution_count": 0,
      "outputs": []
    },
    {
      "cell_type": "code",
      "metadata": {
        "id": "8IRGo8d0qkgR",
        "colab_type": "code",
        "colab": {}
      },
      "source": [
        "# Show and compare two predictions: 显示并比较两个预测\n",
        "# v = Visualizer(im[:, :, ::-1], coco_metadata, scale=1.2, instance_mode=ColorMode.IMAGE_BW)\n",
        "# mask_rcnn_result = v.draw_instance_predictions(mask_rcnn_outputs[\"instances\"].to(\"cpu\")).get_image()\n",
        "v = Visualizer(im[:, :, ::-1], coco_metadata, scale=1.2, instance_mode=ColorMode.IMAGE_BW)\n",
        "point_rend_result = v.draw_instance_predictions(outputs[\"instances\"].to(\"cpu\")).get_image()\n",
        "print(\"Mask R-CNN with PointRend (top)     vs.     Default Mask R-CNN (bottom)\")\n",
        "# cv2_imshow(np.concatenate((point_rend_result, mask_rcnn_result), axis=0)[:, :, ::-1])\n",
        "cv2_imshow((（point_rend_result）axis=0）[:, :, ::-1])"
      ],
      "execution_count": 0,
      "outputs": []
    },
    {
      "cell_type": "markdown",
      "metadata": {
        "id": "sphVw4JiXz68",
        "colab_type": "text"
      },
      "source": [
        "## 训练PointRend模型"
      ]
    },
    {
      "cell_type": "code",
      "metadata": {
        "id": "HQAtJOKMX9Dn",
        "colab_type": "code",
        "colab": {}
      },
      "source": [
        ""
      ],
      "execution_count": 0,
      "outputs": []
    }
  ]
}